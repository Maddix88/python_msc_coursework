{
 "cells": [
  {
   "cell_type": "markdown",
   "id": "a4e855eb",
   "metadata": {},
   "source": [
    "To do list:\n",
    "\n",
    "- import the modules required\n",
    "- import data\n",
    "- filter out the columns required\n",
    "- clean the data (check for null values)\n",
    "- use TDD to process the text\n",
    "- split data into training and test data\n",
    "\n",
    "- use TDD to develop models (fit and predict)\n",
    "- measure accuracy of the models and decide whether to make improvements on the models\n",
    "- models that will be used: Naive bayes and support vector machines"
   ]
  },
  {
   "cell_type": "code",
   "execution_count": 36,
   "id": "2ba389db",
   "metadata": {},
   "outputs": [],
   "source": [
    "import pandas as pd\n",
    "import numpy as np\n",
    "import unittest\n",
    "import string\n",
    "from nltk import word_tokenize\n",
    "from nltk.corpus import stopwords\n",
    "from nltk.stem import WordNetLemmatizer\n",
    "from sklearn.feature_extraction.text import TfidfVectorizer"
   ]
  },
  {
   "cell_type": "code",
   "execution_count": null,
   "id": "5193b192",
   "metadata": {},
   "outputs": [],
   "source": []
  },
  {
   "cell_type": "markdown",
   "id": "c5d9bf20",
   "metadata": {},
   "source": [
    "### Import the data"
   ]
  },
  {
   "cell_type": "code",
   "execution_count": 37,
   "id": "a91f9c81",
   "metadata": {},
   "outputs": [
    {
     "data": {
      "text/html": [
       "<div>\n",
       "<style scoped>\n",
       "    .dataframe tbody tr th:only-of-type {\n",
       "        vertical-align: middle;\n",
       "    }\n",
       "\n",
       "    .dataframe tbody tr th {\n",
       "        vertical-align: top;\n",
       "    }\n",
       "\n",
       "    .dataframe thead th {\n",
       "        text-align: right;\n",
       "    }\n",
       "</style>\n",
       "<table border=\"1\" class=\"dataframe\">\n",
       "  <thead>\n",
       "    <tr style=\"text-align: right;\">\n",
       "      <th></th>\n",
       "      <th>name</th>\n",
       "      <th>developer</th>\n",
       "      <th>publisher</th>\n",
       "      <th>genre</th>\n",
       "      <th>release_date</th>\n",
       "      <th>description</th>\n",
       "      <th>critics_average_score</th>\n",
       "      <th>critic_review</th>\n",
       "      <th>date_of_review</th>\n",
       "      <th>critics_score</th>\n",
       "    </tr>\n",
       "  </thead>\n",
       "  <tbody>\n",
       "    <tr>\n",
       "      <th>0</th>\n",
       "      <td>The Outer Worlds</td>\n",
       "      <td>Obsidian Entertainment</td>\n",
       "      <td>Private Division</td>\n",
       "      <td>RPG</td>\n",
       "      <td>2019-10-25</td>\n",
       "      <td>The Outer Worlds is a new single-player first-...</td>\n",
       "      <td>82</td>\n",
       "      <td>There's a category of games I think of as Satu...</td>\n",
       "      <td>2019-10-22 00:00:00</td>\n",
       "      <td>79.0</td>\n",
       "    </tr>\n",
       "    <tr>\n",
       "      <th>1</th>\n",
       "      <td>The Outer Worlds</td>\n",
       "      <td>Obsidian Entertainment</td>\n",
       "      <td>Private Division</td>\n",
       "      <td>RPG</td>\n",
       "      <td>2019-10-25</td>\n",
       "      <td>The Outer Worlds is a new single-player first-...</td>\n",
       "      <td>82</td>\n",
       "      <td>With The Outer Worlds, Obsidian has found its ...</td>\n",
       "      <td>2019-10-22 00:00:00</td>\n",
       "      <td>85.0</td>\n",
       "    </tr>\n",
       "    <tr>\n",
       "      <th>2</th>\n",
       "      <td>The Outer Worlds</td>\n",
       "      <td>Obsidian Entertainment</td>\n",
       "      <td>Private Division</td>\n",
       "      <td>RPG</td>\n",
       "      <td>2019-10-25</td>\n",
       "      <td>The Outer Worlds is a new single-player first-...</td>\n",
       "      <td>82</td>\n",
       "      <td>A conventional, easygoing scifi RPG with sligh...</td>\n",
       "      <td>2019-10-22 00:00:00</td>\n",
       "      <td>NaN</td>\n",
       "    </tr>\n",
       "    <tr>\n",
       "      <th>3</th>\n",
       "      <td>The Outer Worlds</td>\n",
       "      <td>Obsidian Entertainment</td>\n",
       "      <td>Private Division</td>\n",
       "      <td>RPG</td>\n",
       "      <td>2019-10-25</td>\n",
       "      <td>The Outer Worlds is a new single-player first-...</td>\n",
       "      <td>82</td>\n",
       "      <td>A deep, funny, and intricately designed RPG re...</td>\n",
       "      <td>2019-10-29 00:00:00</td>\n",
       "      <td>90.0</td>\n",
       "    </tr>\n",
       "    <tr>\n",
       "      <th>4</th>\n",
       "      <td>The Outer Worlds</td>\n",
       "      <td>Obsidian Entertainment</td>\n",
       "      <td>Private Division</td>\n",
       "      <td>RPG</td>\n",
       "      <td>2019-10-25</td>\n",
       "      <td>The Outer Worlds is a new single-player first-...</td>\n",
       "      <td>82</td>\n",
       "      <td>The Outer Worlds marks Obsidian operating at t...</td>\n",
       "      <td>2019-10-22 00:00:00</td>\n",
       "      <td>90.0</td>\n",
       "    </tr>\n",
       "  </tbody>\n",
       "</table>\n",
       "</div>"
      ],
      "text/plain": [
       "                name               developer         publisher genre  \\\n",
       "0  The Outer Worlds   Obsidian Entertainment  Private Division   RPG   \n",
       "1  The Outer Worlds   Obsidian Entertainment  Private Division   RPG   \n",
       "2  The Outer Worlds   Obsidian Entertainment  Private Division   RPG   \n",
       "3  The Outer Worlds   Obsidian Entertainment  Private Division   RPG   \n",
       "4  The Outer Worlds   Obsidian Entertainment  Private Division   RPG   \n",
       "\n",
       "  release_date                                        description  \\\n",
       "0   2019-10-25  The Outer Worlds is a new single-player first-...   \n",
       "1   2019-10-25  The Outer Worlds is a new single-player first-...   \n",
       "2   2019-10-25  The Outer Worlds is a new single-player first-...   \n",
       "3   2019-10-25  The Outer Worlds is a new single-player first-...   \n",
       "4   2019-10-25  The Outer Worlds is a new single-player first-...   \n",
       "\n",
       "   critics_average_score                                      critic_review  \\\n",
       "0                     82  There's a category of games I think of as Satu...   \n",
       "1                     82  With The Outer Worlds, Obsidian has found its ...   \n",
       "2                     82  A conventional, easygoing scifi RPG with sligh...   \n",
       "3                     82  A deep, funny, and intricately designed RPG re...   \n",
       "4                     82  The Outer Worlds marks Obsidian operating at t...   \n",
       "\n",
       "        date_of_review  critics_score  \n",
       "0  2019-10-22 00:00:00           79.0  \n",
       "1  2019-10-22 00:00:00           85.0  \n",
       "2  2019-10-22 00:00:00            NaN  \n",
       "3  2019-10-29 00:00:00           90.0  \n",
       "4  2019-10-22 00:00:00           90.0  "
      ]
     },
     "execution_count": 37,
     "metadata": {},
     "output_type": "execute_result"
    }
   ],
   "source": [
    "df = pd.read_csv('opencritic_data_cleaned.csv', index_col= 'Unnamed: 0')\n",
    "\n",
    "df.head()"
   ]
  },
  {
   "cell_type": "markdown",
   "id": "e8b5b7af",
   "metadata": {},
   "source": [
    "Columns required for training and predicting the models:\n",
    "\n",
    "- critic_review\n",
    "- critics_score"
   ]
  },
  {
   "cell_type": "code",
   "execution_count": 38,
   "id": "49cd48af",
   "metadata": {},
   "outputs": [
    {
     "data": {
      "text/html": [
       "<div>\n",
       "<style scoped>\n",
       "    .dataframe tbody tr th:only-of-type {\n",
       "        vertical-align: middle;\n",
       "    }\n",
       "\n",
       "    .dataframe tbody tr th {\n",
       "        vertical-align: top;\n",
       "    }\n",
       "\n",
       "    .dataframe thead th {\n",
       "        text-align: right;\n",
       "    }\n",
       "</style>\n",
       "<table border=\"1\" class=\"dataframe\">\n",
       "  <thead>\n",
       "    <tr style=\"text-align: right;\">\n",
       "      <th></th>\n",
       "      <th>critic_review</th>\n",
       "      <th>critics_score</th>\n",
       "    </tr>\n",
       "  </thead>\n",
       "  <tbody>\n",
       "    <tr>\n",
       "      <th>0</th>\n",
       "      <td>There's a category of games I think of as Satu...</td>\n",
       "      <td>79.0</td>\n",
       "    </tr>\n",
       "    <tr>\n",
       "      <th>1</th>\n",
       "      <td>With The Outer Worlds, Obsidian has found its ...</td>\n",
       "      <td>85.0</td>\n",
       "    </tr>\n",
       "    <tr>\n",
       "      <th>2</th>\n",
       "      <td>A conventional, easygoing scifi RPG with sligh...</td>\n",
       "      <td>NaN</td>\n",
       "    </tr>\n",
       "    <tr>\n",
       "      <th>3</th>\n",
       "      <td>A deep, funny, and intricately designed RPG re...</td>\n",
       "      <td>90.0</td>\n",
       "    </tr>\n",
       "    <tr>\n",
       "      <th>4</th>\n",
       "      <td>The Outer Worlds marks Obsidian operating at t...</td>\n",
       "      <td>90.0</td>\n",
       "    </tr>\n",
       "    <tr>\n",
       "      <th>...</th>\n",
       "      <td>...</td>\n",
       "      <td>...</td>\n",
       "    </tr>\n",
       "    <tr>\n",
       "      <th>15339</th>\n",
       "      <td>For Honor developed from a promising concept t...</td>\n",
       "      <td>60.0</td>\n",
       "    </tr>\n",
       "    <tr>\n",
       "      <th>15340</th>\n",
       "      <td>For Honor is an incredibly competitive multipl...</td>\n",
       "      <td>75.0</td>\n",
       "    </tr>\n",
       "    <tr>\n",
       "      <th>15341</th>\n",
       "      <td>As an arena sword fighter For Honor does an ad...</td>\n",
       "      <td>NaN</td>\n",
       "    </tr>\n",
       "    <tr>\n",
       "      <th>15342</th>\n",
       "      <td>For Honor is an impressive fighting game with ...</td>\n",
       "      <td>90.0</td>\n",
       "    </tr>\n",
       "    <tr>\n",
       "      <th>15343</th>\n",
       "      <td>Despite its few rather minor flaws, For Honor ...</td>\n",
       "      <td>77.0</td>\n",
       "    </tr>\n",
       "  </tbody>\n",
       "</table>\n",
       "<p>15333 rows × 2 columns</p>\n",
       "</div>"
      ],
      "text/plain": [
       "                                           critic_review  critics_score\n",
       "0      There's a category of games I think of as Satu...           79.0\n",
       "1      With The Outer Worlds, Obsidian has found its ...           85.0\n",
       "2      A conventional, easygoing scifi RPG with sligh...            NaN\n",
       "3      A deep, funny, and intricately designed RPG re...           90.0\n",
       "4      The Outer Worlds marks Obsidian operating at t...           90.0\n",
       "...                                                  ...            ...\n",
       "15339  For Honor developed from a promising concept t...           60.0\n",
       "15340  For Honor is an incredibly competitive multipl...           75.0\n",
       "15341  As an arena sword fighter For Honor does an ad...            NaN\n",
       "15342  For Honor is an impressive fighting game with ...           90.0\n",
       "15343  Despite its few rather minor flaws, For Honor ...           77.0\n",
       "\n",
       "[15333 rows x 2 columns]"
      ]
     },
     "execution_count": 38,
     "metadata": {},
     "output_type": "execute_result"
    }
   ],
   "source": [
    "df2 = df.loc[:,['critic_review','critics_score']]\n",
    "\n",
    "df2"
   ]
  },
  {
   "cell_type": "markdown",
   "id": "c7b08940",
   "metadata": {},
   "source": [
    "clean the data (remove null values)"
   ]
  },
  {
   "cell_type": "code",
   "execution_count": 39,
   "id": "230f5b93",
   "metadata": {},
   "outputs": [
    {
     "data": {
      "text/plain": [
       "pandas.core.frame.DataFrame"
      ]
     },
     "execution_count": 39,
     "metadata": {},
     "output_type": "execute_result"
    }
   ],
   "source": [
    "df2 = df2.dropna()\n",
    "\n",
    "type(df2)"
   ]
  },
  {
   "cell_type": "markdown",
   "id": "868c2e3f",
   "metadata": {},
   "source": [
    "15333-11759 = 3574 rows dropped"
   ]
  },
  {
   "cell_type": "markdown",
   "id": "f7d6e5e7",
   "metadata": {},
   "source": [
    "Use TDD to process the text, ready for training the model"
   ]
  },
  {
   "cell_type": "code",
   "execution_count": 53,
   "id": "0b00f3e4",
   "metadata": {},
   "outputs": [],
   "source": [
    "reviews = df.loc[:,'critic_review'].values\n"
   ]
  },
  {
   "cell_type": "markdown",
   "id": "0eb29081",
   "metadata": {},
   "source": [
    "## Process text code"
   ]
  },
  {
   "cell_type": "code",
   "execution_count": 45,
   "id": "c9d86003",
   "metadata": {},
   "outputs": [],
   "source": [
    "#remove punctuation\n",
    "def remove_punctuation(reviews):\n",
    "    punctuation = string.punctuation\n",
    "    new_list = []\n",
    "    for review in reviews:\n",
    "        new_string = ''\n",
    "        for letter in review:\n",
    "            if letter not in punctuation:\n",
    "                new_string += letter\n",
    "        new_list.append(new_string)\n",
    "    \n",
    "    return new_list #explain the difficulty in refactoring this code due to the number of components\n",
    "\n",
    "#lemmatize\n",
    "def lemmatize_review(review):\n",
    "    lem = WordNetLemmatizer()\n",
    "    lemmatized_review = [lem.lemmatize(r) for r in review]\n",
    "    return lemmatized_review\n",
    "\n",
    "#use tfidfVectorizer to convert words to lowercase, removes stopwords and tokenizes the data\n",
    "def tfidfvectorize_reviews(review):\n",
    "    stop_words = set(stopwords.words('english'))\n",
    "    vectorizer = TfidfVectorizer(stop_words=stop_words)\n",
    "    fit_review = vectorizer.fit_transform(review)\n",
    "    matrix = fit_review.toarray()\n",
    "    return matrix\n",
    "    \n"
   ]
  },
  {
   "cell_type": "markdown",
   "id": "1e623628",
   "metadata": {},
   "source": [
    "## Unit tests"
   ]
  },
  {
   "cell_type": "code",
   "execution_count": 51,
   "id": "f0ed0359",
   "metadata": {},
   "outputs": [
    {
     "name": "stderr",
     "output_type": "stream",
     "text": [
      "test_lemaatizer_exists (__main__.TestTextFormatting) ... ok\n",
      "test_punctuation_removed (__main__.TestTextFormatting) ... ok\n",
      "test_remove_punc_exists (__main__.TestTextFormatting) ... ok\n",
      "test_vectorizer_exists (__main__.TestTextFormatting) ... ok\n",
      "test_words_lemmatized (__main__.TestTextFormatting) ... ok\n",
      "test_words_vectorized (__main__.TestTextFormatting) ... ok\n",
      "\n",
      "----------------------------------------------------------------------\n",
      "Ran 6 tests in 0.005s\n",
      "\n",
      "OK\n"
     ]
    },
    {
     "data": {
      "text/plain": [
       "<unittest.main.TestProgram at 0x1e88c279588>"
      ]
     },
     "execution_count": 51,
     "metadata": {},
     "output_type": "execute_result"
    }
   ],
   "source": [
    "class TestTextFormatting(unittest.TestCase):\n",
    "    \n",
    "    def test_remove_punc_exists(self):\n",
    "        self.assertIsNotNone(remove_punctuation)\n",
    "    \n",
    "    def test_punctuation_removed(self):\n",
    "        res = remove_punctuation(['x'+ string.punctuation, 'y'+ string.punctuation])\n",
    "        for r in res:\n",
    "            self.assertNotRegex(r,'[\\W]')\n",
    "        \n",
    "    def test_lemaatizer_exists(self):\n",
    "        self.assertIsNotNone(lemmatize_review)\n",
    "        \n",
    "    def test_words_lemmatized(self):\n",
    "        string_to_lem = [\"corpora\", \"rockers\", \"players\", \"syllabi\"]\n",
    "        res = lemmatize_review(string_to_lem)\n",
    "        self.assertEqual(res, [\"corpus\", \"rocker\", \"player\", \"syllabus\"])\n",
    "    \n",
    "    def test_vectorizer_exists(self):\n",
    "        self.assertIsNotNone(tfidfvectorize_reviews)\n",
    "        \n",
    "    def test_words_vectorized(self):\n",
    "        tester = [\"This is a review\",\n",
    "          \"This is a very good review\",\n",
    "          \"This is a very bad review\",\n",
    "          \"This is an awful review dont watch\",\n",
    "          \"This review is outstanding\"\n",
    "          ]\n",
    "        res = tfidfvectorize_reviews(tester)\n",
    "        self.assertEqual(type(res), np.ndarray)\n",
    "    \n",
    "unittest.main(argv=['ingored', '-v'], exit=False)"
   ]
  },
  {
   "cell_type": "markdown",
   "id": "7b0b7d3f",
   "metadata": {},
   "source": [
    "Now that functions have been tested successfully, implement functions on the reviews..."
   ]
  },
  {
   "cell_type": "code",
   "execution_count": null,
   "id": "f71038af",
   "metadata": {},
   "outputs": [],
   "source": []
  }
 ],
 "metadata": {
  "kernelspec": {
   "display_name": "Python 3",
   "language": "python",
   "name": "python3"
  },
  "language_info": {
   "codemirror_mode": {
    "name": "ipython",
    "version": 3
   },
   "file_extension": ".py",
   "mimetype": "text/x-python",
   "name": "python",
   "nbconvert_exporter": "python",
   "pygments_lexer": "ipython3",
   "version": "3.7.4"
  }
 },
 "nbformat": 4,
 "nbformat_minor": 5
}
