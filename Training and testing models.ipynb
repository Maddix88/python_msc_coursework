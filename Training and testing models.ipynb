{
 "cells": [
  {
   "cell_type": "markdown",
   "id": "a4e855eb",
   "metadata": {},
   "source": [
    "To do list:\n",
    "\n",
    "- import the modules required\n",
    "- import data\n",
    "- filter out the columns required\n",
    "- clean the data (check for null values)\n",
    "- use TDD to process the text\n",
    "- split data into training and test data\n",
    "\n",
    "- use TDD to develop models (fit and predict)\n",
    "- measure accuracy of the models and decide whether to make improvements on the models\n",
    "- models that will be used: Naive bayes and support vector machines"
   ]
  },
  {
   "cell_type": "code",
   "execution_count": 3,
   "id": "2ba389db",
   "metadata": {},
   "outputs": [],
   "source": [
    "import pandas as pd\n",
    "import numpy as np\n",
    "import unittest\n",
    "import string\n",
    "from imblearn.over_sampling import SMOTE\n",
    "from nltk import word_tokenize\n",
    "from nltk.corpus import stopwords\n",
    "from nltk.stem import WordNetLemmatizer\n",
    "from sklearn.feature_extraction.text import TfidfVectorizer\n",
    "from sklearn.model_selection import train_test_split"
   ]
  },
  {
   "cell_type": "markdown",
   "id": "c5d9bf20",
   "metadata": {},
   "source": [
    "### Import the data"
   ]
  },
  {
   "cell_type": "code",
   "execution_count": 4,
   "id": "a91f9c81",
   "metadata": {},
   "outputs": [
    {
     "data": {
      "text/html": [
       "<div>\n",
       "<style scoped>\n",
       "    .dataframe tbody tr th:only-of-type {\n",
       "        vertical-align: middle;\n",
       "    }\n",
       "\n",
       "    .dataframe tbody tr th {\n",
       "        vertical-align: top;\n",
       "    }\n",
       "\n",
       "    .dataframe thead th {\n",
       "        text-align: right;\n",
       "    }\n",
       "</style>\n",
       "<table border=\"1\" class=\"dataframe\">\n",
       "  <thead>\n",
       "    <tr style=\"text-align: right;\">\n",
       "      <th></th>\n",
       "      <th>name</th>\n",
       "      <th>developer</th>\n",
       "      <th>publisher</th>\n",
       "      <th>genre</th>\n",
       "      <th>release_date</th>\n",
       "      <th>description</th>\n",
       "      <th>critics_average_score</th>\n",
       "      <th>critic_review</th>\n",
       "      <th>date_of_review</th>\n",
       "      <th>critics_score</th>\n",
       "      <th>opencritic_rating_critics_score</th>\n",
       "    </tr>\n",
       "  </thead>\n",
       "  <tbody>\n",
       "    <tr>\n",
       "      <th>0</th>\n",
       "      <td>The Outer Worlds</td>\n",
       "      <td>Obsidian Entertainment</td>\n",
       "      <td>Private Division</td>\n",
       "      <td>RPG</td>\n",
       "      <td>2019-10-25</td>\n",
       "      <td>The Outer Worlds is a new single-player first-...</td>\n",
       "      <td>82</td>\n",
       "      <td>There's a category of games I think of as Satu...</td>\n",
       "      <td>2019-10-22 00:00:00</td>\n",
       "      <td>79.0</td>\n",
       "      <td>strong</td>\n",
       "    </tr>\n",
       "    <tr>\n",
       "      <th>1</th>\n",
       "      <td>The Outer Worlds</td>\n",
       "      <td>Obsidian Entertainment</td>\n",
       "      <td>Private Division</td>\n",
       "      <td>RPG</td>\n",
       "      <td>2019-10-25</td>\n",
       "      <td>The Outer Worlds is a new single-player first-...</td>\n",
       "      <td>82</td>\n",
       "      <td>With The Outer Worlds, Obsidian has found its ...</td>\n",
       "      <td>2019-10-22 00:00:00</td>\n",
       "      <td>85.0</td>\n",
       "      <td>strong</td>\n",
       "    </tr>\n",
       "    <tr>\n",
       "      <th>2</th>\n",
       "      <td>The Outer Worlds</td>\n",
       "      <td>Obsidian Entertainment</td>\n",
       "      <td>Private Division</td>\n",
       "      <td>RPG</td>\n",
       "      <td>2019-10-25</td>\n",
       "      <td>The Outer Worlds is a new single-player first-...</td>\n",
       "      <td>82</td>\n",
       "      <td>A conventional, easygoing scifi RPG with sligh...</td>\n",
       "      <td>2019-10-22 00:00:00</td>\n",
       "      <td>NaN</td>\n",
       "      <td>weak</td>\n",
       "    </tr>\n",
       "    <tr>\n",
       "      <th>3</th>\n",
       "      <td>The Outer Worlds</td>\n",
       "      <td>Obsidian Entertainment</td>\n",
       "      <td>Private Division</td>\n",
       "      <td>RPG</td>\n",
       "      <td>2019-10-25</td>\n",
       "      <td>The Outer Worlds is a new single-player first-...</td>\n",
       "      <td>82</td>\n",
       "      <td>A deep, funny, and intricately designed RPG re...</td>\n",
       "      <td>2019-10-29 00:00:00</td>\n",
       "      <td>90.0</td>\n",
       "      <td>mighty</td>\n",
       "    </tr>\n",
       "    <tr>\n",
       "      <th>4</th>\n",
       "      <td>The Outer Worlds</td>\n",
       "      <td>Obsidian Entertainment</td>\n",
       "      <td>Private Division</td>\n",
       "      <td>RPG</td>\n",
       "      <td>2019-10-25</td>\n",
       "      <td>The Outer Worlds is a new single-player first-...</td>\n",
       "      <td>82</td>\n",
       "      <td>The Outer Worlds marks Obsidian operating at t...</td>\n",
       "      <td>2019-10-22 00:00:00</td>\n",
       "      <td>90.0</td>\n",
       "      <td>mighty</td>\n",
       "    </tr>\n",
       "  </tbody>\n",
       "</table>\n",
       "</div>"
      ],
      "text/plain": [
       "                name               developer         publisher genre  \\\n",
       "0  The Outer Worlds   Obsidian Entertainment  Private Division   RPG   \n",
       "1  The Outer Worlds   Obsidian Entertainment  Private Division   RPG   \n",
       "2  The Outer Worlds   Obsidian Entertainment  Private Division   RPG   \n",
       "3  The Outer Worlds   Obsidian Entertainment  Private Division   RPG   \n",
       "4  The Outer Worlds   Obsidian Entertainment  Private Division   RPG   \n",
       "\n",
       "  release_date                                        description  \\\n",
       "0   2019-10-25  The Outer Worlds is a new single-player first-...   \n",
       "1   2019-10-25  The Outer Worlds is a new single-player first-...   \n",
       "2   2019-10-25  The Outer Worlds is a new single-player first-...   \n",
       "3   2019-10-25  The Outer Worlds is a new single-player first-...   \n",
       "4   2019-10-25  The Outer Worlds is a new single-player first-...   \n",
       "\n",
       "   critics_average_score                                      critic_review  \\\n",
       "0                     82  There's a category of games I think of as Satu...   \n",
       "1                     82  With The Outer Worlds, Obsidian has found its ...   \n",
       "2                     82  A conventional, easygoing scifi RPG with sligh...   \n",
       "3                     82  A deep, funny, and intricately designed RPG re...   \n",
       "4                     82  The Outer Worlds marks Obsidian operating at t...   \n",
       "\n",
       "        date_of_review  critics_score opencritic_rating_critics_score  \n",
       "0  2019-10-22 00:00:00           79.0                          strong  \n",
       "1  2019-10-22 00:00:00           85.0                          strong  \n",
       "2  2019-10-22 00:00:00            NaN                            weak  \n",
       "3  2019-10-29 00:00:00           90.0                          mighty  \n",
       "4  2019-10-22 00:00:00           90.0                          mighty  "
      ]
     },
     "execution_count": 4,
     "metadata": {},
     "output_type": "execute_result"
    }
   ],
   "source": [
    "df_for_classifer = pd.read_csv('opencritic_data_with_ratings.csv', index_col= 'Unnamed: 0')\n",
    "\n",
    "df_for_classifer.head()"
   ]
  },
  {
   "cell_type": "markdown",
   "id": "e8b5b7af",
   "metadata": {},
   "source": [
    "Columns required for training and predicting the models:\n",
    "\n",
    "- critic_review\n",
    "- critics_score"
   ]
  },
  {
   "cell_type": "code",
   "execution_count": 5,
   "id": "49cd48af",
   "metadata": {},
   "outputs": [
    {
     "data": {
      "text/html": [
       "<div>\n",
       "<style scoped>\n",
       "    .dataframe tbody tr th:only-of-type {\n",
       "        vertical-align: middle;\n",
       "    }\n",
       "\n",
       "    .dataframe tbody tr th {\n",
       "        vertical-align: top;\n",
       "    }\n",
       "\n",
       "    .dataframe thead th {\n",
       "        text-align: right;\n",
       "    }\n",
       "</style>\n",
       "<table border=\"1\" class=\"dataframe\">\n",
       "  <thead>\n",
       "    <tr style=\"text-align: right;\">\n",
       "      <th></th>\n",
       "      <th>critic_review</th>\n",
       "      <th>opencritic_rating_critics_score</th>\n",
       "    </tr>\n",
       "  </thead>\n",
       "  <tbody>\n",
       "    <tr>\n",
       "      <th>0</th>\n",
       "      <td>There's a category of games I think of as Satu...</td>\n",
       "      <td>strong</td>\n",
       "    </tr>\n",
       "    <tr>\n",
       "      <th>1</th>\n",
       "      <td>With The Outer Worlds, Obsidian has found its ...</td>\n",
       "      <td>strong</td>\n",
       "    </tr>\n",
       "    <tr>\n",
       "      <th>2</th>\n",
       "      <td>A conventional, easygoing scifi RPG with sligh...</td>\n",
       "      <td>weak</td>\n",
       "    </tr>\n",
       "    <tr>\n",
       "      <th>3</th>\n",
       "      <td>A deep, funny, and intricately designed RPG re...</td>\n",
       "      <td>mighty</td>\n",
       "    </tr>\n",
       "    <tr>\n",
       "      <th>4</th>\n",
       "      <td>The Outer Worlds marks Obsidian operating at t...</td>\n",
       "      <td>mighty</td>\n",
       "    </tr>\n",
       "    <tr>\n",
       "      <th>...</th>\n",
       "      <td>...</td>\n",
       "      <td>...</td>\n",
       "    </tr>\n",
       "    <tr>\n",
       "      <th>15339</th>\n",
       "      <td>For Honor developed from a promising concept t...</td>\n",
       "      <td>strong</td>\n",
       "    </tr>\n",
       "    <tr>\n",
       "      <th>15340</th>\n",
       "      <td>For Honor is an incredibly competitive multipl...</td>\n",
       "      <td>strong</td>\n",
       "    </tr>\n",
       "    <tr>\n",
       "      <th>15341</th>\n",
       "      <td>As an arena sword fighter For Honor does an ad...</td>\n",
       "      <td>weak</td>\n",
       "    </tr>\n",
       "    <tr>\n",
       "      <th>15342</th>\n",
       "      <td>For Honor is an impressive fighting game with ...</td>\n",
       "      <td>mighty</td>\n",
       "    </tr>\n",
       "    <tr>\n",
       "      <th>15343</th>\n",
       "      <td>Despite its few rather minor flaws, For Honor ...</td>\n",
       "      <td>strong</td>\n",
       "    </tr>\n",
       "  </tbody>\n",
       "</table>\n",
       "<p>15326 rows × 2 columns</p>\n",
       "</div>"
      ],
      "text/plain": [
       "                                           critic_review  \\\n",
       "0      There's a category of games I think of as Satu...   \n",
       "1      With The Outer Worlds, Obsidian has found its ...   \n",
       "2      A conventional, easygoing scifi RPG with sligh...   \n",
       "3      A deep, funny, and intricately designed RPG re...   \n",
       "4      The Outer Worlds marks Obsidian operating at t...   \n",
       "...                                                  ...   \n",
       "15339  For Honor developed from a promising concept t...   \n",
       "15340  For Honor is an incredibly competitive multipl...   \n",
       "15341  As an arena sword fighter For Honor does an ad...   \n",
       "15342  For Honor is an impressive fighting game with ...   \n",
       "15343  Despite its few rather minor flaws, For Honor ...   \n",
       "\n",
       "      opencritic_rating_critics_score  \n",
       "0                              strong  \n",
       "1                              strong  \n",
       "2                                weak  \n",
       "3                              mighty  \n",
       "4                              mighty  \n",
       "...                               ...  \n",
       "15339                          strong  \n",
       "15340                          strong  \n",
       "15341                            weak  \n",
       "15342                          mighty  \n",
       "15343                          strong  \n",
       "\n",
       "[15326 rows x 2 columns]"
      ]
     },
     "execution_count": 5,
     "metadata": {},
     "output_type": "execute_result"
    }
   ],
   "source": [
    "df_c = df_for_classifer.loc[:,['critic_review','opencritic_rating_critics_score']]\n",
    "df_c.dropna(inplace=True)\n",
    "df_c"
   ]
  },
  {
   "cell_type": "code",
   "execution_count": 6,
   "id": "80e730d7",
   "metadata": {},
   "outputs": [
    {
     "data": {
      "text/html": [
       "<div>\n",
       "<style scoped>\n",
       "    .dataframe tbody tr th:only-of-type {\n",
       "        vertical-align: middle;\n",
       "    }\n",
       "\n",
       "    .dataframe tbody tr th {\n",
       "        vertical-align: top;\n",
       "    }\n",
       "\n",
       "    .dataframe thead th {\n",
       "        text-align: right;\n",
       "    }\n",
       "</style>\n",
       "<table border=\"1\" class=\"dataframe\">\n",
       "  <thead>\n",
       "    <tr style=\"text-align: right;\">\n",
       "      <th></th>\n",
       "      <th>critic_review</th>\n",
       "      <th>opencritic_rating_critics_score</th>\n",
       "    </tr>\n",
       "  </thead>\n",
       "  <tbody>\n",
       "    <tr>\n",
       "      <th>1335</th>\n",
       "      <td>A stellar remake, which is not afraid to chang...</td>\n",
       "      <td>mighty</td>\n",
       "    </tr>\n",
       "    <tr>\n",
       "      <th>12217</th>\n",
       "      <td>Kingdom Hearts III is the game that fans have ...</td>\n",
       "      <td>strong</td>\n",
       "    </tr>\n",
       "    <tr>\n",
       "      <th>8010</th>\n",
       "      <td>Injustice 2 is a combination of the core gamep...</td>\n",
       "      <td>weak</td>\n",
       "    </tr>\n",
       "    <tr>\n",
       "      <th>1272</th>\n",
       "      <td>Collectively speaking, this game subverts expe...</td>\n",
       "      <td>mighty</td>\n",
       "    </tr>\n",
       "    <tr>\n",
       "      <th>549</th>\n",
       "      <td>\"Triumph\" is a word often lazily used by revie...</td>\n",
       "      <td>weak</td>\n",
       "    </tr>\n",
       "    <tr>\n",
       "      <th>...</th>\n",
       "      <td>...</td>\n",
       "      <td>...</td>\n",
       "    </tr>\n",
       "    <tr>\n",
       "      <th>13339</th>\n",
       "      <td>Fallout 4 is not perfect. It’s plagued with mi...</td>\n",
       "      <td>weak</td>\n",
       "    </tr>\n",
       "    <tr>\n",
       "      <th>6760</th>\n",
       "      <td>Prey is a divisive game that many will adore w...</td>\n",
       "      <td>mighty</td>\n",
       "    </tr>\n",
       "    <tr>\n",
       "      <th>10657</th>\n",
       "      <td>Yakuza 0 is easily one of the highlights of th...</td>\n",
       "      <td>weak</td>\n",
       "    </tr>\n",
       "    <tr>\n",
       "      <th>3816</th>\n",
       "      <td>On its own, the remake of Resident Evil 3 is a...</td>\n",
       "      <td>mighty</td>\n",
       "    </tr>\n",
       "    <tr>\n",
       "      <th>3439</th>\n",
       "      <td>The zombie apocalypse isn't worth surviving at...</td>\n",
       "      <td>strong</td>\n",
       "    </tr>\n",
       "  </tbody>\n",
       "</table>\n",
       "<p>7663 rows × 2 columns</p>\n",
       "</div>"
      ],
      "text/plain": [
       "                                           critic_review  \\\n",
       "1335   A stellar remake, which is not afraid to chang...   \n",
       "12217  Kingdom Hearts III is the game that fans have ...   \n",
       "8010   Injustice 2 is a combination of the core gamep...   \n",
       "1272   Collectively speaking, this game subverts expe...   \n",
       "549    \"Triumph\" is a word often lazily used by revie...   \n",
       "...                                                  ...   \n",
       "13339  Fallout 4 is not perfect. It’s plagued with mi...   \n",
       "6760   Prey is a divisive game that many will adore w...   \n",
       "10657  Yakuza 0 is easily one of the highlights of th...   \n",
       "3816   On its own, the remake of Resident Evil 3 is a...   \n",
       "3439   The zombie apocalypse isn't worth surviving at...   \n",
       "\n",
       "      opencritic_rating_critics_score  \n",
       "1335                           mighty  \n",
       "12217                          strong  \n",
       "8010                             weak  \n",
       "1272                           mighty  \n",
       "549                              weak  \n",
       "...                               ...  \n",
       "13339                            weak  \n",
       "6760                           mighty  \n",
       "10657                            weak  \n",
       "3816                           mighty  \n",
       "3439                           strong  \n",
       "\n",
       "[7663 rows x 2 columns]"
      ]
     },
     "execution_count": 6,
     "metadata": {},
     "output_type": "execute_result"
    }
   ],
   "source": [
    "#https://pandas.pydata.org/pandas-docs/stable/reference/api/pandas.DataFrame.sample.html\n",
    "df_c = df_c.sample(frac=0.5, random_state=0)\n",
    "df_c"
   ]
  },
  {
   "cell_type": "code",
   "execution_count": 7,
   "id": "f85972cb",
   "metadata": {},
   "outputs": [
    {
     "data": {
      "text/plain": [
       "opencritic_rating_critics_score\n",
       "fair       167\n",
       "mighty    2378\n",
       "strong    3298\n",
       "weak      1820\n",
       "Name: critic_review, dtype: int64"
      ]
     },
     "execution_count": 7,
     "metadata": {},
     "output_type": "execute_result"
    }
   ],
   "source": [
    "#how many rating scores for each category?\n",
    "ratings_grouped = df_c.groupby('opencritic_rating_critics_score').critic_review.count()\n",
    "ratings_grouped\n",
    "\n",
    "#small number of 'fair' reviews to classify. attempt to oversample these using SMOTE\n",
    "#will train model with the current data and check accuracy score"
   ]
  },
  {
   "cell_type": "markdown",
   "id": "f7d6e5e7",
   "metadata": {},
   "source": [
    "Use TDD to process the text, ready for training the model"
   ]
  },
  {
   "cell_type": "markdown",
   "id": "0eb29081",
   "metadata": {},
   "source": [
    "## Process text code"
   ]
  },
  {
   "cell_type": "code",
   "execution_count": 8,
   "id": "c9d86003",
   "metadata": {},
   "outputs": [],
   "source": [
    "#remove punctuation\n",
    "def remove_punctuation(reviews):\n",
    "    punctuation = string.punctuation\n",
    "    new_list = []\n",
    "    for review in reviews:\n",
    "        new_string = ''\n",
    "        for letter in review:\n",
    "            if letter not in punctuation:\n",
    "                new_string += letter\n",
    "        new_list.append(new_string)\n",
    "    \n",
    "    return new_list #explain the difficulty in refactoring this code due to the number of components\n",
    "\n",
    "#lemmatize\n",
    "def lemmatize_review(reviews):\n",
    "    new_list = []\n",
    "    lem = WordNetLemmatizer()\n",
    "    for review in reviews:\n",
    "        #tokenize review\n",
    "        tokenised = word_tokenize(review)\n",
    "        lemmatized_list = []\n",
    "        for word in tokenised:\n",
    "            lemmatized_word = lem.lemmatize(word)\n",
    "            lemmatized_list.append(lemmatized_word)\n",
    "        new_string = \" \".join(lemmatized_list)\n",
    "        new_list.append(new_string)\n",
    "    return new_list\n",
    "\n",
    "#use tfidfVectorizer to convert words to lowercase, removes stopwords and tokenizes the data\n",
    "def tfidfvectorize_reviews(review):\n",
    "    stop_words = set(stopwords.words('english'))\n",
    "    vectorizer = TfidfVectorizer(stop_words=stop_words)\n",
    "    fit_review = vectorizer.fit_transform(review)\n",
    "    matrix = fit_review.toarray()\n",
    "    return matrix\n",
    "    \n"
   ]
  },
  {
   "cell_type": "markdown",
   "id": "1e623628",
   "metadata": {},
   "source": [
    "## Unit tests"
   ]
  },
  {
   "cell_type": "code",
   "execution_count": 9,
   "id": "f0ed0359",
   "metadata": {},
   "outputs": [
    {
     "name": "stderr",
     "output_type": "stream",
     "text": [
      "test_lemmatizer_exists (__main__.TestTextFormatting) ... ok\n",
      "test_punctuation_removed (__main__.TestTextFormatting) ... ok\n",
      "test_remove_punc_exists (__main__.TestTextFormatting) ... ok\n",
      "test_vectorizer_exists (__main__.TestTextFormatting) ... ok\n",
      "test_words_lemmatized (__main__.TestTextFormatting) ... ok\n",
      "test_words_vectorized (__main__.TestTextFormatting) ... ok\n",
      "\n",
      "----------------------------------------------------------------------\n",
      "Ran 6 tests in 1.165s\n",
      "\n",
      "OK\n"
     ]
    },
    {
     "data": {
      "text/plain": [
       "<unittest.main.TestProgram at 0x219fbd68748>"
      ]
     },
     "execution_count": 9,
     "metadata": {},
     "output_type": "execute_result"
    }
   ],
   "source": [
    "class TestTextFormatting(unittest.TestCase):\n",
    "    \n",
    "    def test_remove_punc_exists(self):\n",
    "        self.assertIsNotNone(remove_punctuation)\n",
    "    \n",
    "    def test_punctuation_removed(self):\n",
    "        res = remove_punctuation(['x'+ string.punctuation, 'y'+ string.punctuation])\n",
    "        for r in res:\n",
    "            self.assertNotRegex(r,'[\\W]')\n",
    "        \n",
    "    def test_lemmatizer_exists(self):\n",
    "        self.assertIsNotNone(lemmatize_review)\n",
    "        \n",
    "    def test_words_lemmatized(self):\n",
    "        tester = [\"corpora rockers\", \"players syllabi\"]\n",
    "        res = lemmatize_review(tester)\n",
    "        self.assertEqual(res, [\"corpus rocker\", \"player syllabus\"])\n",
    "    \n",
    "    def test_vectorizer_exists(self):\n",
    "        self.assertIsNotNone(tfidfvectorize_reviews)\n",
    "        \n",
    "    def test_words_vectorized(self):\n",
    "        tester = [\"This is a review\",\n",
    "          \"This is a very good review\",\n",
    "          \"This is a very bad review\",\n",
    "          \"This is an awful review dont watch\",\n",
    "          \"This review is outstanding\"\n",
    "          ]\n",
    "        res = tfidfvectorize_reviews(tester)\n",
    "        self.assertEqual(type(res), np.ndarray)\n",
    "    \n",
    "unittest.main(argv=['ingored', '-v'], exit=False)"
   ]
  },
  {
   "cell_type": "markdown",
   "id": "7b0b7d3f",
   "metadata": {},
   "source": [
    "Now that functions have been tested successfully, implement functions on the reviews..."
   ]
  },
  {
   "cell_type": "code",
   "execution_count": 10,
   "id": "f71038af",
   "metadata": {},
   "outputs": [],
   "source": [
    "text_to_process = df_c.loc[:,'critic_review']\n",
    "y = df_c.loc[:,['opencritic_rating_critics_score']].reset_index(drop=True)\n",
    "\n",
    "remove_punc = remove_punctuation(text_to_process)\n",
    "\n",
    "lemmatize_text = lemmatize_review(remove_punc)\n",
    "\n",
    "tfidf_vectorize_text = tfidfvectorize_reviews(lemmatize_text)"
   ]
  },
  {
   "cell_type": "code",
   "execution_count": 27,
   "id": "2e6f4be0",
   "metadata": {},
   "outputs": [
    {
     "data": {
      "text/html": [
       "<div>\n",
       "<style scoped>\n",
       "    .dataframe tbody tr th:only-of-type {\n",
       "        vertical-align: middle;\n",
       "    }\n",
       "\n",
       "    .dataframe tbody tr th {\n",
       "        vertical-align: top;\n",
       "    }\n",
       "\n",
       "    .dataframe thead th {\n",
       "        text-align: right;\n",
       "    }\n",
       "</style>\n",
       "<table border=\"1\" class=\"dataframe\">\n",
       "  <thead>\n",
       "    <tr style=\"text-align: right;\">\n",
       "      <th></th>\n",
       "      <th>opencritic_rating_critics_score</th>\n",
       "    </tr>\n",
       "  </thead>\n",
       "  <tbody>\n",
       "    <tr>\n",
       "      <th>0</th>\n",
       "      <td>mighty</td>\n",
       "    </tr>\n",
       "    <tr>\n",
       "      <th>1</th>\n",
       "      <td>strong</td>\n",
       "    </tr>\n",
       "    <tr>\n",
       "      <th>2</th>\n",
       "      <td>weak</td>\n",
       "    </tr>\n",
       "    <tr>\n",
       "      <th>3</th>\n",
       "      <td>mighty</td>\n",
       "    </tr>\n",
       "    <tr>\n",
       "      <th>4</th>\n",
       "      <td>weak</td>\n",
       "    </tr>\n",
       "  </tbody>\n",
       "</table>\n",
       "</div>"
      ],
      "text/plain": [
       "  opencritic_rating_critics_score\n",
       "0                          mighty\n",
       "1                          strong\n",
       "2                            weak\n",
       "3                          mighty\n",
       "4                            weak"
      ]
     },
     "execution_count": 27,
     "metadata": {},
     "output_type": "execute_result"
    }
   ],
   "source": [
    "y.head()"
   ]
  },
  {
   "cell_type": "code",
   "execution_count": 12,
   "id": "7bcb2f94",
   "metadata": {},
   "outputs": [
    {
     "data": {
      "text/plain": [
       "array([[0., 0., 0., ..., 0., 0., 0.],\n",
       "       [0., 0., 0., ..., 0., 0., 0.],\n",
       "       [0., 0., 0., ..., 0., 0., 0.],\n",
       "       ...,\n",
       "       [0., 0., 0., ..., 0., 0., 0.],\n",
       "       [0., 0., 0., ..., 0., 0., 0.],\n",
       "       [0., 0., 0., ..., 0., 0., 0.]])"
      ]
     },
     "execution_count": 12,
     "metadata": {},
     "output_type": "execute_result"
    }
   ],
   "source": [
    "tfidf_vectorize_text"
   ]
  },
  {
   "cell_type": "code",
   "execution_count": 28,
   "id": "b47acdd2",
   "metadata": {},
   "outputs": [
    {
     "data": {
      "text/html": [
       "<div>\n",
       "<style scoped>\n",
       "    .dataframe tbody tr th:only-of-type {\n",
       "        vertical-align: middle;\n",
       "    }\n",
       "\n",
       "    .dataframe tbody tr th {\n",
       "        vertical-align: top;\n",
       "    }\n",
       "\n",
       "    .dataframe thead th {\n",
       "        text-align: right;\n",
       "    }\n",
       "</style>\n",
       "<table border=\"1\" class=\"dataframe\">\n",
       "  <thead>\n",
       "    <tr style=\"text-align: right;\">\n",
       "      <th></th>\n",
       "      <th>0</th>\n",
       "      <th>1</th>\n",
       "      <th>2</th>\n",
       "      <th>3</th>\n",
       "      <th>4</th>\n",
       "      <th>5</th>\n",
       "      <th>6</th>\n",
       "      <th>7</th>\n",
       "      <th>8</th>\n",
       "      <th>9</th>\n",
       "      <th>...</th>\n",
       "      <th>14119</th>\n",
       "      <th>14120</th>\n",
       "      <th>14121</th>\n",
       "      <th>14122</th>\n",
       "      <th>14123</th>\n",
       "      <th>14124</th>\n",
       "      <th>14125</th>\n",
       "      <th>14126</th>\n",
       "      <th>14127</th>\n",
       "      <th>14128</th>\n",
       "    </tr>\n",
       "  </thead>\n",
       "  <tbody>\n",
       "    <tr>\n",
       "      <th>0</th>\n",
       "      <td>0.0</td>\n",
       "      <td>0.0</td>\n",
       "      <td>0.0</td>\n",
       "      <td>0.0</td>\n",
       "      <td>0.0</td>\n",
       "      <td>0.0</td>\n",
       "      <td>0.0</td>\n",
       "      <td>0.0</td>\n",
       "      <td>0.0</td>\n",
       "      <td>0.0</td>\n",
       "      <td>...</td>\n",
       "      <td>0.0</td>\n",
       "      <td>0.0</td>\n",
       "      <td>0.0</td>\n",
       "      <td>0.0</td>\n",
       "      <td>0.0</td>\n",
       "      <td>0.0</td>\n",
       "      <td>0.0</td>\n",
       "      <td>0.0</td>\n",
       "      <td>0.0</td>\n",
       "      <td>0.0</td>\n",
       "    </tr>\n",
       "    <tr>\n",
       "      <th>1</th>\n",
       "      <td>0.0</td>\n",
       "      <td>0.0</td>\n",
       "      <td>0.0</td>\n",
       "      <td>0.0</td>\n",
       "      <td>0.0</td>\n",
       "      <td>0.0</td>\n",
       "      <td>0.0</td>\n",
       "      <td>0.0</td>\n",
       "      <td>0.0</td>\n",
       "      <td>0.0</td>\n",
       "      <td>...</td>\n",
       "      <td>0.0</td>\n",
       "      <td>0.0</td>\n",
       "      <td>0.0</td>\n",
       "      <td>0.0</td>\n",
       "      <td>0.0</td>\n",
       "      <td>0.0</td>\n",
       "      <td>0.0</td>\n",
       "      <td>0.0</td>\n",
       "      <td>0.0</td>\n",
       "      <td>0.0</td>\n",
       "    </tr>\n",
       "    <tr>\n",
       "      <th>2</th>\n",
       "      <td>0.0</td>\n",
       "      <td>0.0</td>\n",
       "      <td>0.0</td>\n",
       "      <td>0.0</td>\n",
       "      <td>0.0</td>\n",
       "      <td>0.0</td>\n",
       "      <td>0.0</td>\n",
       "      <td>0.0</td>\n",
       "      <td>0.0</td>\n",
       "      <td>0.0</td>\n",
       "      <td>...</td>\n",
       "      <td>0.0</td>\n",
       "      <td>0.0</td>\n",
       "      <td>0.0</td>\n",
       "      <td>0.0</td>\n",
       "      <td>0.0</td>\n",
       "      <td>0.0</td>\n",
       "      <td>0.0</td>\n",
       "      <td>0.0</td>\n",
       "      <td>0.0</td>\n",
       "      <td>0.0</td>\n",
       "    </tr>\n",
       "    <tr>\n",
       "      <th>3</th>\n",
       "      <td>0.0</td>\n",
       "      <td>0.0</td>\n",
       "      <td>0.0</td>\n",
       "      <td>0.0</td>\n",
       "      <td>0.0</td>\n",
       "      <td>0.0</td>\n",
       "      <td>0.0</td>\n",
       "      <td>0.0</td>\n",
       "      <td>0.0</td>\n",
       "      <td>0.0</td>\n",
       "      <td>...</td>\n",
       "      <td>0.0</td>\n",
       "      <td>0.0</td>\n",
       "      <td>0.0</td>\n",
       "      <td>0.0</td>\n",
       "      <td>0.0</td>\n",
       "      <td>0.0</td>\n",
       "      <td>0.0</td>\n",
       "      <td>0.0</td>\n",
       "      <td>0.0</td>\n",
       "      <td>0.0</td>\n",
       "    </tr>\n",
       "    <tr>\n",
       "      <th>4</th>\n",
       "      <td>0.0</td>\n",
       "      <td>0.0</td>\n",
       "      <td>0.0</td>\n",
       "      <td>0.0</td>\n",
       "      <td>0.0</td>\n",
       "      <td>0.0</td>\n",
       "      <td>0.0</td>\n",
       "      <td>0.0</td>\n",
       "      <td>0.0</td>\n",
       "      <td>0.0</td>\n",
       "      <td>...</td>\n",
       "      <td>0.0</td>\n",
       "      <td>0.0</td>\n",
       "      <td>0.0</td>\n",
       "      <td>0.0</td>\n",
       "      <td>0.0</td>\n",
       "      <td>0.0</td>\n",
       "      <td>0.0</td>\n",
       "      <td>0.0</td>\n",
       "      <td>0.0</td>\n",
       "      <td>0.0</td>\n",
       "    </tr>\n",
       "  </tbody>\n",
       "</table>\n",
       "<p>5 rows × 14129 columns</p>\n",
       "</div>"
      ],
      "text/plain": [
       "   0      1      2      3      4      5      6      7      8      9      ...  \\\n",
       "0    0.0    0.0    0.0    0.0    0.0    0.0    0.0    0.0    0.0    0.0  ...   \n",
       "1    0.0    0.0    0.0    0.0    0.0    0.0    0.0    0.0    0.0    0.0  ...   \n",
       "2    0.0    0.0    0.0    0.0    0.0    0.0    0.0    0.0    0.0    0.0  ...   \n",
       "3    0.0    0.0    0.0    0.0    0.0    0.0    0.0    0.0    0.0    0.0  ...   \n",
       "4    0.0    0.0    0.0    0.0    0.0    0.0    0.0    0.0    0.0    0.0  ...   \n",
       "\n",
       "   14119  14120  14121  14122  14123  14124  14125  14126  14127  14128  \n",
       "0    0.0    0.0    0.0    0.0    0.0    0.0    0.0    0.0    0.0    0.0  \n",
       "1    0.0    0.0    0.0    0.0    0.0    0.0    0.0    0.0    0.0    0.0  \n",
       "2    0.0    0.0    0.0    0.0    0.0    0.0    0.0    0.0    0.0    0.0  \n",
       "3    0.0    0.0    0.0    0.0    0.0    0.0    0.0    0.0    0.0    0.0  \n",
       "4    0.0    0.0    0.0    0.0    0.0    0.0    0.0    0.0    0.0    0.0  \n",
       "\n",
       "[5 rows x 14129 columns]"
      ]
     },
     "execution_count": 28,
     "metadata": {},
     "output_type": "execute_result"
    }
   ],
   "source": [
    "X = pd.DataFrame(data=tfidf_vectorize_text)\n",
    "X.head()"
   ]
  },
  {
   "cell_type": "markdown",
   "id": "55bfcb7f",
   "metadata": {},
   "source": [
    "Don't need to split the data into training and testing sets as k-fold cross validation will be used, and the average of the scores taken."
   ]
  },
  {
   "cell_type": "code",
   "execution_count": 14,
   "id": "29443ff0",
   "metadata": {},
   "outputs": [],
   "source": [
    "#X_train, X_test, y_train, y_test = train_test_split(X, y, test_size=0.33)"
   ]
  },
  {
   "cell_type": "code",
   "execution_count": 15,
   "id": "f9e37d78",
   "metadata": {},
   "outputs": [],
   "source": [
    "#X_train"
   ]
  },
  {
   "cell_type": "code",
   "execution_count": 16,
   "id": "af885170",
   "metadata": {},
   "outputs": [],
   "source": [
    "#y_train"
   ]
  },
  {
   "cell_type": "code",
   "execution_count": 17,
   "id": "fa2a4239",
   "metadata": {},
   "outputs": [],
   "source": [
    "#X_test"
   ]
  },
  {
   "cell_type": "code",
   "execution_count": 18,
   "id": "c645f1f8",
   "metadata": {},
   "outputs": [],
   "source": [
    "#y_test"
   ]
  },
  {
   "cell_type": "code",
   "execution_count": 19,
   "id": "2ccacf79",
   "metadata": {},
   "outputs": [],
   "source": [
    "#import the naive bayes model and SVM model\n",
    "from sklearn.naive_bayes import MultinomialNB\n",
    "from sklearn.model_selection import cross_val_score\n",
    "from sklearn import svm"
   ]
  },
  {
   "cell_type": "code",
   "execution_count": 20,
   "id": "1d6afffe",
   "metadata": {},
   "outputs": [],
   "source": [
    "NB = MultinomialNB()\n",
    "NB_scores = cross_val_score(NB, X, np.ravel(y), cv=10)"
   ]
  },
  {
   "cell_type": "code",
   "execution_count": 21,
   "id": "9519f4a0",
   "metadata": {},
   "outputs": [
    {
     "data": {
      "text/plain": [
       "0.4832310960270424"
      ]
     },
     "execution_count": 21,
     "metadata": {},
     "output_type": "execute_result"
    }
   ],
   "source": [
    "np.mean(NB_scores)"
   ]
  },
  {
   "cell_type": "code",
   "execution_count": 22,
   "id": "9cb54ab7",
   "metadata": {},
   "outputs": [],
   "source": [
    "#perform k-fold cross validation on critics scores using support vector regression\n",
    "regr = svm.LinearSVC()\n",
    "svm_scores = cross_val_score(regr, X, np.ravel(y), cv=10)"
   ]
  },
  {
   "cell_type": "code",
   "execution_count": 23,
   "id": "10531637",
   "metadata": {},
   "outputs": [
    {
     "data": {
      "text/plain": [
       "0.4370382726093661"
      ]
     },
     "execution_count": 23,
     "metadata": {},
     "output_type": "execute_result"
    }
   ],
   "source": [
    "np.mean(svm_scores)"
   ]
  },
  {
   "cell_type": "code",
   "execution_count": 24,
   "id": "f42d7ed8",
   "metadata": {},
   "outputs": [],
   "source": [
    "#can't use SMOTE technique to oversample fair reviews due to lack of memory\n",
    "oversample = SMOTE(k_neighbors=4)\n",
    "oversampled_X, oversampled_y = oversample.fit_resample(X, y)\n"
   ]
  },
  {
   "cell_type": "code",
   "execution_count": 25,
   "id": "3ab4e1dc",
   "metadata": {},
   "outputs": [
    {
     "data": {
      "text/plain": [
       "0.6637434810577343"
      ]
     },
     "execution_count": 25,
     "metadata": {},
     "output_type": "execute_result"
    }
   ],
   "source": [
    "oversampled_NB_scores = cross_val_score(NB, oversampled_X, np.ravel(oversampled_y), cv=10)\n",
    "np.mean(oversampled_NB_scores)"
   ]
  },
  {
   "cell_type": "code",
   "execution_count": 26,
   "id": "cd1794df",
   "metadata": {},
   "outputs": [
    {
     "data": {
      "text/plain": [
       "0.7282555080754475"
      ]
     },
     "execution_count": 26,
     "metadata": {},
     "output_type": "execute_result"
    }
   ],
   "source": [
    "oversampled_svm_scores = cross_val_score(regr, oversampled_X, np.ravel(oversampled_y), cv=10)\n",
    "np.mean(oversampled_svm_scores)"
   ]
  },
  {
   "cell_type": "markdown",
   "id": "4227844e",
   "metadata": {},
   "source": [
    "Potential downside of SMOTE: the majority classes are not considered when the synthetic samples are created for the minority classes. The overlapping of review lexicon between the classes may be more nuanced but this is not considered with SMOTE"
   ]
  }
 ],
 "metadata": {
  "kernelspec": {
   "display_name": "Python 3",
   "language": "python",
   "name": "python3"
  },
  "language_info": {
   "codemirror_mode": {
    "name": "ipython",
    "version": 3
   },
   "file_extension": ".py",
   "mimetype": "text/x-python",
   "name": "python",
   "nbconvert_exporter": "python",
   "pygments_lexer": "ipython3",
   "version": "3.7.4"
  }
 },
 "nbformat": 4,
 "nbformat_minor": 5
}
