{
 "cells": [
  {
   "cell_type": "markdown",
   "id": "db94a586",
   "metadata": {},
   "source": [
    "# DSM020 coursework 3:\n",
    "\n",
    "## Coursework project:\n",
    "\n",
    "## The power of electronic word of mouth: can game developers use the language of critic's reviews to conclusively evaluate the quality of their gaming products?\n",
    "\n",
    "### James Maddix\n",
    "### Student number: 210163148/1"
   ]
  },
  {
   "cell_type": "markdown",
   "id": "e3f89d8b",
   "metadata": {},
   "source": [
    "## Introduction"
   ]
  },
  {
   "cell_type": "markdown",
   "id": "5a0ed8f1",
   "metadata": {},
   "source": [
    "As stated in my project proposal, the video game industry has seen an increase in economic output over recent years. And with an increase in demand for home entertainment during the pandemic, along with consoles transitioning to on-demand high graphics content, the drive in the market has the potential to increase economic output over the next few years. In 2020, a revenue of \\\\$155 billion dollars was created by the video game industry, and it is projected that the revenue will reach more than $260 billion. However, cloud services could provide challenges for the market growth, with multiple services currently available, including Google's Stadia as a solely dedicated cloud gaming device. However, with the competition increasing in the gaming market, it is important for consumers to take a nuanced approach when deciding which product or service suits them the best.\n",
    "\n",
    "Electronic word of mouth (eWOM) is an approach that suits many consumers in obtaining current information about a product and has been researched heavily in other industries, including movies and books. eWOM refers to any positive or negative comment that has been made regarding a commercial product by a customer, and is an effective form of information transmission. Where the effects of traditional word of mouth are within a limited social boundary, eWOM's capabilities are far reaching with the help and advances of information technology and social networking.\n",
    "\n",
    "Many websites have developed the tools to collect and maintain eWOM in the form of customer reviews and critics reviews. Well known review aggregators, such as IMDB and rotten tomatoes, are a rich source of reviews for movies and TV shows. Customers can frequent these websites in search for a ratings based recommendation and evidence of sentiment in written reviews, along with additional user-orientated information.\n",
    "\n",
    "With this in mind, the aim of this project is to develop an understanding of the lexicon used by critics when reviewing a video game product. A series of questions will be asked of the data:\n",
    "\n",
    "    1- Is there any correlation between the length of the critic's review and the critic's score?\n",
    "    2- How many critic's reviews are there per game, and does this correlate with the average critics score?\n",
    "    3- What are the most frequent words used by critics when reviewing a game?\n",
    "    4- What are the most frequent words used by critics when reviewing a games for each publisher?\n",
    "    5- By grouping the individual critic's scores into the ratings categories on opencritic.com (mighty, strong, fair, weak), what are the most frequent words used in each rating?\n",
    "\n",
    "To answer each of these questions, a series of data preprocessing and data analysis will be performed on the data, and visualised in a way that best answers the question. Two predictive sentiment classifiers will then be performed and evaluated, using the text of the critic's reviews as the input variable to make predictions about the potential opencritic rating that it would receive (e.g. mighty, strong, fair or weak). With these approaches, the objective is to gather whether video game developers can use independent review aggregators to improve the future sales of their games using the sentiment of critic reviews.\n"
   ]
  },
  {
   "cell_type": "markdown",
   "id": "68edcfb4",
   "metadata": {},
   "source": [
    "## Related work"
   ]
  },
  {
   "cell_type": "markdown",
   "id": "f48b8b51",
   "metadata": {},
   "source": [
    "## Method"
   ]
  },
  {
   "cell_type": "markdown",
   "id": "8d2f1d7c",
   "metadata": {},
   "source": [
    "## Data analysis and classification"
   ]
  },
  {
   "cell_type": "markdown",
   "id": "16385365",
   "metadata": {},
   "source": [
    "## Results"
   ]
  },
  {
   "cell_type": "markdown",
   "id": "34e2a4cc",
   "metadata": {},
   "source": [
    "## Discussion"
   ]
  },
  {
   "cell_type": "markdown",
   "id": "da27cac3",
   "metadata": {},
   "source": [
    "## Limitations"
   ]
  },
  {
   "cell_type": "markdown",
   "id": "73944ca7",
   "metadata": {},
   "source": [
    "## Further work"
   ]
  },
  {
   "cell_type": "markdown",
   "id": "95fe9629",
   "metadata": {},
   "source": [
    "## Conclusion"
   ]
  },
  {
   "cell_type": "markdown",
   "id": "137f5288",
   "metadata": {},
   "source": [
    "## References"
   ]
  },
  {
   "cell_type": "markdown",
   "id": "133dc4d3",
   "metadata": {},
   "source": [
    "United States Gaming Console & Accessories Market - Growth, Trends, COVID-19 Impact, and Forecasts (2021 - 2026)"
   ]
  }
 ],
 "metadata": {
  "kernelspec": {
   "display_name": "Python 3",
   "language": "python",
   "name": "python3"
  },
  "language_info": {
   "codemirror_mode": {
    "name": "ipython",
    "version": 3
   },
   "file_extension": ".py",
   "mimetype": "text/x-python",
   "name": "python",
   "nbconvert_exporter": "python",
   "pygments_lexer": "ipython3",
   "version": "3.7.4"
  }
 },
 "nbformat": 4,
 "nbformat_minor": 5
}
