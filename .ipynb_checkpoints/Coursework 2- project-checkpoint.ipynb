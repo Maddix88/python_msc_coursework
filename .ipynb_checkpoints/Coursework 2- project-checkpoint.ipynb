{
 "cells": [
  {
   "cell_type": "markdown",
   "id": "db94a586",
   "metadata": {},
   "source": [
    "# DSM020 coursework 3:\n",
    "\n",
    "## Coursework project:\n",
    "\n",
    "## The power of electronic word of mouth: can game developers use the language of critic's reviews to conclusively evaluate the quality of their gaming products?\n",
    "\n",
    "### James Maddix\n",
    "### Student number: 210163148/1"
   ]
  },
  {
   "cell_type": "markdown",
   "id": "e3f89d8b",
   "metadata": {},
   "source": [
    "## Introduction"
   ]
  },
  {
   "cell_type": "markdown",
   "id": "5a0ed8f1",
   "metadata": {},
   "source": [
    "As stated in my project proposal, the video game industry has seen an increase in economic output over recent years. And with an increase in demand for home entertainment during the pandemic, along with consoles transitioning to on-demand high graphics content, the drive in the market has the potential to increase economic output over the next few years. In 2020, a revenue of \\\\$155 billion dollars was created by the video game industry, and it is projected that the revenue will reach more than $260 billion. However, cloud services could provide challenges for the market growth, with multiple services currently available, including Google's Stadia as a solely dedicated cloud gaming device. However, with the competition increasing in the gaming market, it is important for consumers to take a nuanced approach when deciding which product or service suits them the best.\n",
    "\n",
    "Electronic word of mouth (eWOM) is an approach that suits many consumers in obtaining current information about a product and has been researched heavily in other industries, including movies and books. eWOM refers to any positive or negative comment that has been made regarding a commercial product by a customer, and is an effective form of information transmission. Where the effects of traditional word of mouth are within a limited social boundary, eWOM's capabilities are far reaching with the help and advances of information technology and social networking.\n",
    "\n",
    "Many websites have developed the tools to collect and maintain eWOM in the form of customer reviews and critics reviews. Well known review aggregators, such as IMDB and rotten tomatoes, are a rich source of reviews for movies and TV shows. Customers can frequent these websites in search for a ratings based recommendation and evidence of sentiment in written reviews, along with additional user-orientated information.\n",
    "\n",
    "With this in mind, the aim of this project is to develop an understanding of the lexicon used by critics when reviewing a video game product. A series of questions will be asked of the data:\n",
    "\n",
    "    1- Is there any correlation between the length of the critic's review and the critic's score?\n",
    "    2- How many critic's reviews are there per game, and does this correlate with the average critics score?\n",
    "    3- What are the most frequent words used by critics when reviewing a game?\n",
    "    4- What are the most frequent words used by critics when reviewing a games for each publisher?\n",
    "    5- By grouping the individual critic's scores into the ratings categories on opencritic.com (mighty, strong, fair, weak), what are the most frequent words used in each rating?\n",
    "\n",
    "To answer each of these questions, a series of data preprocessing and data analysis will be performed on the data, and visualised in a way that best answers the question. Two predictive sentiment classifiers will then be performed and evaluated, using the text of the critic's reviews as the input variable to make predictions about the potential opencritic rating that it would receive (e.g. mighty, strong, fair or weak). With these approaches, the objective is to gather whether video game developers can use independent review aggregators to improve the future sales of their games using the sentiment of critic reviews.\n"
   ]
  },
  {
   "cell_type": "markdown",
   "id": "68edcfb4",
   "metadata": {},
   "source": [
    "## Related work"
   ]
  },
  {
   "cell_type": "markdown",
   "id": "a1b723d4",
   "metadata": {},
   "source": [
    "The study of video games and the effects of reviews on consumer and publisher decisions is a fairly novel area. Initial studies focused more on other industries, such as movies, tourism and books. Duan et al discovered that online review valence and volume both had an influence on the movie box office revenues, with valence having an indirect effect and volume having a direct effect$^{1}$. Another study also found that the valence of reviews (positive and negative reviews) from data collected from Amazon.com can influence the consumer demand, with positive reviews having a marginally larger influence$^{2}$. This consumer demand, in essence, increases the likelihood of sales, although these studies did not explore the use of reviews in validating the quality of a product. Another study on Amazon.com took a cross-sectional study of the effect of online reviews on the sale of books and also found that the ratings of a review has a direct positive correlation with book sales$^{3}$.\n",
    "\n",
    "Video game companies are operating in an increasingly competitive environment, with technological advancements like cloud gaming and virtual reality beginning to gain traction as commercial products. With ratings and scores a good indication of a product's quality, the information provided through text is a means of getting ahead in the market, with the low cost of access from a large geographical market and in large scale bringing a new dynamic to any market$^{4}$$^{5}$. Many companies are beginning study text sentiment. For example, IBM, Twitter are some companies using sentiment analysis and similar technologies to gain insight into employee morale as a way to help improve the prospects of employee retention$^{6}$.  \n",
    "\n",
    "For the purpose of this project, correlation between the sentiment of video game reviews and the review rating/score is of interest. A previous study \n",
    "\n"
   ]
  },
  {
   "cell_type": "markdown",
   "id": "f48b8b51",
   "metadata": {},
   "source": [
    "## Method"
   ]
  },
  {
   "cell_type": "markdown",
   "id": "3093564a",
   "metadata": {},
   "source": [
    "### Data collection"
   ]
  },
  {
   "cell_type": "markdown",
   "id": "bc7ff5e9",
   "metadata": {},
   "source": [
    "The data collected for this project was from opencritic.com, a review aggregator for video games. The website harbours reviews from top gaming publishers and journalists as well as audience or 'amateur' reviews. On the project proposal for this project, a function using python was created to scrape the data. More specifically, a python web-scraping library called Beautiful Soup was used to access the information on the website. Data from a list of the first 100 games spanning over 5 browsing pages were collected, with the games sorted into order based on the number of reviews. I collected name, developer, publisher, genre, release date, game description, critics average score (a mean score for all of the rated reviews on opencritic for that particular game), the critic review, date of review and the critic score.   "
   ]
  },
  {
   "cell_type": "markdown",
   "id": "bf5bb4ce",
   "metadata": {},
   "source": [
    "### Import libraries and load in the data"
   ]
  },
  {
   "cell_type": "code",
   "execution_count": 1,
   "id": "805bcd7c",
   "metadata": {},
   "outputs": [],
   "source": [
    "import pandas as pd\n",
    "import numpy as np\n",
    "import nltk\n",
    "from nltk.corpus import stopwords\n",
    "from nltk.tokenize import word_tokenize\n",
    "from nltk import FreqDist\n",
    "from nltk.stem import WordNetLemmatizer\n",
    "import matplotlib.pyplot as plt\n",
    "import matplotlib.gridspec as gridspec\n",
    "from matplotlib import ticker  \n",
    "from scipy.stats import probplot\n",
    "import string\n",
    "import re\n",
    "from prettytable import PrettyTable\n",
    "%matplotlib inline\n",
    "import unittest\n",
    "from imblearn.over_sampling import SMOTE\n",
    "from sklearn.utils import resample\n",
    "from sklearn.feature_extraction.text import TfidfVectorizer\n",
    "from sklearn.model_selection import train_test_split\n",
    "from sklearn.naive_bayes import MultinomialNB\n",
    "from sklearn.model_selection import cross_val_score\n",
    "from sklearn import svm"
   ]
  },
  {
   "cell_type": "code",
   "execution_count": 26,
   "id": "8aa2ddf3",
   "metadata": {},
   "outputs": [
    {
     "data": {
      "text/html": [
       "<div>\n",
       "<style scoped>\n",
       "    .dataframe tbody tr th:only-of-type {\n",
       "        vertical-align: middle;\n",
       "    }\n",
       "\n",
       "    .dataframe tbody tr th {\n",
       "        vertical-align: top;\n",
       "    }\n",
       "\n",
       "    .dataframe thead th {\n",
       "        text-align: right;\n",
       "    }\n",
       "</style>\n",
       "<table border=\"1\" class=\"dataframe\">\n",
       "  <thead>\n",
       "    <tr style=\"text-align: right;\">\n",
       "      <th></th>\n",
       "      <th>name</th>\n",
       "      <th>developer</th>\n",
       "      <th>publisher</th>\n",
       "      <th>genre</th>\n",
       "      <th>release_date</th>\n",
       "      <th>description</th>\n",
       "      <th>critics_average_score</th>\n",
       "      <th>critic_review</th>\n",
       "      <th>date_of_review</th>\n",
       "      <th>critics_score</th>\n",
       "    </tr>\n",
       "  </thead>\n",
       "  <tbody>\n",
       "    <tr>\n",
       "      <th>0</th>\n",
       "      <td>The Outer Worlds</td>\n",
       "      <td>Obsidian Entertainment</td>\n",
       "      <td>Private Division</td>\n",
       "      <td>RPG</td>\n",
       "      <td>2019-10-25</td>\n",
       "      <td>The Outer Worlds is a new single-player first-...</td>\n",
       "      <td>82</td>\n",
       "      <td>There's a category of games I think of as Satu...</td>\n",
       "      <td>2019-10-22 00:00:00</td>\n",
       "      <td>79.0</td>\n",
       "    </tr>\n",
       "    <tr>\n",
       "      <th>1</th>\n",
       "      <td>The Outer Worlds</td>\n",
       "      <td>Obsidian Entertainment</td>\n",
       "      <td>Private Division</td>\n",
       "      <td>RPG</td>\n",
       "      <td>2019-10-25</td>\n",
       "      <td>The Outer Worlds is a new single-player first-...</td>\n",
       "      <td>82</td>\n",
       "      <td>With The Outer Worlds, Obsidian has found its ...</td>\n",
       "      <td>2019-10-22 00:00:00</td>\n",
       "      <td>85.0</td>\n",
       "    </tr>\n",
       "    <tr>\n",
       "      <th>2</th>\n",
       "      <td>The Outer Worlds</td>\n",
       "      <td>Obsidian Entertainment</td>\n",
       "      <td>Private Division</td>\n",
       "      <td>RPG</td>\n",
       "      <td>2019-10-25</td>\n",
       "      <td>The Outer Worlds is a new single-player first-...</td>\n",
       "      <td>82</td>\n",
       "      <td>A conventional, easygoing scifi RPG with sligh...</td>\n",
       "      <td>2019-10-22 00:00:00</td>\n",
       "      <td>NaN</td>\n",
       "    </tr>\n",
       "    <tr>\n",
       "      <th>3</th>\n",
       "      <td>The Outer Worlds</td>\n",
       "      <td>Obsidian Entertainment</td>\n",
       "      <td>Private Division</td>\n",
       "      <td>RPG</td>\n",
       "      <td>2019-10-25</td>\n",
       "      <td>The Outer Worlds is a new single-player first-...</td>\n",
       "      <td>82</td>\n",
       "      <td>A deep, funny, and intricately designed RPG re...</td>\n",
       "      <td>2019-10-29 00:00:00</td>\n",
       "      <td>90.0</td>\n",
       "    </tr>\n",
       "    <tr>\n",
       "      <th>4</th>\n",
       "      <td>The Outer Worlds</td>\n",
       "      <td>Obsidian Entertainment</td>\n",
       "      <td>Private Division</td>\n",
       "      <td>RPG</td>\n",
       "      <td>2019-10-25</td>\n",
       "      <td>The Outer Worlds is a new single-player first-...</td>\n",
       "      <td>82</td>\n",
       "      <td>The Outer Worlds marks Obsidian operating at t...</td>\n",
       "      <td>2019-10-22 00:00:00</td>\n",
       "      <td>90.0</td>\n",
       "    </tr>\n",
       "  </tbody>\n",
       "</table>\n",
       "</div>"
      ],
      "text/plain": [
       "                name               developer         publisher genre  \\\n",
       "0  The Outer Worlds   Obsidian Entertainment  Private Division   RPG   \n",
       "1  The Outer Worlds   Obsidian Entertainment  Private Division   RPG   \n",
       "2  The Outer Worlds   Obsidian Entertainment  Private Division   RPG   \n",
       "3  The Outer Worlds   Obsidian Entertainment  Private Division   RPG   \n",
       "4  The Outer Worlds   Obsidian Entertainment  Private Division   RPG   \n",
       "\n",
       "  release_date                                        description  \\\n",
       "0   2019-10-25  The Outer Worlds is a new single-player first-...   \n",
       "1   2019-10-25  The Outer Worlds is a new single-player first-...   \n",
       "2   2019-10-25  The Outer Worlds is a new single-player first-...   \n",
       "3   2019-10-25  The Outer Worlds is a new single-player first-...   \n",
       "4   2019-10-25  The Outer Worlds is a new single-player first-...   \n",
       "\n",
       "   critics_average_score                                      critic_review  \\\n",
       "0                     82  There's a category of games I think of as Satu...   \n",
       "1                     82  With The Outer Worlds, Obsidian has found its ...   \n",
       "2                     82  A conventional, easygoing scifi RPG with sligh...   \n",
       "3                     82  A deep, funny, and intricately designed RPG re...   \n",
       "4                     82  The Outer Worlds marks Obsidian operating at t...   \n",
       "\n",
       "        date_of_review  critics_score  \n",
       "0  2019-10-22 00:00:00           79.0  \n",
       "1  2019-10-22 00:00:00           85.0  \n",
       "2  2019-10-22 00:00:00            NaN  \n",
       "3  2019-10-29 00:00:00           90.0  \n",
       "4  2019-10-22 00:00:00           90.0  "
      ]
     },
     "execution_count": 26,
     "metadata": {},
     "output_type": "execute_result"
    }
   ],
   "source": [
    "df = pd.read_csv(\"opencritic_data_cleaned.csv\", index_col = 0)\n",
    "df.head()"
   ]
  },
  {
   "cell_type": "markdown",
   "id": "12dd3abc",
   "metadata": {},
   "source": [
    "There are currently null values in the dataframe above. These will be removed during the separate preprocessing stages for each analysis question to prevent losing important information in one large-scale data preprocessing pipeline. The columns of interest will be selected for each question prior to the removal of null values. For example, if a row has a null value in the publisher column, but the publisher column is not required for the analysis in question, then that column will be filtered out resulting in the retention of that row when null values are removed."
   ]
  },
  {
   "cell_type": "markdown",
   "id": "28b04254",
   "metadata": {},
   "source": [
    "Throughout the analysis, a series of functions were created and regularly updated as they were applied and troubleshooted. These functions are kept in one cell near the top of analysis, reducing the time required to search through the code to locate them."
   ]
  },
  {
   "cell_type": "code",
   "execution_count": 27,
   "id": "df36ca5b",
   "metadata": {},
   "outputs": [],
   "source": [
    "def process_text(text):\n",
    "    \"\"\"\n",
    "    Converts text to lower case, removes all punctuation and stop words, and performs tokenisation\n",
    "    \"\"\"\n",
    "    #apply lowercase\n",
    "    lower_case_text = str(text).lower()\n",
    "    \n",
    "    #remove punctuation\n",
    "    punctuation = string.punctuation\n",
    "    punc_removed_text = \"\"\n",
    "    for letter in lower_case_text:\n",
    "        if letter not in punctuation:\n",
    "            punc_removed_text += letter\n",
    "            \n",
    "    #tokenise the text\n",
    "    tokenised = word_tokenize(punc_removed_text)\n",
    "    \n",
    "    #remove stop words\n",
    "    stop_words= stopwords.words(\"english\")\n",
    "    new_text = []\n",
    "    for word in tokenised:\n",
    "        if word not in stop_words:\n",
    "            new_text.append(word)\n",
    "    \n",
    "    #get rid of apostrophe. This doesn't go when punctuation removal is applied\n",
    "    while '’' in new_text:\n",
    "        new_text.remove('’')\n",
    "        \n",
    "    #get rid of numbers as only words are required for analysis. The numbers will have no meaning\n",
    "    pattern = r'[\\d]+'\n",
    "    numbers_removed = [re.sub(pattern, \"\", w) for w in new_text]\n",
    "    \n",
    "    #remove whitespace created by the regex method above\n",
    "    while \"\" in numbers_removed:\n",
    "        numbers_removed.remove(\"\")\n",
    "    \n",
    "    #lemmatize each word using a list comprehension\n",
    "    lem = WordNetLemmatizer()\n",
    "    text_lemmatized = [lem.lemmatize(word) for word in numbers_removed]\n",
    "    \n",
    "    return text_lemmatized\n",
    "\n",
    "def process_text_keep_stop_words(text):\n",
    "    \"\"\"\n",
    "    Converts text to lower case, removes all punctuation and performs tokenisation. \n",
    "    Stop words are kept in the text.\n",
    "    \"\"\"\n",
    "    #apply lowercase\n",
    "    lower_case_text = str(text).lower()\n",
    "    \n",
    "    #remove punctuation\n",
    "    punctuation = string.punctuation\n",
    "    punc_removed_text = \"\"\n",
    "    for letter in lower_case_text:\n",
    "        if letter not in punctuation:\n",
    "            punc_removed_text += letter\n",
    "            \n",
    "    #tokenise the text\n",
    "    tokenised = word_tokenize(punc_removed_text)\n",
    "      \n",
    "    #get rid of apostrophe. This doesn't go when punctuation removal is applied\n",
    "    while '’' in tokenised:\n",
    "        tokenised.remove('’')\n",
    "    \n",
    "    return tokenised\n",
    "\n",
    "def process_word(word):\n",
    "    \"\"\"\n",
    "    Converts word to lower case, removes all punctuation and strips any spaces\n",
    "\n",
    "    \"\"\"\n",
    "    #convert word to lowercase\n",
    "    lower_case = str(word).lower()\n",
    "    \n",
    "    #remove punctuation\n",
    "    punctuation = string.punctuation\n",
    "    punc_removed = ''\n",
    "    for letter in lower_case:\n",
    "        if letter not in punctuation:\n",
    "            punc_removed += letter\n",
    "    \n",
    "    #strip spaces on either side of the word\n",
    "    word_stripped = punc_removed.lstrip().rstrip()\n",
    "    \n",
    "    return word_stripped\n",
    "\n",
    "def categorise_scores(score):\n",
    "    \"\"\"\n",
    "    Function that takes a critic score as an input and converts that score into an opencritic score.\n",
    "    \"\"\"\n",
    "    if score >= 90:\n",
    "        return \"mighty\"\n",
    "    elif score >= 60 and score < 90:\n",
    "        return \"strong\"\n",
    "    elif score >= 30 and score < 60:\n",
    "        return \"fair\"\n",
    "    else:\n",
    "        return \"weak\"\n",
    "    \n",
    "def bootstrap(s):\n",
    "    sample_means = []\n",
    "    for i in range(1000):\n",
    "        n = len(s.values)\n",
    "        sample = resample(s.values, n_samples=n)#s.sample(n=n, replace=True, axis=0)\n",
    "        mean_of_sample = np.mean(sample)\n",
    "        sample_means.append(mean_of_sample)\n",
    "    return sample_means\n",
    "\n",
    "def confidence_intervals(sample_dist):\n",
    "    #CI = x bar plus or minus critical val (1.96) multiplied by standard error\n",
    "    standard_error = np.std(sample_dist) \n",
    "    mean = np.mean(sample_dist)\n",
    "    CI_H = mean + 2.57 * standard_error\n",
    "    CI_L = mean - 2.57 * standard_error\n",
    "    return [CI_L, CI_H]"
   ]
  },
  {
   "cell_type": "markdown",
   "id": "2027beba",
   "metadata": {},
   "source": [
    "### Preprocessing the data for analysis "
   ]
  },
  {
   "cell_type": "markdown",
   "id": "13782a3e",
   "metadata": {},
   "source": [
    "#### Question 1: Is there any correlation between the length of the critic's review and the critic's score?"
   ]
  },
  {
   "cell_type": "markdown",
   "id": "25f678ef",
   "metadata": {},
   "source": [
    "This question involves the analysis of two variables- the word length of a critic's review and the score that a critic gave with that review. The score is a discrete numerical value while the reviews are in a text format, which must be modified. The process_text_keep_stop_words function is applied to the text, creating a list of words from the text that can be counted using the len() method.\n",
    "\n",
    "The process_text function was used initially in the analysis but the removal of stop words created a reduction in the overall length of each review, hence a new function was created that was more simplistic version to the process_text function but had better functionality to achieve the necessary data for analysis.\n",
    "\n",
    "A note on the first line of code in the code cell below. the loc method was used after having used the square brackets (chained) solely as the locator for the columns. The latter treats the operation of each column as separate instead of one operation. the loc function treats the columns as one entity in the process, making the operation significantly faster, and allows the indexing of both axes, if desired$^{7}$."
   ]
  },
  {
   "cell_type": "code",
   "execution_count": 52,
   "id": "d08b5b70",
   "metadata": {},
   "outputs": [
    {
     "data": {
      "text/html": [
       "<div>\n",
       "<style scoped>\n",
       "    .dataframe tbody tr th:only-of-type {\n",
       "        vertical-align: middle;\n",
       "    }\n",
       "\n",
       "    .dataframe tbody tr th {\n",
       "        vertical-align: top;\n",
       "    }\n",
       "\n",
       "    .dataframe thead th {\n",
       "        text-align: right;\n",
       "    }\n",
       "</style>\n",
       "<table border=\"1\" class=\"dataframe\">\n",
       "  <thead>\n",
       "    <tr style=\"text-align: right;\">\n",
       "      <th></th>\n",
       "      <th>critic_review</th>\n",
       "      <th>critics_score</th>\n",
       "      <th>review_tokenize</th>\n",
       "      <th>review_length</th>\n",
       "    </tr>\n",
       "  </thead>\n",
       "  <tbody>\n",
       "    <tr>\n",
       "      <th>0</th>\n",
       "      <td>There's a category of games I think of as Satu...</td>\n",
       "      <td>79.0</td>\n",
       "      <td>[theres, a, category, of, games, i, think, of,...</td>\n",
       "      <td>65</td>\n",
       "    </tr>\n",
       "    <tr>\n",
       "      <th>1</th>\n",
       "      <td>With The Outer Worlds, Obsidian has found its ...</td>\n",
       "      <td>85.0</td>\n",
       "      <td>[with, the, outer, worlds, obsidian, has, foun...</td>\n",
       "      <td>23</td>\n",
       "    </tr>\n",
       "    <tr>\n",
       "      <th>3</th>\n",
       "      <td>A deep, funny, and intricately designed RPG re...</td>\n",
       "      <td>90.0</td>\n",
       "      <td>[a, deep, funny, and, intricately, designed, r...</td>\n",
       "      <td>24</td>\n",
       "    </tr>\n",
       "    <tr>\n",
       "      <th>4</th>\n",
       "      <td>The Outer Worlds marks Obsidian operating at t...</td>\n",
       "      <td>90.0</td>\n",
       "      <td>[the, outer, worlds, marks, obsidian, operatin...</td>\n",
       "      <td>25</td>\n",
       "    </tr>\n",
       "    <tr>\n",
       "      <th>6</th>\n",
       "      <td>Classic RPG sensibilities enhance wonderful ch...</td>\n",
       "      <td>93.0</td>\n",
       "      <td>[classic, rpg, sensibilities, enhance, wonderf...</td>\n",
       "      <td>17</td>\n",
       "    </tr>\n",
       "  </tbody>\n",
       "</table>\n",
       "</div>"
      ],
      "text/plain": [
       "                                       critic_review  critics_score  \\\n",
       "0  There's a category of games I think of as Satu...           79.0   \n",
       "1  With The Outer Worlds, Obsidian has found its ...           85.0   \n",
       "3  A deep, funny, and intricately designed RPG re...           90.0   \n",
       "4  The Outer Worlds marks Obsidian operating at t...           90.0   \n",
       "6  Classic RPG sensibilities enhance wonderful ch...           93.0   \n",
       "\n",
       "                                     review_tokenize  review_length  \n",
       "0  [theres, a, category, of, games, i, think, of,...             65  \n",
       "1  [with, the, outer, worlds, obsidian, has, foun...             23  \n",
       "3  [a, deep, funny, and, intricately, designed, r...             24  \n",
       "4  [the, outer, worlds, marks, obsidian, operatin...             25  \n",
       "6  [classic, rpg, sensibilities, enhance, wonderf...             17  "
      ]
     },
     "execution_count": 52,
     "metadata": {},
     "output_type": "execute_result"
    }
   ],
   "source": [
    "df2 = df.loc[:,['critic_review', 'critics_score']]\n",
    "\n",
    "#drop null values from critic review and scritics score\n",
    "df2.dropna(inplace=True)\n",
    "\n",
    "#df2.info() critic_review is an object and critics_score is a float, which are the correct data types\n",
    "\n",
    "#get length of each review by creating a new column with the length of the review\n",
    "#use process_text function to clean text\n",
    "\n",
    "\n",
    "df2['review_tokenize'] = df2.loc[:,'critic_review'].apply(lambda x: process_text_keep_stop_words(x))\n",
    "\n",
    "#get length of each review\n",
    "df2['review_length'] = df2.loc[:,'review_tokenize'].apply(len)\n",
    "\n",
    "df2.head()"
   ]
  },
  {
   "cell_type": "markdown",
   "id": "77757032",
   "metadata": {},
   "source": [
    "#### Question 2: How many critic's reviews are there per game, and does this correlate with the average critics score?"
   ]
  },
  {
   "cell_type": "markdown",
   "id": "2e162dd0",
   "metadata": {},
   "source": [
    "This question requires the manipulation of the dataframe by grouping via a column using a different aggregation technique for the two i.e. 'count' to count the number of reviews and 'mean' to get the average critics score.\n",
    "\n",
    "It is important to note that the average critics score is the score calculated by opencritic.com based on the all of the reviews for that particular game. As this is an overarching score, each review has been assigned the average critcs score for the corresponding game. Therefore, taking the mean of these values will equate to the average critic score as all the values in the calculation will be the same."
   ]
  },
  {
   "cell_type": "code",
   "execution_count": 17,
   "id": "cd8b83c2",
   "metadata": {},
   "outputs": [
    {
     "data": {
      "text/html": [
       "<div>\n",
       "<style scoped>\n",
       "    .dataframe tbody tr th:only-of-type {\n",
       "        vertical-align: middle;\n",
       "    }\n",
       "\n",
       "    .dataframe tbody tr th {\n",
       "        vertical-align: top;\n",
       "    }\n",
       "\n",
       "    .dataframe thead th {\n",
       "        text-align: right;\n",
       "    }\n",
       "</style>\n",
       "<table border=\"1\" class=\"dataframe\">\n",
       "  <thead>\n",
       "    <tr style=\"text-align: right;\">\n",
       "      <th></th>\n",
       "      <th>critic_review</th>\n",
       "      <th>critics_average_score</th>\n",
       "    </tr>\n",
       "    <tr>\n",
       "      <th>name</th>\n",
       "      <th></th>\n",
       "      <th></th>\n",
       "    </tr>\n",
       "  </thead>\n",
       "  <tbody>\n",
       "    <tr>\n",
       "      <th>Call of Cthulhu</th>\n",
       "      <td>139</td>\n",
       "      <td>67.0</td>\n",
       "    </tr>\n",
       "    <tr>\n",
       "      <th>Call of Duty: WWII</th>\n",
       "      <td>148</td>\n",
       "      <td>78.0</td>\n",
       "    </tr>\n",
       "    <tr>\n",
       "      <th>Captain Toad: Treasure Tracker</th>\n",
       "      <td>141</td>\n",
       "      <td>82.0</td>\n",
       "    </tr>\n",
       "    <tr>\n",
       "      <th>Crash Bandicoot N. Sane Trilogy</th>\n",
       "      <td>141</td>\n",
       "      <td>80.0</td>\n",
       "    </tr>\n",
       "    <tr>\n",
       "      <th>Detroit: Become Human</th>\n",
       "      <td>143</td>\n",
       "      <td>79.0</td>\n",
       "    </tr>\n",
       "  </tbody>\n",
       "</table>\n",
       "</div>"
      ],
      "text/plain": [
       "                                   critic_review  critics_average_score\n",
       "name                                                                   \n",
       " Call of Cthulhu                             139                   67.0\n",
       " Call of Duty: WWII                          148                   78.0\n",
       " Captain Toad: Treasure Tracker              141                   82.0\n",
       " Crash Bandicoot N. Sane Trilogy             141                   80.0\n",
       " Detroit: Become Human                       143                   79.0"
      ]
     },
     "execution_count": 17,
     "metadata": {},
     "output_type": "execute_result"
    }
   ],
   "source": [
    "#get the number of reviews per game and average critics score per game using groupby method\n",
    "df_q2_review_count = df.groupby('name').critic_review.count()\n",
    "df_q2_ave_critic_score = df.groupby('name').critics_average_score.mean()\n",
    "\n",
    "#join both series together by columns\n",
    "df_q2 = pd.concat([df_q2_review_count, df_q2_ave_critic_score], axis=1)\n",
    "df_q2.head()"
   ]
  },
  {
   "cell_type": "markdown",
   "id": "63c7812c",
   "metadata": {},
   "source": [
    "#### Question 3: What are the most frequent words used by critics when reviewing a game?"
   ]
  },
  {
   "cell_type": "markdown",
   "id": "6c2a664d",
   "metadata": {},
   "source": [
    "Just like question 1, the data requires the processing of the text into a tokenised list, but then the tokenised reviews are combined so that the natural language toolkit can create a frequency distribution. Using the extend attribute is the ideal technique to join a list onto another list without a two dimensional list, which would have occurred if the append attribute was used."
   ]
  },
  {
   "cell_type": "code",
   "execution_count": 18,
   "id": "b41ce990",
   "metadata": {},
   "outputs": [
    {
     "data": {
      "text/plain": [
       "['there',\n",
       " 'category',\n",
       " 'game',\n",
       " 'think',\n",
       " 'saturday',\n",
       " 'morning',\n",
       " 'cartoon',\n",
       " 'game',\n",
       " 'lack',\n",
       " 'depth']"
      ]
     },
     "execution_count": 18,
     "metadata": {},
     "output_type": "execute_result"
    }
   ],
   "source": [
    "#process the text (using function created earlier in the notebook) \n",
    "reviews = df.loc[:,'critic_review']\n",
    "tokenize_reviews = reviews.apply(lambda x: process_text(x))\n",
    "\n",
    "#combine all reviews into one text\n",
    "combined_text = []\n",
    "for text in tokenize_reviews:\n",
    "    combined_text.extend(text)\n",
    "\n",
    "#a sample of the text after it has been processed\n",
    "combined_text[:10]"
   ]
  },
  {
   "cell_type": "markdown",
   "id": "a6d8e18f",
   "metadata": {},
   "source": [
    "#### Question 4: What are the most frequent words used by critics when reviewing a games for each publisher?"
   ]
  },
  {
   "cell_type": "code",
   "execution_count": 19,
   "id": "b7694133",
   "metadata": {},
   "outputs": [],
   "source": [
    "#df.publisher.nunique()\n",
    "#33 different publishers --> to group by publisher in a new copy of df"
   ]
  },
  {
   "cell_type": "markdown",
   "id": "282f610f",
   "metadata": {},
   "source": [
    "A similar approach to question three's method has been used. A slight difference is the use and manipulation of the publisher variable. Upon initial analysis for question 4, I realised some of the publishers were duplicated and occurring twive in the frequency, which prompted the creation on the process_word function, used to convert text to lowercase, remove whitespace from either side of the text and remove any punctuation. This processing enabled a more streamlined grouping of publishers and therefore a better representation of their text frequency."
   ]
  },
  {
   "cell_type": "code",
   "execution_count": 20,
   "id": "d4333d23",
   "metadata": {},
   "outputs": [
    {
     "data": {
      "text/plain": [
       "28"
      ]
     },
     "execution_count": 20,
     "metadata": {},
     "output_type": "execute_result"
    }
   ],
   "source": [
    "df4 = df.copy()\n",
    "\n",
    "df4 = df4.loc[:, ['publisher', 'critic_review']]\n",
    "\n",
    "#remove null values\n",
    "df4.dropna(inplace= True)\n",
    "\n",
    "#process text using process_text function\n",
    "df4['publisher_new'] = df4['publisher'].apply(lambda x: process_word(x))\n",
    "\n",
    "df4.publisher_new.nunique()"
   ]
  },
  {
   "cell_type": "markdown",
   "id": "bb05f27c",
   "metadata": {},
   "source": [
    "The code below provides a means to group the reviews of each publisher into one observation, using the join method, which creates one complete text of all of the reviews under each publisher and ideally makes it easier to process that body of text, ready for analysis. Initially, a list comprehension was used to append each review into a list of reviews, but this created issues when feeding that list into the process_text function: the function requires a string as an input and not a list."
   ]
  },
  {
   "cell_type": "code",
   "execution_count": 21,
   "id": "5c9e0850",
   "metadata": {},
   "outputs": [
    {
     "data": {
      "text/plain": [
       "publisher_new\n",
       "505 games                     Control is set in an engrossingly weird parano...\n",
       "activision                    Gorgeous guns, a glittering universe, and a gr...\n",
       "bandai namco entertainment    Little Nightmares 2 delivers similar stealth a...\n",
       "bandai namco games            Dark Souls 3 sees the return of the king in a ...\n",
       "bethesda softworks            Vaster, magnetic and more brutal than ever, DO...\n",
       "bigben interactive            While occasionally frustrating, The Sinking Ci...\n",
       "capcom                        This beautifully implemented port is a perfect...\n",
       "deep silver                   Metro Exodus on the PlayStation 5 is more than...\n",
       "electronic arts               Mass Effect: Andromeda only occasionally recap...\n",
       "focus home interactive        Dontnod takes a thrillingly Gothic perspective...\n",
       "Name: critic_review, dtype: object"
      ]
     },
     "execution_count": 21,
     "metadata": {},
     "output_type": "execute_result"
    }
   ],
   "source": [
    "#group the publishers and join reviews\n",
    "publishers_grouped = df4.groupby('publisher_new').critic_review.apply(lambda x: ' '.join(x))\n",
    "publishers_grouped[:10]"
   ]
  },
  {
   "cell_type": "code",
   "execution_count": 22,
   "id": "9cbbb2d1",
   "metadata": {},
   "outputs": [
    {
     "data": {
      "text/plain": [
       "publisher_new\n",
       "505 games                     [control, set, engrossingly, weird, paranormal...\n",
       "activision                    [gorgeous, gun, glittering, universe, great, p...\n",
       "bandai namco entertainment    [little, nightmare, delivers, similar, stealth...\n",
       "bandai namco games            [dark, soul, see, return, king, spectacular, c...\n",
       "bethesda softworks            [vaster, magnetic, brutal, ever, doom, eternal...\n",
       "bigben interactive            [occasionally, frustrating, sinking, city, com...\n",
       "capcom                        [beautifully, implemented, port, perfect, pc, ...\n",
       "deep silver                   [metro, exodus, playstation, simple, upgrade, ...\n",
       "electronic arts               [mass, effect, andromeda, occasionally, recapt...\n",
       "focus home interactive        [dontnod, take, thrillingly, gothic, perspecti...\n",
       "Name: critic_review, dtype: object"
      ]
     },
     "execution_count": 22,
     "metadata": {},
     "output_type": "execute_result"
    }
   ],
   "source": [
    "#process text\n",
    "publishers_grouped = publishers_grouped.apply(lambda x: process_text(x))\n",
    "publishers_grouped[:10]"
   ]
  },
  {
   "cell_type": "markdown",
   "id": "004fdec0",
   "metadata": {},
   "source": [
    "#### Question 5: By grouping the individual critic's scores into the ratings categories on opencritic.com (mighty, strong, fair, weak), what are the most frequent words used in each rating?"
   ]
  },
  {
   "cell_type": "markdown",
   "id": "c68fc57f",
   "metadata": {},
   "source": [
    "Opencritic categorises a game, based on the average critics score, into one of four categories:\n",
    "\n",
    "- Mighty: average critics score is 90th percentile or higher\n",
    "- Strong: avergae critics score between 60th and 90th percentile\n",
    "- Fair: average critics score between 30th and 60th percentile\n",
    "- Weak: average critics score is in the bottom 30th percentile\n",
    "\n",
    "Although I am categorising each review score and not a game's average score, it has proven to be useful in the classification models, where the discrete nature of the critics scores proved to be more difficult to make accurate predictions.\n",
    "\n",
    "The preprocessing technique required for the analysis to this question is similar to question three and four, except a new column is created to categorise the critic scores into one of the four classes mentioned above."
   ]
  },
  {
   "cell_type": "code",
   "execution_count": 23,
   "id": "e40bbb68",
   "metadata": {},
   "outputs": [
    {
     "data": {
      "text/html": [
       "<div>\n",
       "<style scoped>\n",
       "    .dataframe tbody tr th:only-of-type {\n",
       "        vertical-align: middle;\n",
       "    }\n",
       "\n",
       "    .dataframe tbody tr th {\n",
       "        vertical-align: top;\n",
       "    }\n",
       "\n",
       "    .dataframe thead th {\n",
       "        text-align: right;\n",
       "    }\n",
       "</style>\n",
       "<table border=\"1\" class=\"dataframe\">\n",
       "  <thead>\n",
       "    <tr style=\"text-align: right;\">\n",
       "      <th></th>\n",
       "      <th>critic_review</th>\n",
       "      <th>critics_score</th>\n",
       "      <th>opencritic_rating</th>\n",
       "    </tr>\n",
       "  </thead>\n",
       "  <tbody>\n",
       "    <tr>\n",
       "      <th>0</th>\n",
       "      <td>There's a category of games I think of as Satu...</td>\n",
       "      <td>79.0</td>\n",
       "      <td>strong</td>\n",
       "    </tr>\n",
       "    <tr>\n",
       "      <th>1</th>\n",
       "      <td>With The Outer Worlds, Obsidian has found its ...</td>\n",
       "      <td>85.0</td>\n",
       "      <td>strong</td>\n",
       "    </tr>\n",
       "    <tr>\n",
       "      <th>3</th>\n",
       "      <td>A deep, funny, and intricately designed RPG re...</td>\n",
       "      <td>90.0</td>\n",
       "      <td>mighty</td>\n",
       "    </tr>\n",
       "    <tr>\n",
       "      <th>4</th>\n",
       "      <td>The Outer Worlds marks Obsidian operating at t...</td>\n",
       "      <td>90.0</td>\n",
       "      <td>mighty</td>\n",
       "    </tr>\n",
       "    <tr>\n",
       "      <th>6</th>\n",
       "      <td>Classic RPG sensibilities enhance wonderful ch...</td>\n",
       "      <td>93.0</td>\n",
       "      <td>mighty</td>\n",
       "    </tr>\n",
       "  </tbody>\n",
       "</table>\n",
       "</div>"
      ],
      "text/plain": [
       "                                       critic_review  critics_score  \\\n",
       "0  There's a category of games I think of as Satu...           79.0   \n",
       "1  With The Outer Worlds, Obsidian has found its ...           85.0   \n",
       "3  A deep, funny, and intricately designed RPG re...           90.0   \n",
       "4  The Outer Worlds marks Obsidian operating at t...           90.0   \n",
       "6  Classic RPG sensibilities enhance wonderful ch...           93.0   \n",
       "\n",
       "  opencritic_rating  \n",
       "0            strong  \n",
       "1            strong  \n",
       "3            mighty  \n",
       "4            mighty  \n",
       "6            mighty  "
      ]
     },
     "execution_count": 23,
     "metadata": {},
     "output_type": "execute_result"
    }
   ],
   "source": [
    "df5 = df.loc[:,['critic_review', 'critics_score']]\n",
    "\n",
    "#drop null values\n",
    "df5.dropna(inplace=True)\n",
    "\n",
    "#create new column for opencritic rating and use categorise_scores function\n",
    "df5['opencritic_rating'] = df5['critics_score'].apply(lambda x: categorise_scores(x))\n",
    "df5.head()"
   ]
  },
  {
   "cell_type": "code",
   "execution_count": 24,
   "id": "0e127564",
   "metadata": {},
   "outputs": [
    {
     "data": {
      "text/plain": [
       "opencritic_rating\n",
       "fair      The Outer Worlds is one of the most polished a...\n",
       "mighty    A deep, funny, and intricately designed RPG re...\n",
       "strong    There's a category of games I think of as Satu...\n",
       "weak      Yooka-Laylee is a fun platformer, despite some...\n",
       "Name: critic_review, dtype: object"
      ]
     },
     "execution_count": 24,
     "metadata": {},
     "output_type": "execute_result"
    }
   ],
   "source": [
    "#group by opencritic_rating\n",
    "ratings_grouped = df5.groupby('opencritic_rating').critic_review.apply(lambda x: ''.join(x))\n",
    "ratings_grouped"
   ]
  },
  {
   "cell_type": "code",
   "execution_count": 25,
   "id": "99f2132f",
   "metadata": {},
   "outputs": [
    {
     "data": {
      "text/plain": [
       "opencritic_rating\n",
       "fair      [outer, world, one, polished, best, game, type...\n",
       "mighty    [deep, funny, intricately, designed, rpg, remi...\n",
       "strong    [there, category, game, think, saturday, morni...\n",
       "weak      [yookalaylee, fun, platformer, despite, techni...\n",
       "Name: critic_review, dtype: object"
      ]
     },
     "execution_count": 25,
     "metadata": {},
     "output_type": "execute_result"
    }
   ],
   "source": [
    "#process text using the process_text function\n",
    "ratings_grouped = ratings_grouped.apply(lambda x: process_text(x))\n",
    "ratings_grouped"
   ]
  },
  {
   "cell_type": "markdown",
   "id": "568cc934",
   "metadata": {},
   "source": [
    "#### Sentiment classifiers"
   ]
  },
  {
   "cell_type": "code",
   "execution_count": 7,
   "id": "f6886690",
   "metadata": {},
   "outputs": [
    {
     "data": {
      "text/html": [
       "<div>\n",
       "<style scoped>\n",
       "    .dataframe tbody tr th:only-of-type {\n",
       "        vertical-align: middle;\n",
       "    }\n",
       "\n",
       "    .dataframe tbody tr th {\n",
       "        vertical-align: top;\n",
       "    }\n",
       "\n",
       "    .dataframe thead th {\n",
       "        text-align: right;\n",
       "    }\n",
       "</style>\n",
       "<table border=\"1\" class=\"dataframe\">\n",
       "  <thead>\n",
       "    <tr style=\"text-align: right;\">\n",
       "      <th></th>\n",
       "      <th>name</th>\n",
       "      <th>developer</th>\n",
       "      <th>publisher</th>\n",
       "      <th>genre</th>\n",
       "      <th>release_date</th>\n",
       "      <th>description</th>\n",
       "      <th>critics_average_score</th>\n",
       "      <th>critic_review</th>\n",
       "      <th>date_of_review</th>\n",
       "      <th>critics_score</th>\n",
       "      <th>opencritic_rating_critics_score</th>\n",
       "    </tr>\n",
       "  </thead>\n",
       "  <tbody>\n",
       "    <tr>\n",
       "      <th>0</th>\n",
       "      <td>The Outer Worlds</td>\n",
       "      <td>Obsidian Entertainment</td>\n",
       "      <td>Private Division</td>\n",
       "      <td>RPG</td>\n",
       "      <td>2019-10-25</td>\n",
       "      <td>The Outer Worlds is a new single-player first-...</td>\n",
       "      <td>82</td>\n",
       "      <td>There's a category of games I think of as Satu...</td>\n",
       "      <td>2019-10-22 00:00:00</td>\n",
       "      <td>79.0</td>\n",
       "      <td>strong</td>\n",
       "    </tr>\n",
       "    <tr>\n",
       "      <th>1</th>\n",
       "      <td>The Outer Worlds</td>\n",
       "      <td>Obsidian Entertainment</td>\n",
       "      <td>Private Division</td>\n",
       "      <td>RPG</td>\n",
       "      <td>2019-10-25</td>\n",
       "      <td>The Outer Worlds is a new single-player first-...</td>\n",
       "      <td>82</td>\n",
       "      <td>With The Outer Worlds, Obsidian has found its ...</td>\n",
       "      <td>2019-10-22 00:00:00</td>\n",
       "      <td>85.0</td>\n",
       "      <td>strong</td>\n",
       "    </tr>\n",
       "    <tr>\n",
       "      <th>2</th>\n",
       "      <td>The Outer Worlds</td>\n",
       "      <td>Obsidian Entertainment</td>\n",
       "      <td>Private Division</td>\n",
       "      <td>RPG</td>\n",
       "      <td>2019-10-25</td>\n",
       "      <td>The Outer Worlds is a new single-player first-...</td>\n",
       "      <td>82</td>\n",
       "      <td>A conventional, easygoing scifi RPG with sligh...</td>\n",
       "      <td>2019-10-22 00:00:00</td>\n",
       "      <td>NaN</td>\n",
       "      <td>weak</td>\n",
       "    </tr>\n",
       "    <tr>\n",
       "      <th>3</th>\n",
       "      <td>The Outer Worlds</td>\n",
       "      <td>Obsidian Entertainment</td>\n",
       "      <td>Private Division</td>\n",
       "      <td>RPG</td>\n",
       "      <td>2019-10-25</td>\n",
       "      <td>The Outer Worlds is a new single-player first-...</td>\n",
       "      <td>82</td>\n",
       "      <td>A deep, funny, and intricately designed RPG re...</td>\n",
       "      <td>2019-10-29 00:00:00</td>\n",
       "      <td>90.0</td>\n",
       "      <td>mighty</td>\n",
       "    </tr>\n",
       "    <tr>\n",
       "      <th>4</th>\n",
       "      <td>The Outer Worlds</td>\n",
       "      <td>Obsidian Entertainment</td>\n",
       "      <td>Private Division</td>\n",
       "      <td>RPG</td>\n",
       "      <td>2019-10-25</td>\n",
       "      <td>The Outer Worlds is a new single-player first-...</td>\n",
       "      <td>82</td>\n",
       "      <td>The Outer Worlds marks Obsidian operating at t...</td>\n",
       "      <td>2019-10-22 00:00:00</td>\n",
       "      <td>90.0</td>\n",
       "      <td>mighty</td>\n",
       "    </tr>\n",
       "  </tbody>\n",
       "</table>\n",
       "</div>"
      ],
      "text/plain": [
       "                name               developer         publisher genre  \\\n",
       "0  The Outer Worlds   Obsidian Entertainment  Private Division   RPG   \n",
       "1  The Outer Worlds   Obsidian Entertainment  Private Division   RPG   \n",
       "2  The Outer Worlds   Obsidian Entertainment  Private Division   RPG   \n",
       "3  The Outer Worlds   Obsidian Entertainment  Private Division   RPG   \n",
       "4  The Outer Worlds   Obsidian Entertainment  Private Division   RPG   \n",
       "\n",
       "  release_date                                        description  \\\n",
       "0   2019-10-25  The Outer Worlds is a new single-player first-...   \n",
       "1   2019-10-25  The Outer Worlds is a new single-player first-...   \n",
       "2   2019-10-25  The Outer Worlds is a new single-player first-...   \n",
       "3   2019-10-25  The Outer Worlds is a new single-player first-...   \n",
       "4   2019-10-25  The Outer Worlds is a new single-player first-...   \n",
       "\n",
       "   critics_average_score                                      critic_review  \\\n",
       "0                     82  There's a category of games I think of as Satu...   \n",
       "1                     82  With The Outer Worlds, Obsidian has found its ...   \n",
       "2                     82  A conventional, easygoing scifi RPG with sligh...   \n",
       "3                     82  A deep, funny, and intricately designed RPG re...   \n",
       "4                     82  The Outer Worlds marks Obsidian operating at t...   \n",
       "\n",
       "        date_of_review  critics_score opencritic_rating_critics_score  \n",
       "0  2019-10-22 00:00:00           79.0                          strong  \n",
       "1  2019-10-22 00:00:00           85.0                          strong  \n",
       "2  2019-10-22 00:00:00            NaN                            weak  \n",
       "3  2019-10-29 00:00:00           90.0                          mighty  \n",
       "4  2019-10-22 00:00:00           90.0                          mighty  "
      ]
     },
     "execution_count": 7,
     "metadata": {},
     "output_type": "execute_result"
    }
   ],
   "source": [
    "df_for_classifer = pd.read_csv('opencritic_data_with_ratings.csv', index_col= 'Unnamed: 0')\n",
    "df_for_classifer.head()"
   ]
  },
  {
   "cell_type": "code",
   "execution_count": 8,
   "id": "6d8bfa80",
   "metadata": {},
   "outputs": [
    {
     "data": {
      "text/html": [
       "<div>\n",
       "<style scoped>\n",
       "    .dataframe tbody tr th:only-of-type {\n",
       "        vertical-align: middle;\n",
       "    }\n",
       "\n",
       "    .dataframe tbody tr th {\n",
       "        vertical-align: top;\n",
       "    }\n",
       "\n",
       "    .dataframe thead th {\n",
       "        text-align: right;\n",
       "    }\n",
       "</style>\n",
       "<table border=\"1\" class=\"dataframe\">\n",
       "  <thead>\n",
       "    <tr style=\"text-align: right;\">\n",
       "      <th></th>\n",
       "      <th>critic_review</th>\n",
       "      <th>opencritic_rating_critics_score</th>\n",
       "    </tr>\n",
       "  </thead>\n",
       "  <tbody>\n",
       "    <tr>\n",
       "      <th>0</th>\n",
       "      <td>There's a category of games I think of as Satu...</td>\n",
       "      <td>strong</td>\n",
       "    </tr>\n",
       "    <tr>\n",
       "      <th>1</th>\n",
       "      <td>With The Outer Worlds, Obsidian has found its ...</td>\n",
       "      <td>strong</td>\n",
       "    </tr>\n",
       "    <tr>\n",
       "      <th>2</th>\n",
       "      <td>A conventional, easygoing scifi RPG with sligh...</td>\n",
       "      <td>weak</td>\n",
       "    </tr>\n",
       "    <tr>\n",
       "      <th>3</th>\n",
       "      <td>A deep, funny, and intricately designed RPG re...</td>\n",
       "      <td>mighty</td>\n",
       "    </tr>\n",
       "    <tr>\n",
       "      <th>4</th>\n",
       "      <td>The Outer Worlds marks Obsidian operating at t...</td>\n",
       "      <td>mighty</td>\n",
       "    </tr>\n",
       "    <tr>\n",
       "      <th>...</th>\n",
       "      <td>...</td>\n",
       "      <td>...</td>\n",
       "    </tr>\n",
       "    <tr>\n",
       "      <th>15339</th>\n",
       "      <td>For Honor developed from a promising concept t...</td>\n",
       "      <td>strong</td>\n",
       "    </tr>\n",
       "    <tr>\n",
       "      <th>15340</th>\n",
       "      <td>For Honor is an incredibly competitive multipl...</td>\n",
       "      <td>strong</td>\n",
       "    </tr>\n",
       "    <tr>\n",
       "      <th>15341</th>\n",
       "      <td>As an arena sword fighter For Honor does an ad...</td>\n",
       "      <td>weak</td>\n",
       "    </tr>\n",
       "    <tr>\n",
       "      <th>15342</th>\n",
       "      <td>For Honor is an impressive fighting game with ...</td>\n",
       "      <td>mighty</td>\n",
       "    </tr>\n",
       "    <tr>\n",
       "      <th>15343</th>\n",
       "      <td>Despite its few rather minor flaws, For Honor ...</td>\n",
       "      <td>strong</td>\n",
       "    </tr>\n",
       "  </tbody>\n",
       "</table>\n",
       "<p>15326 rows × 2 columns</p>\n",
       "</div>"
      ],
      "text/plain": [
       "                                           critic_review  \\\n",
       "0      There's a category of games I think of as Satu...   \n",
       "1      With The Outer Worlds, Obsidian has found its ...   \n",
       "2      A conventional, easygoing scifi RPG with sligh...   \n",
       "3      A deep, funny, and intricately designed RPG re...   \n",
       "4      The Outer Worlds marks Obsidian operating at t...   \n",
       "...                                                  ...   \n",
       "15339  For Honor developed from a promising concept t...   \n",
       "15340  For Honor is an incredibly competitive multipl...   \n",
       "15341  As an arena sword fighter For Honor does an ad...   \n",
       "15342  For Honor is an impressive fighting game with ...   \n",
       "15343  Despite its few rather minor flaws, For Honor ...   \n",
       "\n",
       "      opencritic_rating_critics_score  \n",
       "0                              strong  \n",
       "1                              strong  \n",
       "2                                weak  \n",
       "3                              mighty  \n",
       "4                              mighty  \n",
       "...                               ...  \n",
       "15339                          strong  \n",
       "15340                          strong  \n",
       "15341                            weak  \n",
       "15342                          mighty  \n",
       "15343                          strong  \n",
       "\n",
       "[15326 rows x 2 columns]"
      ]
     },
     "execution_count": 8,
     "metadata": {},
     "output_type": "execute_result"
    }
   ],
   "source": [
    "df_c = df_for_classifer.loc[:,['critic_review','opencritic_rating_critics_score']]\n",
    "df_c.dropna(inplace=True)\n",
    "df_c"
   ]
  },
  {
   "cell_type": "code",
   "execution_count": 9,
   "id": "b3aff0a9",
   "metadata": {},
   "outputs": [
    {
     "data": {
      "text/html": [
       "<div>\n",
       "<style scoped>\n",
       "    .dataframe tbody tr th:only-of-type {\n",
       "        vertical-align: middle;\n",
       "    }\n",
       "\n",
       "    .dataframe tbody tr th {\n",
       "        vertical-align: top;\n",
       "    }\n",
       "\n",
       "    .dataframe thead th {\n",
       "        text-align: right;\n",
       "    }\n",
       "</style>\n",
       "<table border=\"1\" class=\"dataframe\">\n",
       "  <thead>\n",
       "    <tr style=\"text-align: right;\">\n",
       "      <th></th>\n",
       "      <th>critic_review</th>\n",
       "      <th>opencritic_rating_critics_score</th>\n",
       "    </tr>\n",
       "  </thead>\n",
       "  <tbody>\n",
       "    <tr>\n",
       "      <th>1335</th>\n",
       "      <td>A stellar remake, which is not afraid to chang...</td>\n",
       "      <td>mighty</td>\n",
       "    </tr>\n",
       "    <tr>\n",
       "      <th>12217</th>\n",
       "      <td>Kingdom Hearts III is the game that fans have ...</td>\n",
       "      <td>strong</td>\n",
       "    </tr>\n",
       "    <tr>\n",
       "      <th>8010</th>\n",
       "      <td>Injustice 2 is a combination of the core gamep...</td>\n",
       "      <td>weak</td>\n",
       "    </tr>\n",
       "    <tr>\n",
       "      <th>1272</th>\n",
       "      <td>Collectively speaking, this game subverts expe...</td>\n",
       "      <td>mighty</td>\n",
       "    </tr>\n",
       "    <tr>\n",
       "      <th>549</th>\n",
       "      <td>\"Triumph\" is a word often lazily used by revie...</td>\n",
       "      <td>weak</td>\n",
       "    </tr>\n",
       "  </tbody>\n",
       "</table>\n",
       "</div>"
      ],
      "text/plain": [
       "                                           critic_review  \\\n",
       "1335   A stellar remake, which is not afraid to chang...   \n",
       "12217  Kingdom Hearts III is the game that fans have ...   \n",
       "8010   Injustice 2 is a combination of the core gamep...   \n",
       "1272   Collectively speaking, this game subverts expe...   \n",
       "549    \"Triumph\" is a word often lazily used by revie...   \n",
       "\n",
       "      opencritic_rating_critics_score  \n",
       "1335                           mighty  \n",
       "12217                          strong  \n",
       "8010                             weak  \n",
       "1272                           mighty  \n",
       "549                              weak  "
      ]
     },
     "execution_count": 9,
     "metadata": {},
     "output_type": "execute_result"
    }
   ],
   "source": [
    "#https://pandas.pydata.org/pandas-docs/stable/reference/api/pandas.DataFrame.sample.html\n",
    "df_c = df_c.sample(frac=0.5, random_state=0)\n",
    "df_c.head()"
   ]
  },
  {
   "cell_type": "code",
   "execution_count": 10,
   "id": "6f806acd",
   "metadata": {},
   "outputs": [
    {
     "data": {
      "text/plain": [
       "opencritic_rating_critics_score\n",
       "fair       167\n",
       "mighty    2378\n",
       "strong    3298\n",
       "weak      1820\n",
       "Name: critic_review, dtype: int64"
      ]
     },
     "execution_count": 10,
     "metadata": {},
     "output_type": "execute_result"
    }
   ],
   "source": [
    "#how many rating scores for each category?\n",
    "ratings_grouped = df_c.groupby('opencritic_rating_critics_score').critic_review.count()\n",
    "ratings_grouped\n",
    "\n",
    "#small number of 'fair' reviews to classify. attempt to oversample these using SMOTE\n",
    "#will train model with the current data and check accuracy score"
   ]
  },
  {
   "cell_type": "code",
   "execution_count": 11,
   "id": "feb4bb38",
   "metadata": {},
   "outputs": [],
   "source": [
    "#remove punctuation\n",
    "def remove_punctuation(reviews):\n",
    "    punctuation = string.punctuation\n",
    "    new_list = []\n",
    "    for review in reviews:\n",
    "        new_string = ''\n",
    "        for letter in review:\n",
    "            if letter not in punctuation:\n",
    "                new_string += letter\n",
    "        new_list.append(new_string)\n",
    "    \n",
    "    return new_list #explain the difficulty in refactoring this code due to the number of components\n",
    "\n",
    "#lemmatize\n",
    "def lemmatize_review(reviews):\n",
    "    new_list = []\n",
    "    lem = WordNetLemmatizer()\n",
    "    for review in reviews:\n",
    "        #tokenize review\n",
    "        tokenised = word_tokenize(review)\n",
    "        lemmatized_list = []\n",
    "        for word in tokenised:\n",
    "            lemmatized_word = lem.lemmatize(word)\n",
    "            lemmatized_list.append(lemmatized_word)\n",
    "        new_string = \" \".join(lemmatized_list)\n",
    "        new_list.append(new_string)\n",
    "    return new_list\n",
    "\n",
    "#use tfidfVectorizer to convert words to lowercase, removes stopwords and tokenizes the data\n",
    "def tfidfvectorize_reviews(review):\n",
    "    stop_words = set(stopwords.words('english'))\n",
    "    vectorizer = TfidfVectorizer(stop_words=stop_words)\n",
    "    fit_review = vectorizer.fit_transform(review)\n",
    "    matrix = fit_review.toarray()\n",
    "    return matrix"
   ]
  },
  {
   "cell_type": "code",
   "execution_count": 12,
   "id": "9c99c697",
   "metadata": {},
   "outputs": [
    {
     "name": "stderr",
     "output_type": "stream",
     "text": [
      "test_lemmatizer_exists (__main__.TestTextFormatting) ... ok\n",
      "test_punctuation_removed (__main__.TestTextFormatting) ... ok\n",
      "test_remove_punc_exists (__main__.TestTextFormatting) ... ok\n",
      "test_vectorizer_exists (__main__.TestTextFormatting) ... ok\n",
      "test_words_lemmatized (__main__.TestTextFormatting) ... ok\n",
      "test_words_vectorized (__main__.TestTextFormatting) ... ok\n",
      "\n",
      "----------------------------------------------------------------------\n",
      "Ran 6 tests in 1.094s\n",
      "\n",
      "OK\n"
     ]
    },
    {
     "data": {
      "text/plain": [
       "<unittest.main.TestProgram at 0x23023c06308>"
      ]
     },
     "execution_count": 12,
     "metadata": {},
     "output_type": "execute_result"
    }
   ],
   "source": [
    "class TestTextFormatting(unittest.TestCase):\n",
    "    \n",
    "    def test_remove_punc_exists(self):\n",
    "        self.assertIsNotNone(remove_punctuation)\n",
    "    \n",
    "    def test_punctuation_removed(self):\n",
    "        res = remove_punctuation(['x'+ string.punctuation, 'y'+ string.punctuation])\n",
    "        for r in res:\n",
    "            self.assertNotRegex(r,'[\\W]')\n",
    "        \n",
    "    def test_lemmatizer_exists(self):\n",
    "        self.assertIsNotNone(lemmatize_review)\n",
    "        \n",
    "    def test_words_lemmatized(self):\n",
    "        tester = [\"corpora rockers\", \"players syllabi\"]\n",
    "        res = lemmatize_review(tester)\n",
    "        self.assertEqual(res, [\"corpus rocker\", \"player syllabus\"])\n",
    "    \n",
    "    def test_vectorizer_exists(self):\n",
    "        self.assertIsNotNone(tfidfvectorize_reviews)\n",
    "        \n",
    "    def test_words_vectorized(self):\n",
    "        tester = [\"This is a review\",\n",
    "          \"This is a very good review\",\n",
    "          \"This is a very bad review\",\n",
    "          \"This is an awful review dont watch\",\n",
    "          \"This review is outstanding\"\n",
    "          ]\n",
    "        res = tfidfvectorize_reviews(tester)\n",
    "        self.assertEqual(type(res), np.ndarray)\n",
    "    \n",
    "unittest.main(argv=['ingored', '-v'], exit=False)"
   ]
  },
  {
   "cell_type": "code",
   "execution_count": 13,
   "id": "b465cff3",
   "metadata": {},
   "outputs": [],
   "source": [
    "text_to_process = df_c.loc[:,'critic_review']\n",
    "y = df_c.loc[:,['opencritic_rating_critics_score']].reset_index(drop=True)\n",
    "\n",
    "remove_punc = remove_punctuation(text_to_process)\n",
    "\n",
    "lemmatize_text = lemmatize_review(remove_punc)\n",
    "\n",
    "tfidf_vectorize_text = tfidfvectorize_reviews(lemmatize_text)"
   ]
  },
  {
   "cell_type": "code",
   "execution_count": 14,
   "id": "4a441c2f",
   "metadata": {},
   "outputs": [
    {
     "data": {
      "text/html": [
       "<div>\n",
       "<style scoped>\n",
       "    .dataframe tbody tr th:only-of-type {\n",
       "        vertical-align: middle;\n",
       "    }\n",
       "\n",
       "    .dataframe tbody tr th {\n",
       "        vertical-align: top;\n",
       "    }\n",
       "\n",
       "    .dataframe thead th {\n",
       "        text-align: right;\n",
       "    }\n",
       "</style>\n",
       "<table border=\"1\" class=\"dataframe\">\n",
       "  <thead>\n",
       "    <tr style=\"text-align: right;\">\n",
       "      <th></th>\n",
       "      <th>opencritic_rating_critics_score</th>\n",
       "    </tr>\n",
       "  </thead>\n",
       "  <tbody>\n",
       "    <tr>\n",
       "      <th>0</th>\n",
       "      <td>mighty</td>\n",
       "    </tr>\n",
       "    <tr>\n",
       "      <th>1</th>\n",
       "      <td>strong</td>\n",
       "    </tr>\n",
       "    <tr>\n",
       "      <th>2</th>\n",
       "      <td>weak</td>\n",
       "    </tr>\n",
       "    <tr>\n",
       "      <th>3</th>\n",
       "      <td>mighty</td>\n",
       "    </tr>\n",
       "    <tr>\n",
       "      <th>4</th>\n",
       "      <td>weak</td>\n",
       "    </tr>\n",
       "  </tbody>\n",
       "</table>\n",
       "</div>"
      ],
      "text/plain": [
       "  opencritic_rating_critics_score\n",
       "0                          mighty\n",
       "1                          strong\n",
       "2                            weak\n",
       "3                          mighty\n",
       "4                            weak"
      ]
     },
     "execution_count": 14,
     "metadata": {},
     "output_type": "execute_result"
    }
   ],
   "source": [
    "y.head()"
   ]
  },
  {
   "cell_type": "code",
   "execution_count": 16,
   "id": "f33c7b15",
   "metadata": {},
   "outputs": [
    {
     "data": {
      "text/html": [
       "<div>\n",
       "<style scoped>\n",
       "    .dataframe tbody tr th:only-of-type {\n",
       "        vertical-align: middle;\n",
       "    }\n",
       "\n",
       "    .dataframe tbody tr th {\n",
       "        vertical-align: top;\n",
       "    }\n",
       "\n",
       "    .dataframe thead th {\n",
       "        text-align: right;\n",
       "    }\n",
       "</style>\n",
       "<table border=\"1\" class=\"dataframe\">\n",
       "  <thead>\n",
       "    <tr style=\"text-align: right;\">\n",
       "      <th></th>\n",
       "      <th>0</th>\n",
       "      <th>1</th>\n",
       "      <th>2</th>\n",
       "      <th>3</th>\n",
       "      <th>4</th>\n",
       "      <th>5</th>\n",
       "      <th>6</th>\n",
       "      <th>7</th>\n",
       "      <th>8</th>\n",
       "      <th>9</th>\n",
       "      <th>...</th>\n",
       "      <th>14119</th>\n",
       "      <th>14120</th>\n",
       "      <th>14121</th>\n",
       "      <th>14122</th>\n",
       "      <th>14123</th>\n",
       "      <th>14124</th>\n",
       "      <th>14125</th>\n",
       "      <th>14126</th>\n",
       "      <th>14127</th>\n",
       "      <th>14128</th>\n",
       "    </tr>\n",
       "  </thead>\n",
       "  <tbody>\n",
       "    <tr>\n",
       "      <th>0</th>\n",
       "      <td>0.0</td>\n",
       "      <td>0.0</td>\n",
       "      <td>0.0</td>\n",
       "      <td>0.0</td>\n",
       "      <td>0.0</td>\n",
       "      <td>0.0</td>\n",
       "      <td>0.0</td>\n",
       "      <td>0.0</td>\n",
       "      <td>0.0</td>\n",
       "      <td>0.0</td>\n",
       "      <td>...</td>\n",
       "      <td>0.0</td>\n",
       "      <td>0.0</td>\n",
       "      <td>0.0</td>\n",
       "      <td>0.0</td>\n",
       "      <td>0.0</td>\n",
       "      <td>0.0</td>\n",
       "      <td>0.0</td>\n",
       "      <td>0.0</td>\n",
       "      <td>0.0</td>\n",
       "      <td>0.0</td>\n",
       "    </tr>\n",
       "    <tr>\n",
       "      <th>1</th>\n",
       "      <td>0.0</td>\n",
       "      <td>0.0</td>\n",
       "      <td>0.0</td>\n",
       "      <td>0.0</td>\n",
       "      <td>0.0</td>\n",
       "      <td>0.0</td>\n",
       "      <td>0.0</td>\n",
       "      <td>0.0</td>\n",
       "      <td>0.0</td>\n",
       "      <td>0.0</td>\n",
       "      <td>...</td>\n",
       "      <td>0.0</td>\n",
       "      <td>0.0</td>\n",
       "      <td>0.0</td>\n",
       "      <td>0.0</td>\n",
       "      <td>0.0</td>\n",
       "      <td>0.0</td>\n",
       "      <td>0.0</td>\n",
       "      <td>0.0</td>\n",
       "      <td>0.0</td>\n",
       "      <td>0.0</td>\n",
       "    </tr>\n",
       "    <tr>\n",
       "      <th>2</th>\n",
       "      <td>0.0</td>\n",
       "      <td>0.0</td>\n",
       "      <td>0.0</td>\n",
       "      <td>0.0</td>\n",
       "      <td>0.0</td>\n",
       "      <td>0.0</td>\n",
       "      <td>0.0</td>\n",
       "      <td>0.0</td>\n",
       "      <td>0.0</td>\n",
       "      <td>0.0</td>\n",
       "      <td>...</td>\n",
       "      <td>0.0</td>\n",
       "      <td>0.0</td>\n",
       "      <td>0.0</td>\n",
       "      <td>0.0</td>\n",
       "      <td>0.0</td>\n",
       "      <td>0.0</td>\n",
       "      <td>0.0</td>\n",
       "      <td>0.0</td>\n",
       "      <td>0.0</td>\n",
       "      <td>0.0</td>\n",
       "    </tr>\n",
       "    <tr>\n",
       "      <th>3</th>\n",
       "      <td>0.0</td>\n",
       "      <td>0.0</td>\n",
       "      <td>0.0</td>\n",
       "      <td>0.0</td>\n",
       "      <td>0.0</td>\n",
       "      <td>0.0</td>\n",
       "      <td>0.0</td>\n",
       "      <td>0.0</td>\n",
       "      <td>0.0</td>\n",
       "      <td>0.0</td>\n",
       "      <td>...</td>\n",
       "      <td>0.0</td>\n",
       "      <td>0.0</td>\n",
       "      <td>0.0</td>\n",
       "      <td>0.0</td>\n",
       "      <td>0.0</td>\n",
       "      <td>0.0</td>\n",
       "      <td>0.0</td>\n",
       "      <td>0.0</td>\n",
       "      <td>0.0</td>\n",
       "      <td>0.0</td>\n",
       "    </tr>\n",
       "    <tr>\n",
       "      <th>4</th>\n",
       "      <td>0.0</td>\n",
       "      <td>0.0</td>\n",
       "      <td>0.0</td>\n",
       "      <td>0.0</td>\n",
       "      <td>0.0</td>\n",
       "      <td>0.0</td>\n",
       "      <td>0.0</td>\n",
       "      <td>0.0</td>\n",
       "      <td>0.0</td>\n",
       "      <td>0.0</td>\n",
       "      <td>...</td>\n",
       "      <td>0.0</td>\n",
       "      <td>0.0</td>\n",
       "      <td>0.0</td>\n",
       "      <td>0.0</td>\n",
       "      <td>0.0</td>\n",
       "      <td>0.0</td>\n",
       "      <td>0.0</td>\n",
       "      <td>0.0</td>\n",
       "      <td>0.0</td>\n",
       "      <td>0.0</td>\n",
       "    </tr>\n",
       "  </tbody>\n",
       "</table>\n",
       "<p>5 rows × 14129 columns</p>\n",
       "</div>"
      ],
      "text/plain": [
       "   0      1      2      3      4      5      6      7      8      9      ...  \\\n",
       "0    0.0    0.0    0.0    0.0    0.0    0.0    0.0    0.0    0.0    0.0  ...   \n",
       "1    0.0    0.0    0.0    0.0    0.0    0.0    0.0    0.0    0.0    0.0  ...   \n",
       "2    0.0    0.0    0.0    0.0    0.0    0.0    0.0    0.0    0.0    0.0  ...   \n",
       "3    0.0    0.0    0.0    0.0    0.0    0.0    0.0    0.0    0.0    0.0  ...   \n",
       "4    0.0    0.0    0.0    0.0    0.0    0.0    0.0    0.0    0.0    0.0  ...   \n",
       "\n",
       "   14119  14120  14121  14122  14123  14124  14125  14126  14127  14128  \n",
       "0    0.0    0.0    0.0    0.0    0.0    0.0    0.0    0.0    0.0    0.0  \n",
       "1    0.0    0.0    0.0    0.0    0.0    0.0    0.0    0.0    0.0    0.0  \n",
       "2    0.0    0.0    0.0    0.0    0.0    0.0    0.0    0.0    0.0    0.0  \n",
       "3    0.0    0.0    0.0    0.0    0.0    0.0    0.0    0.0    0.0    0.0  \n",
       "4    0.0    0.0    0.0    0.0    0.0    0.0    0.0    0.0    0.0    0.0  \n",
       "\n",
       "[5 rows x 14129 columns]"
      ]
     },
     "execution_count": 16,
     "metadata": {},
     "output_type": "execute_result"
    }
   ],
   "source": [
    "X = pd.DataFrame(data=tfidf_vectorize_text)\n",
    "X.head()"
   ]
  },
  {
   "cell_type": "markdown",
   "id": "8d2f1d7c",
   "metadata": {},
   "source": [
    "## Data analysis"
   ]
  },
  {
   "cell_type": "markdown",
   "id": "91e50890",
   "metadata": {},
   "source": [
    "#### Question 1"
   ]
  },
  {
   "cell_type": "code",
   "execution_count": 53,
   "id": "0ecab556",
   "metadata": {},
   "outputs": [
    {
     "name": "stdout",
     "output_type": "stream",
     "text": [
      "+---------------+-------+--------+---------+---------+\n",
      "|               |  Mean | Median | Maximum | Minimum |\n",
      "+---------------+-------+--------+---------+---------+\n",
      "| review_length | 49.57 |  42.0  |   342   |    2    |\n",
      "| critics_score | 82.78 |  85.0  |  100.0  |   15.0  |\n",
      "+---------------+-------+--------+---------+---------+\n",
      "Table 1: statistical summary for the review length and the critics score\n"
     ]
    }
   ],
   "source": [
    "#mean, median, max and min review length\n",
    "median_review_length = np.median(df2['review_length'])\n",
    "mean_review_length = round(np.mean(df2['review_length']), 2)\n",
    "max_review_length = max(df2['review_length'])\n",
    "min_review_length = min(df2['review_length'])\n",
    "\n",
    "#mean, median, max and min critics score\n",
    "mean_review_score = round(np.mean(df2['critics_score']), 2)\n",
    "median_review_score = np.median(df2['critics_score'])\n",
    "max_review_score = max(df2['critics_score'])\n",
    "min_review_score = min(df2['critics_score'])\n",
    "     \n",
    "#use prettytable to create a table of statistics for the two variables\n",
    "statstable = PrettyTable([\"\", \"Mean\", \"Median\", \"Maximum\", \"Minimum\"])\n",
    "statstable.add_row(['review_length', mean_review_length, median_review_length, max_review_length, min_review_length])\n",
    "statstable.add_row(['critics_score', mean_review_score, median_review_score, max_review_score, min_review_score])\n",
    "print(statstable)\n",
    "print('Table 1: statistical summary for the review length and the critics score')"
   ]
  },
  {
   "cell_type": "markdown",
   "id": "2de1e38b",
   "metadata": {},
   "source": [
    "In table 1, a summary of the mean, median, maximum and minumim has been created. Considering the large range for both variables, the mean and median values are reasonably close in value. Before visualising the data, it could be asserted that both distributions are weakly skewed, with the review length skewing towards the maximum value (178 words) while the scores skew slightly towards the minimum value (15). The potential for outliers in the data is enhanced by the minor skewness. "
   ]
  },
  {
   "cell_type": "code",
   "execution_count": null,
   "id": "4b2378da",
   "metadata": {},
   "outputs": [],
   "source": [
    "#bootstrap samples for review length and critics score, using bootstrap function\n",
    "bootstrap_review_length = bootstrap(df2['review_length'])\n",
    "bootstrap_critics_score = bootstrap(df2['critics_score'])\n",
    "\n",
    "#confidence intervals for review length and critics score, usinf confidence_interval function\n",
    "CI_review_length = confidence_intervals(bootstrap_review_length)\n",
    "CI_critics_score = confidence_intervals(bootstrap_critics_score)\n",
    "\n",
    "#plot both bootstrap samples with confidence intervals\n",
    "\n",
    "fig, axs = plt.subplots(nrows=1, ncols=2, figsize=(20,5))\n",
    "\n",
    "axs[0].hist(bootstrap_review_length)\n",
    "axs[0].axvline(x=np.mean(bootstrap_review_length), color='black', ls='--')\n",
    "axs[0].axvline(x=CI_review_length[0], color='black')\n",
    "axs[0].axvline(x=CI_review_length[1], color='black')\n",
    "\n",
    "axs[1].hist(bootstrap_critics_score)\n",
    "axs[1].axvline(x=np.mean(bootstrap_critics_score), color='black', ls='--')\n",
    "axs[1].axvline(x=CI_critics_score[0], color='black')\n",
    "axs[1].axvline(x=CI_critics_score[1], color='black')\n",
    "\n",
    "plt.show()\n",
    "\n",
    "statstable_CI = PrettyTable([\"\", \"Lower confidence\", \"Mean\", \"Upper confidence\"])\n",
    "statstable_CI.add_row(['review_length', CI_review_length[0], np.mean(bootstrap_review_length), CI_review_length[1]])\n",
    "statstable_CI.add_row(['critics_score', CI_critics_score[0], np.mean(bootstrap_critics_score), CI_critics_score[1]])\n",
    "print(statstable_CI)"
   ]
  },
  {
   "cell_type": "code",
   "execution_count": 54,
   "id": "c05b92a2",
   "metadata": {},
   "outputs": [
    {
     "data": {
      "image/png": "[encoded data removed]",
      "text/plain": [
       "<Figure size 1440x360 with 3 Axes>"
      ]
     },
     "metadata": {
      "needs_background": "light"
     },
     "output_type": "display_data"
    }
   ],
   "source": [
    "#plot subplots with review length boxplot, critics_score histogram and joint scatterplot for both variables\n",
    "\n",
    "fig, axs = plt.subplots(nrows=1, ncols=3, figsize=(20,5))\n",
    "#plot review_length as a boxplot\n",
    "axs[0].boxplot(x=df2['review_length'], showmeans=True, meanline=True)\n",
    "axs[0].set_title('Boxplot displaying the review length of each review, \\nbased on number of words.')\n",
    "axs[0].set_xticklabels('')\n",
    "axs[0].set_ylabel('Review length by word count')\n",
    "\n",
    "#plot critics_score\n",
    "#plot QQ plot too to show skewness\n",
    "#and plot axvline on histogram (page 100 stats book for help)\n",
    "axs[1].hist(df2['critics_score'], bins=14, color='springgreen')\n",
    "axs[1].set_title('Histogram of critics scores\\n (mean critics score represented by the black line)')\n",
    "axs[1].set_xlabel('Critics scores')\n",
    "axs[1].set_ylabel('Frequency')\n",
    "axs[1].axvline(x=mean_review_score, color='black', ls='--')\n",
    "\n",
    "axs[2].scatter(df2['critics_score'], df2['review_length'])\n",
    "axs[2].set_title('Comparative histogram between review length\\n and critic scores.')\n",
    "axs[2].set_xlabel('Critics scores')\n",
    "axs[2].set_ylabel('Review length by word count')\n",
    "axs[2].axvline(x=mean_review_score, color='black', ls='--')\n",
    "axs[2].axhline(y=mean_review_length, color='black', ls='--')\n",
    "\n",
    "plt.text(-175,-50,'Figure 1: A simple visualisation of the distributions of the review length (based on words) and the critics scores. Notice that both distributions are skewed.')\n",
    "\n",
    "plt.show()"
   ]
  },
  {
   "cell_type": "markdown",
   "id": "30ce21b4",
   "metadata": {},
   "source": [
    "Figure 1 analyses the distribution of the review length and the critcs scores. It must be considered that "
   ]
  },
  {
   "cell_type": "code",
   "execution_count": 9,
   "id": "3a4f3875",
   "metadata": {},
   "outputs": [
    {
     "data": {
      "image/png": "[encoded data removed]",
      "text/plain": [
       "<Figure size 1440x360 with 2 Axes>"
      ]
     },
     "metadata": {
      "needs_background": "light"
     },
     "output_type": "display_data"
    }
   ],
   "source": [
    "#plot QQ plot for each of the two variables to show presence of skewness\n",
    "#standardise the variables to make the x and y axis similar in scale\n",
    "\n",
    "df2['normalise_review_length'] = (df2['review_length'] - np.mean(df2['review_length'])) / np.std(df2['review_length'])\n",
    "df2['normalise_critics_score'] = (df2['critics_score'] - np.mean(df2['critics_score'])) / np.std(df2['critics_score'])\n",
    "\n",
    "fig, axs = plt.subplots(nrows=1, ncols=2, figsize=(20,5))\n",
    "probplot(df2['normalise_review_length'], plot=axs[0])\n",
    "axs[0].set_ylabel('Length of review by word count.')\n",
    "axs[0].set_title('Length of review by word count.')\n",
    "probplot(df2['normalise_critics_score'], plot=axs[1])\n",
    "\n",
    "plt.show()\n",
    "\n",
    "#refer to page 71 of stats book to explain skewness"
   ]
  },
  {
   "cell_type": "markdown",
   "id": "11635884",
   "metadata": {},
   "source": [
    "#### Question 2"
   ]
  },
  {
   "cell_type": "code",
   "execution_count": 55,
   "id": "0c657082",
   "metadata": {},
   "outputs": [
    {
     "name": "stdout",
     "output_type": "stream",
     "text": [
      "+-----------------------+--------+--------+--------------------+---------+---------+\n",
      "|                       |  Mean  | Median | Standard deviation | Maximum | Minimum |\n",
      "+-----------------------+--------+--------+--------------------+---------+---------+\n",
      "|   Number of reviews   | 153.26 | 150.0  | 16.54244238315492  |   194   |   128   |\n",
      "| Critics average score | 81.97  |  83.0  | 7.803146801130939  |   97.0  |   53.0  |\n",
      "+-----------------------+--------+--------+--------------------+---------+---------+\n"
     ]
    }
   ],
   "source": [
    "#statistics\n",
    "\n",
    "#number of critics reviews per game\n",
    "mean_number_critics_reviews = np.mean(df_q2['critic_review'])\n",
    "median_number_critics_reviews = np.median(df_q2['critic_review'])\n",
    "std_number_critics_reviews = np.std(df_q2['critic_review'])\n",
    "max_number_critics_reviews = max(df_q2['critic_review'])\n",
    "min_number_critics_reviews = min(df_q2['critic_review'])\n",
    "\n",
    "#critics average score\n",
    "mean_critics_ave_score = np.mean(df_q2['critics_average_score'])\n",
    "median_critics_ave_score = np.median(df_q2['critics_average_score'])\n",
    "std_critics_ave_score = np.std(df_q2['critics_average_score'])\n",
    "max_critics_ave_score = max(df_q2['critics_average_score'])\n",
    "min_critics_ave_score = min(df_q2['critics_average_score'])\n",
    "\n",
    "statstable1 = PrettyTable([\"\", \"Mean\", \"Median\", \"Standard deviation\", \"Maximum\", \"Minimum\"])\n",
    "statstable1.add_row([\n",
    "                    'Number of reviews', \n",
    "                     mean_number_critics_reviews, \n",
    "                     median_number_critics_reviews, \n",
    "                     std_number_critics_reviews, \n",
    "                     max_number_critics_reviews,\n",
    "                     min_number_critics_reviews\n",
    "                     ])\n",
    "statstable1.add_row([\n",
    "                    'Critics average score', \n",
    "                     mean_critics_ave_score, \n",
    "                     median_critics_ave_score, \n",
    "                     std_critics_ave_score, \n",
    "                     max_critics_ave_score, \n",
    "                     min_critics_ave_score\n",
    "                     ])\n",
    "\n",
    "print(statstable1)"
   ]
  },
  {
   "cell_type": "code",
   "execution_count": 61,
   "id": "4403c69a",
   "metadata": {
    "scrolled": true
   },
   "outputs": [
    {
     "data": {
      "image/png": "[encoded data removed]",
      "text/plain": [
       "<Figure size 1080x1440 with 5 Axes>"
      ]
     },
     "metadata": {
      "needs_background": "light"
     },
     "output_type": "display_data"
    }
   ],
   "source": [
    "#plot the boxplot for number of reviews and the average critic scores\n",
    "#also plot the standardised form, with the mean and standard deviation displayed\n",
    "#display the scatterplot comparing both variables\n",
    "\n",
    "fig = plt.figure(figsize=(15,20))\n",
    "\n",
    "gs = gridspec.GridSpec(3, 2)\n",
    "\n",
    "ax1 = fig.add_subplot(gs[0,0])\n",
    "ax2 = fig.add_subplot(gs[0,1])\n",
    "ax3 = fig.add_subplot(gs[1,0])\n",
    "ax4 = fig.add_subplot(gs[1,1])\n",
    "ax5 = fig.add_subplot(gs[2,:])\n",
    "\n",
    "#plot number of reviews per game\n",
    "ax1.boxplot(x=df_q2['critic_review'])\n",
    "ax1.set_title('Boxplot displaying the distribution of the number of reviews per game.')\n",
    "ax1.set_ylabel('Number of reviews')\n",
    "ax1.set_xticklabels('')\n",
    "\n",
    "#plot critics_average_score\n",
    "ax2.boxplot(x=df_q2['critics_average_score'])\n",
    "ax2.set_title('Boxplot displaying the distribution of the critic\\'s average score for each game.')\n",
    "ax2.set_ylabel('Average critics score')\n",
    "ax2.set_xticklabels('')\n",
    "\n",
    "#normalise distributions using z-score\n",
    "df_q2['normalise_critic_review'] = (df_q2['critic_review'] - mean_number_critics_reviews) / std_number_critics_reviews\n",
    "df_q2['normalise_critics_average_score'] = (df_q2['critics_average_score'] - mean_critics_ave_score) /\\\n",
    "                                            std_critics_ave_score\n",
    "\n",
    "#plot normalised distributions\n",
    "ax3.hist(df_q2['normalise_critic_review'], bins=14, color='cornflowerblue')\n",
    "ax3.set_title('Normalised histogram distribution for number of reviews\\n per game around the mean (mean=0).')\n",
    "ax3.set_xlabel('Number of standard deviations from the mean.')\n",
    "ax3.set_ylabel('Frequency')\n",
    "ax3.axvline(x=0, color='black', linestyle='--')\n",
    "\n",
    "ax4.hist(df_q2['normalise_critics_average_score'], bins=14, color='gold')\n",
    "ax4.set_title('Normalised histogram distribution for critics average score\\n per game around the mean (mean=0).')\n",
    "ax4.set_xlabel('Number of standard deviations from the mean.')\n",
    "ax4.set_ylabel('Frequency')\n",
    "ax4.axvline(x=0, color='black', linestyle='--')\n",
    "\n",
    "#plot scatterplot comparing the two variables\n",
    "ax5.scatter(df_q2['critics_average_score'], df_q2['critic_review'], color='orangered')\n",
    "ax5.set_title('Scattergraph comparing the number of reviews per game with\\n the critics average score for each game.')\n",
    "ax5.set_xlabel('Critics average score')\n",
    "ax5.set_ylabel('Number of reviews')\n",
    "ax5.axvline(x=80, color='black', linestyle='--')\n",
    "ax5.axhline(y=170, color='black', linestyle='--')\n",
    "\n",
    "plt.tight_layout()\n",
    "plt.show()"
   ]
  },
  {
   "cell_type": "code",
   "execution_count": 57,
   "id": "ed506ca1",
   "metadata": {},
   "outputs": [],
   "source": [
    "#calculated correlation coefficient for the two variables compared above in the scattergraph\n",
    "corr_coef = np.corrcoef(x=df_q2['critics_average_score'], y=df_q2['critic_review'])\n",
    "#corr_coef --> poor correlation between the two variables (0.1)\n",
    "\n",
    "#however, there does appear to be some games that have a number of reviews > 130 but also a score > 80\n",
    "#all games with average score < 80 have less than 130 reviews\n",
    "#indicated by the horizontal and vertical dashed lines on the scatterplot "
   ]
  },
  {
   "cell_type": "markdown",
   "id": "4b019e91",
   "metadata": {},
   "source": [
    "#### Question 3"
   ]
  },
  {
   "cell_type": "code",
   "execution_count": 62,
   "id": "060d1396",
   "metadata": {
    "scrolled": true
   },
   "outputs": [
    {
     "data": {
      "image/png": "[encoded data removed]",
      "text/plain": [
       "<Figure size 1080x360 with 1 Axes>"
      ]
     },
     "metadata": {
      "needs_background": "light"
     },
     "output_type": "display_data"
    }
   ],
   "source": [
    "fdist = FreqDist(combined_text)\n",
    "top_ten_words = fdist.most_common(11)\n",
    "\n",
    "unzipped_top_ten_words = list(zip(*top_ten_words))\n",
    "\n",
    "#plot top ten words\n",
    "fig, axs = plt.subplots(nrows=1, ncols=1, figsize=(15,5))\n",
    "\n",
    "axs.bar(unzipped_top_ten_words[0], unzipped_top_ten_words[1], color='plum')\n",
    "axs.set_title(\"The ten most frequent words used in the critics review dataset\")\n",
    "axs.set_ylabel(\"Frequency\")\n",
    "axs.set_xlabel(\"Word\")\n",
    "\n",
    "plt.show()"
   ]
  },
  {
   "cell_type": "markdown",
   "id": "3540313f",
   "metadata": {},
   "source": [
    "#### Question 4"
   ]
  },
  {
   "cell_type": "code",
   "execution_count": 64,
   "id": "01402d01",
   "metadata": {},
   "outputs": [
    {
     "data": {
      "text/plain": [
       "publisher_new\n",
       "505 games                     {'control': 191, 'game': 146, 'remedy': 93, 'o...\n",
       "activision                    {'game': 1049, 'call': 432, 'duty': 427, 'cras...\n",
       "bandai namco entertainment    {'game': 286, 'dragon': 172, 'ball': 172, 'lit...\n",
       "bandai namco games            {'soul': 241, 'dark': 196, 'game': 114, 'iii':...\n",
       "bethesda softworks            {'game': 1236, 'doom': 418, 'fallout': 392, 'n...\n",
       "bigben interactive            {'city': 149, 'sinking': 141, 'game': 139, 'st...\n",
       "capcom                        {'evil': 657, 'resident': 654, 'game': 506, 'm...\n",
       "deep silver                   {'metro': 187, 'exodus': 163, 'game': 127, 'wo...\n",
       "electronic arts               {'game': 451, 'mass': 173, 'anthem': 172, 'eff...\n",
       "focus home interactive        {'game': 358, 'story': 172, 'vampyr': 170, 'ta...\n",
       "Name: critic_review, dtype: object"
      ]
     },
     "execution_count": 64,
     "metadata": {},
     "output_type": "execute_result"
    }
   ],
   "source": [
    "#obtain top five words used for each publisher\n",
    "\n",
    "top_5_words_publishers = publishers_grouped.apply(lambda x: dict(FreqDist(x).most_common(5)))\n",
    "top_5_words_publishers[:10]"
   ]
  },
  {
   "cell_type": "code",
   "execution_count": 84,
   "id": "77cb2673",
   "metadata": {
    "scrolled": true
   },
   "outputs": [
    {
     "data": {
      "image/png": "[encoded data removed]",
      "text/plain": [
       "<Figure size 1080x1440 with 28 Axes>"
      ]
     },
     "metadata": {
      "needs_background": "light"
     },
     "output_type": "display_data"
    }
   ],
   "source": [
    "#plot top 5 words by publisher\n",
    "top_5_words_vals = top_5_words_publishers.values\n",
    "top_5_words_index = top_5_words_publishers.index\n",
    "\n",
    "fig, ax = plt.subplots(7,4,figsize=(15,20))\n",
    "ax = ax.flatten()\n",
    "positions = [0, 1, 2, 3, 4]\n",
    "for i in range(len(top_5_words_publishers)):\n",
    "    ax[i].bar(top_5_words_vals[i].keys(), top_5_words_vals[i].values(), color='coral')\n",
    "    ax[i].set_title(top_5_words_index[i])\n",
    "    ax[i].xaxis.set_major_locator(ticker.FixedLocator(positions))\n",
    "    ax[i].xaxis.set_major_formatter(ticker.FixedFormatter(list(top_5_words_vals[i].keys())))\n",
    "\n",
    "plt.tight_layout()\n",
    "plt.show()\n",
    "\n",
    "#top words use are indicative of the current games being discussed in the reviews\n",
    "#discuss using matplotlib.ticker to avoid  UserWarning: FixedFormatter should only be used together with FixedLocator"
   ]
  },
  {
   "cell_type": "markdown",
   "id": "754bbe32",
   "metadata": {},
   "source": [
    "#### Question 5"
   ]
  },
  {
   "cell_type": "code",
   "execution_count": 85,
   "id": "f4766d32",
   "metadata": {},
   "outputs": [
    {
     "data": {
      "text/plain": [
       "opencritic_rating\n",
       "fair      {'game': 316, 'fallout': 77, 'world': 73, 'lik...\n",
       "mighty    {'game': 4000, 'one': 1186, 'best': 963, 'new'...\n",
       "strong    {'game': 5253, 'one': 1310, 'new': 1253, 'stor...\n",
       "weak      {'world': 5, 'game': 4, 'change': 3, 'level': ...\n",
       "Name: critic_review, dtype: object"
      ]
     },
     "execution_count": 85,
     "metadata": {},
     "output_type": "execute_result"
    }
   ],
   "source": [
    "top_5_words_ratings = ratings_grouped.apply(lambda x: dict(FreqDist(x).most_common(5)))\n",
    "top_5_words_ratings"
   ]
  },
  {
   "cell_type": "code",
   "execution_count": 87,
   "id": "1d0a18d4",
   "metadata": {
    "scrolled": true
   },
   "outputs": [
    {
     "data": {
      "image/png": "[encoded data removed]",
      "text/plain": [
       "<Figure size 720x720 with 4 Axes>"
      ]
     },
     "metadata": {
      "needs_background": "light"
     },
     "output_type": "display_data"
    }
   ],
   "source": [
    "#plot the four ratings\n",
    "top_5_words_ratings_vals = top_5_words_ratings.values\n",
    "top_5_words_ratings_index = top_5_words_ratings.index\n",
    "\n",
    "fig, ax = plt.subplots(2,2,figsize=(10,10))\n",
    "ax = ax.flatten()\n",
    "\n",
    "for i in range(len(top_5_words_ratings)):\n",
    "    ax[i].bar(top_5_words_ratings_vals[i].keys(), top_5_words_ratings_vals[i].values(), color='coral')\n",
    "    ax[i].set_title(top_5_words_ratings_index[i])\n",
    "    ax[i].xaxis.set_major_locator(ticker.FixedLocator(positions))\n",
    "    ax[i].xaxis.set_major_formatter(ticker.FixedFormatter(list(top_5_words_ratings_vals[i].keys())))\n",
    "    \n",
    "plt.tight_layout()\n",
    "plt.show()"
   ]
  },
  {
   "cell_type": "code",
   "execution_count": null,
   "id": "e8b20a53",
   "metadata": {},
   "outputs": [],
   "source": []
  },
  {
   "cell_type": "markdown",
   "id": "5f630bc6",
   "metadata": {},
   "source": [
    "## Classification"
   ]
  },
  {
   "cell_type": "code",
   "execution_count": 18,
   "id": "44d607ee",
   "metadata": {},
   "outputs": [],
   "source": [
    "NB = MultinomialNB()\n",
    "NB_scores = cross_val_score(NB, X, np.ravel(y), cv=10)"
   ]
  },
  {
   "cell_type": "code",
   "execution_count": 19,
   "id": "c07ee577",
   "metadata": {},
   "outputs": [
    {
     "data": {
      "text/plain": [
       "0.4832310960270424"
      ]
     },
     "execution_count": 19,
     "metadata": {},
     "output_type": "execute_result"
    }
   ],
   "source": [
    "np.mean(NB_scores)"
   ]
  },
  {
   "cell_type": "code",
   "execution_count": 20,
   "id": "19c00854",
   "metadata": {},
   "outputs": [],
   "source": [
    "#perform k-fold cross validation on critics scores using support vector regression\n",
    "regr = svm.LinearSVC()\n",
    "svm_scores = cross_val_score(regr, X, np.ravel(y), cv=10)"
   ]
  },
  {
   "cell_type": "code",
   "execution_count": 21,
   "id": "6c51eb84",
   "metadata": {},
   "outputs": [
    {
     "data": {
      "text/plain": [
       "0.4370382726093661"
      ]
     },
     "execution_count": 21,
     "metadata": {},
     "output_type": "execute_result"
    }
   ],
   "source": [
    "np.mean(svm_scores)"
   ]
  },
  {
   "cell_type": "code",
   "execution_count": 22,
   "id": "eba23eea",
   "metadata": {},
   "outputs": [],
   "source": [
    "oversample = SMOTE(k_neighbors=4)\n",
    "oversampled_X, oversampled_y = oversample.fit_resample(X, y)"
   ]
  },
  {
   "cell_type": "code",
   "execution_count": 23,
   "id": "5df47d74",
   "metadata": {},
   "outputs": [
    {
     "data": {
      "text/plain": [
       "0.6604088841408781"
      ]
     },
     "execution_count": 23,
     "metadata": {},
     "output_type": "execute_result"
    }
   ],
   "source": [
    "oversampled_NB_scores = cross_val_score(NB, oversampled_X, np.ravel(oversampled_y), cv=10)\n",
    "np.mean(oversampled_NB_scores)"
   ]
  },
  {
   "cell_type": "code",
   "execution_count": 24,
   "id": "963fefe5",
   "metadata": {},
   "outputs": [
    {
     "data": {
      "text/plain": [
       "0.7305294414960828"
      ]
     },
     "execution_count": 24,
     "metadata": {},
     "output_type": "execute_result"
    }
   ],
   "source": [
    "oversampled_svm_scores = cross_val_score(regr, oversampled_X, np.ravel(oversampled_y), cv=10)\n",
    "np.mean(oversampled_svm_scores)"
   ]
  },
  {
   "cell_type": "markdown",
   "id": "16385365",
   "metadata": {},
   "source": [
    "## Results"
   ]
  },
  {
   "cell_type": "code",
   "execution_count": null,
   "id": "fa1c9bd0",
   "metadata": {},
   "outputs": [],
   "source": []
  },
  {
   "cell_type": "code",
   "execution_count": null,
   "id": "67502945",
   "metadata": {},
   "outputs": [],
   "source": []
  },
  {
   "cell_type": "code",
   "execution_count": null,
   "id": "30e7c253",
   "metadata": {},
   "outputs": [],
   "source": []
  },
  {
   "cell_type": "code",
   "execution_count": null,
   "id": "4d287313",
   "metadata": {},
   "outputs": [],
   "source": []
  },
  {
   "cell_type": "code",
   "execution_count": null,
   "id": "66ce1776",
   "metadata": {},
   "outputs": [],
   "source": []
  },
  {
   "cell_type": "code",
   "execution_count": null,
   "id": "7b703f92",
   "metadata": {},
   "outputs": [],
   "source": []
  },
  {
   "cell_type": "markdown",
   "id": "34e2a4cc",
   "metadata": {},
   "source": [
    "## Discussion"
   ]
  },
  {
   "cell_type": "markdown",
   "id": "da27cac3",
   "metadata": {},
   "source": [
    "## Limitations"
   ]
  },
  {
   "cell_type": "markdown",
   "id": "73944ca7",
   "metadata": {},
   "source": [
    "## Further work"
   ]
  },
  {
   "cell_type": "markdown",
   "id": "95fe9629",
   "metadata": {},
   "source": [
    "## Conclusion"
   ]
  },
  {
   "cell_type": "markdown",
   "id": "137f5288",
   "metadata": {},
   "source": [
    "## References (Vancouver format)"
   ]
  },
  {
   "cell_type": "markdown",
   "id": "133dc4d3",
   "metadata": {},
   "source": [
    "1. Duan W, Gu B, Whinston AB. The dynamics of online word-of-mouth and product sales—An empirical investigation of the movie industry. J Retail. 2008;84(2):233-242\n",
    "2. Chong AYL, Ch’ng E, Liu MJ, Li B. Predicting consumer product demands via Big Data: the roles of online promotional marketing and online reviews. 2017;55(17):5142–56.\n",
    "3. Chevalier JA, Mayzlin D. The Effect of Word of Mouth on Sales: Online Book Reviews. 2006;43(3):345–54\n",
    "4. Dellarocas C. The Digitization of Word of Mouth: Promise and Challenges of Online Feedback Mechanisms. 2003 Oct 1;49(10):1407–24\n",
    "5. Jalilvand MR, Esfahani SS, Samiei N. Electronic word-of-mouth: Challenges and opportunities. 2011;3:42–6\n",
    "6. https://www.ciodive.com/news/companies-using-sentiment-analysis-software-to-understand-employee-concerns/407357/\n",
    "7. https://pandas.pydata.org/pandas-docs/stable/user_guide/indexing.html#returning-a-view-versus-a-copy\n",
    "\n",
    "United States Gaming Console & Accessories Market - Growth, Trends, COVID-19 Impact, and Forecasts (2021 - 2026)\n",
    "\n",
    "https://www.investopedia.com/articles/investing/053115/how-video-game-industry-changing.asp#citation-3\n",
    "\n"
   ]
  }
 ],
 "metadata": {
  "kernelspec": {
   "display_name": "Python 3",
   "language": "python",
   "name": "python3"
  },
  "language_info": {
   "codemirror_mode": {
    "name": "ipython",
    "version": 3
   },
   "file_extension": ".py",
   "mimetype": "text/x-python",
   "name": "python",
   "nbconvert_exporter": "python",
   "pygments_lexer": "ipython3",
   "version": "3.7.4"
  }
 },
 "nbformat": 4,
 "nbformat_minor": 5
}
