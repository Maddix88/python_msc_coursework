{
 "cells": [
  {
   "cell_type": "markdown",
   "id": "practical-rwanda",
   "metadata": {},
   "source": [
    "# DSM020 coursework 1:\n",
    "## Coursework project proposal\n",
    "## The power of electronic word of mouth: can game developers use the language of critic's reviews to conclusively evaluate the quality of their gaming products?\n",
    "### James Maddix\n",
    "### Student number: 210163148/1"
   ]
  },
  {
   "cell_type": "markdown",
   "id": "french-scheduling",
   "metadata": {},
   "source": [
    "## Introduction"
   ]
  },
  {
   "cell_type": "markdown",
   "id": "valid-hypothesis",
   "metadata": {},
   "source": [
    "With the ongoing technological innovations, the video game industry is growing exponentially. This growth has gained attention from a plethora of directors in Hollywood, who have taken it upon themselves to adapt many of these games to the big screen. However, these have been poorly received, when their scores on Rotten Tomatoes are taken into consideration$^{1}$. These attempts of adaptations is evidence that the movie industry is attempting to capture some of the profits that the lucrative video game market is collating. A recent study by the Entertainment Software Association reported that the United States video game industry generated 90.3 billion dollars in annual economic output in 2019 and supporting hundreds of thousands of jobs in the process $^{2}$. This doesn't just include the software aspect of the video game industry, as the video game industry is much larger than just the software components. This also includes the accessories, such as headphones and game controllers; the manufacturers that provide the hardware that goes into the consoles and the developers that are employed across the US.   \n",
    "\n",
    "This economic boom has raised the profile of video games in the media, with many mainstream newspapers reviewing new video game releases regularly for audiences. However, with the review aggregators such as Rotten Tomatoes having a large movie review database, there is a deficiency in websites that collate critics reviews from across the internet for video games$^{3}$. This leads onto the scope of interest for this project: to explore the a video game review aggregator for a sample of video game reviews and to reach conclusions on a project proposal based on a literature review, data preprocessing and exploratory data analysis."
   ]
  },
  {
   "cell_type": "markdown",
   "id": "taken-insert",
   "metadata": {},
   "source": [
    "## Literature review"
   ]
  },
  {
   "cell_type": "markdown",
   "id": "skilled-stable",
   "metadata": {},
   "source": [
    "The current literature in the academic ether is orientated towards the study of movie or book reviews. However, there is enough information to establish a direction of what to investigate in order to produce a valid research question and hypothesis.\n",
    "\n",
    "The attention of some scholars have been drawn to the online reviews of a product (referred to as \"electronic word of mouth\") and the relationship with the subsequent sales of that product. A cross-sectional regression analysis was performed on the sales of books at two websites (Amazon.com and bn.com) and established that as the average star value of a book increases, the sales of that book improves (the effect was statistically insignificant for bn.com, however)$^{5}$. The logic behind this correlation is that the online review valence influences the customer's evaluation of the product and consequently their decision whether or not to purchase the product. Although this study had somewhat concluded there to be a relationship in online review valence and product sales, other studies have found the relationship to be  inconsequential. Another study, exploring the relationship between word of mouth online and the box office revenues in the movie industry, found that there was more of an indirect relationship between the word of mouth valence and the revenue generated, in that a higher valence generates an increase in the word of mouth volume, which increases box office revenue$^{6}$. The contraditory nature of these studies highlights the complexity of online review systems and the interdependency with an industry's revenue.\n",
    "\n",
    "An interesting analysis that may be possible to explore in the project is the nature of user(gamers) reviews in comparison with critics reviews. A study exploring discrepencies between these two variables found that the user reviews displayed a bimodal distribution, as there was a tendency for gamers to give polarizing scores of 0 or 10, whereas critics ratings are more balanced. These differences are thought to be down to the sentimentality that gamers exhibit towards games and hence a more emotionally charged review, whereas critics review from a more balanced and professional standpoint$^{7}$. \n",
    "\n",
    "With the evolution of video game reviews online, the need to analyse the opinions of gamers and critics for companies to get a competitive edge is becoming an ideal solution in an extremely competitive market. The majority of work in sentiment analysis is focussed towards Twitter and other social media platforms, due to their freely available data and APIs as well as the volume of data that these platforms make available. Therefore, the volume of literature pertaining to the analysis of sentiment in video game reviews is small. \n",
    "\n",
    "Sentiment analysis, also known as opinion mining, is an extension of natural language processing (NLP) that extracts contextual information from the data to gain an understanding into the underlying opinions expressed. This suitably appeals to companies or organisations where profits are dependant on the consumer’s experience. Extraction of certain words such as adjectives, and determining the polarity of each word, gives a viable indication into the way words with positive and negative polarities are associated with certain sentiments$^{8}$. The article also addresses the challenges of the human language. Words that are negative by definition, can be used in a positive way when reviewing games (the examples of \"addictive\" and \"wicked\" are used). Another observation in a different paper was discovered in that a set of words can indicate a polarity of sentiment in a given context$^{9}$. In this paper, the authors analysed reviews and ratings scores to find that some words were positively or negatively correlated with certain sentiments in the reviews, calculated using a word-score correlation metric. \n",
    "\n",
    "Comparisons between different machine learning algorithms have been made in the literature, when analysing sentiment. One study analysed the accuracy of Guassian Naive Bayes classifier and Decision Trees, to find the Decision Trees provided better accuracy overall, even when the n-grams are modified.$^{10}$ It was interesting to note in this paper, the use of a Receiver Operating Characteristic curve (ROC) as a suitable way to visually represent the sensitivity and specificity of a model as the the threshold or number of features change. "
   ]
  },
  {
   "cell_type": "markdown",
   "id": "alleged-paper",
   "metadata": {},
   "source": [
    "### Importing libraries from python\n",
    "\n",
    "To prevent the unneccessary scrolling through the code to find where libraries have been imported, I have provided one cell below with all of the imported libraries. I find this is a more tidy and efficient way to manage my libraries. "
   ]
  },
  {
   "cell_type": "code",
   "execution_count": 2,
   "id": "dried-change",
   "metadata": {},
   "outputs": [],
   "source": [
    "from bs4 import BeautifulSoup\n",
    "import requests\n",
    "import pandas as pd\n",
    "from time import *\n",
    "from random import randint\n",
    "from tqdm.notebook import tqdm\n",
    "import numpy as np\n",
    "from dateutil.parser import parse\n",
    "import matplotlib.pyplot as plt\n",
    "%matplotlib inline\n",
    "import seaborn as sns\n",
    "import datetime as dt"
   ]
  },
  {
   "cell_type": "markdown",
   "id": "cb4f193a",
   "metadata": {},
   "source": [
    "## Metacritic.com\n"
   ]
  },
  {
   "cell_type": "markdown",
   "id": "c1926ddc",
   "metadata": {},
   "source": [
    "Metacritic is a review aggregator, a website that was launched in 2001 as a way to consolidate product reviews in a single location, and compiling the critics scores into a single metascore, which is the weighted average, considering publications that are higher in stature with more significance towards the weighted average$^{4}$.\n",
    "\n",
    "The website provides aggregated reviews for films, TV series, music albums and video games. Each product on the website has its own pages on the website, providing customers with metadata e.g. product genre, company producer/developer, rating etc. along with the metascore and user score. As previously stated, the metascore is the weight average based on the critics scores. The user score is established by taking the average of the user score distribution."
   ]
  },
  {
   "cell_type": "markdown",
   "id": "accurate-union",
   "metadata": {},
   "source": [
    "### Exploring metacritic and finding a sample of games to scrape"
   ]
  },
  {
   "cell_type": "markdown",
   "id": "parliamentary-aggregate",
   "metadata": {},
   "source": [
    "Although the website is easy to navigate, metacritic is complex in the options available for scraping. As soon as I started to explore the website, I was instantly made aware of the compartmentalisation of the games based on console, genre, rating, etc.\n",
    "\n",
    "This has meant that I needed to make a decision on where I wanted to scrape the data. As a video gaming fan, and an even bigger fan of roleplaying games, I decided to locate a sample of the roleplaying games using beautiful soup. I decided on the first ten pages which is all the roleplaying games from the last five years. The URL has been modified above to not include the page number so that the range of page numbers can be looped through. For pages 1-10 on the website, the link suffix will need to have numbers 0-9."
   ]
  },
  {
   "cell_type": "markdown",
   "id": "fcde231e",
   "metadata": {},
   "source": [
    "### Ethics of data use for metacritic.com"
   ]
  },
  {
   "cell_type": "markdown",
   "id": "3328b0c6",
   "metadata": {},
   "source": [
    "When I attempted to scrape large quantities of data on the website, my code would produce a connection reset error, where the host would abort the connection after a period of time. This meant that I was unable to scrape the relevant information using the code provided below. After my unsuccessful attempts to troubleshoot the error using help from the internet, I looked for any information on data mining/scraping in the \"terms of use\" section on metacritic.com. Under the section titled \"Access to Services and Accounts; Acceptable Use\", it states that: \n",
    "\n",
    "\"Without limiting any other provision in this Agreement, you agree not to do the following, or assist others to do the following:\n",
    "\n",
    "- Engage in unauthorized spidering, “scraping,” data mining or harvesting of Content, or use any other unauthorized automated means to gather data from or about the Services\"$^{11}$\n",
    "\n",
    "I decided to use an alternative website that harbours video game reviews but also provides numerous APIs for developers. OpenCritic (opencritic.com) is also a video game review aggregator.\n",
    "\n",
    "Although I can no longer scrape data from metacritic.com, I have left the code on the next section (*Code intended to be used to scrape metacritic.com*), displaying the function that I had intended use to scrape the relevant data."
   ]
  },
  {
   "cell_type": "markdown",
   "id": "58ec1f8b",
   "metadata": {},
   "source": [
    "## Code intended to be used to scrape metacritic.com"
   ]
  },
  {
   "cell_type": "code",
   "execution_count": null,
   "id": "honest-wesley",
   "metadata": {},
   "outputs": [],
   "source": [
    "URL = \"https://www.metacritic.com/browse/games/genre/date/role-playing/all?view=condensed&page=\"\n",
    "headers = {\"user-agent\":\"Chrome/91.0.4472.114\"}\n",
    "#a function has been defined to obtain a list of parsed website structures from the multiple pages on metacritic and get the page links for each game\n",
    "def get_links(URL, headers, no_of_pages=9):\n",
    "    full_game_links = []\n",
    "    page = 0\n",
    "    while page <= no_of_pages:\n",
    "        r = requests.get(URL + str(page), headers = headers)\n",
    "        #after each request, get a message detailing the status of the response\n",
    "        try:\n",
    "            r.raise_for_status()\n",
    "        except Exception as exc:\n",
    "            print(\"There was an issue with the request: %s \" % (exc))\n",
    "    \n",
    "        soup = BeautifulSoup(r.text)\n",
    "        games = soup.find_all(\"a\", class_=\"title\", href=True)\n",
    "        links = [game[\"href\"] for game in games]\n",
    "        for link in links:\n",
    "            full_game_links.append(link)\n",
    "        page += 1\n",
    "        sleep(3)\n",
    "    return full_game_links\n",
    "\n",
    "#links = get_links(URL, headers)\n",
    "#links"
   ]
  },
  {
   "cell_type": "markdown",
   "id": "turkish-access",
   "metadata": {},
   "source": [
    "When I scraped the game_links above, I managed to obtain the relevant results, but sequential attempts would randomly either scrape successfully or raise a connection reset error."
   ]
  },
  {
   "cell_type": "markdown",
   "id": "usual-transformation",
   "metadata": {},
   "source": [
    "From each video game webpage on metacritic, I created a function to scrape the following data:\n",
    "- Name of the game \n",
    "- The metascore\n",
    "- The summary \n",
    "- Release date\n",
    "- Developer \n",
    "- Genre \n",
    "- Critics reviews \n",
    "- Critics score\n",
    "\n",
    "The following cell provides the code for this now obselete function."
   ]
  },
  {
   "cell_type": "code",
   "execution_count": null,
   "id": "recorded-practitioner",
   "metadata": {},
   "outputs": [],
   "source": [
    "#create a function that scrapes the relevant information from each link\n",
    "def scraper(link_list, headers, jar=None):\n",
    "    \"\"\"Function defines a webscraper for metacritic game reviews. The purpose is to scrape specific pieces of information\n",
    "       from multiple video game pages and append that data to a list.\"\"\"\n",
    "    def critics_reviews(link, headers):\n",
    "        #access html for critics reviews page\n",
    "        r= requests.get(link, headers = headers)\n",
    "\n",
    "        soup = BeautifulSoup(r.text, 'html.parser')\n",
    "\n",
    "        review_text = soup.find_all('div', class_ = \"review_body\")\n",
    "        review_text_list = [r.text for r in review_text]\n",
    "        review_score = soup.find_all('div', class_ = \"review_grade\")\n",
    "        score = [s.text for s in review_score]\n",
    "        reviews = list(zip(review_text_list, score))\n",
    "        sleep(3)\n",
    "        return (reviews)\n",
    "        \n",
    "    data = []\n",
    "    for i, link in enumerate(tqdm(link_list)):\n",
    "        if jar:\n",
    "            r = requests.get(\"http://metacritic.com\" + link_list[i], cookies = jar, headers = headers)\n",
    "        else:\n",
    "            r = requests.get(\"http://metacritic.com\" + link_list[i], headers = headers)\n",
    "            jar = requests.cookies.RequestsCookieJar()\n",
    "        \n",
    "        soup = BeautifulSoup(r.text, 'html.parser')\n",
    "        \n",
    "        #get the name of the video game\n",
    "        name = (soup.find('a', class_=\"hover_none\").h1).text\n",
    "        \n",
    "        #get the name of the video game developer\n",
    "        developer = (soup.find(\"li\", class_ = \"summary_detail developer\").a).text\n",
    "        \n",
    "        #get the video game genre(s)\n",
    "        #can be multiple genres, so need to ensure that they are all included\n",
    "        for span_tag in soup.find_all('li', {'class':'summary_detail product_genre'}):\n",
    "            genre = span_tag.find_all('span', {'class':'data'})\n",
    "            genre_list = [g.text for g in genre]\n",
    "        \n",
    "        #get the date that the video game was released\n",
    "        for span_tag in soup.find_all('li', class_ = 'summary_detail release_data'):\n",
    "            release_date = span_tag.find_all('span', {'class':'data'})\n",
    "\n",
    "        release_date = release_date[0].text\n",
    "        \n",
    "        #get the video game summary. Some games don't have a review so will throw up an error\n",
    "        #the handler below will handle the AttributeError exception\n",
    "        try:\n",
    "            summary = (soup.find('span', {'class': 'blurb blurb_expanded'})).text\n",
    "        except AttributeError:\n",
    "            summary = \"None\"\n",
    "        \n",
    "        #get the metascore, which is the weighted average score\n",
    "        metascore = (soup.find('span', {'itemprop': \"ratingValue\"})).text\n",
    "        \n",
    "        #find link for critics_reviews\n",
    "        #this link will be used in the critics_review function\n",
    "        critics = soup.find_all('a', class_ = \"action\", href=True)\n",
    "        for link in critics:\n",
    "            if link.text == \"Critic Reviews\":\n",
    "                critics_link = \"http://metacritic.com\" + link['href']\n",
    "        \n",
    "        reviews = critics_reviews(critics_link, headers)\n",
    "        \n",
    "        #loop through the list of reviews. For each review, collate the information above, along with the review, into\n",
    "        #a dictionary and append to the data list\n",
    "        for review in reviews:\n",
    "            data.append({\"Name\": name, \n",
    "                         \"Developer\": developer, \n",
    "                         \"genre\": genre_list, \n",
    "                         \"release_date\": release_date, \n",
    "                         \"Summary\": summary, \n",
    "                         \"Metascore\": metascore, \n",
    "                         \"Critic_review\": review[0],\n",
    "                         \"Critic_score\": review[1]})\n",
    "            \n",
    "        #allow a period of time between each request to prevent overloading the server\n",
    "        sleep(3)\n",
    "    return data\n",
    "\n",
    "#data = scraper(links[:50], headers)\n",
    "#data"
   ]
  },
  {
   "cell_type": "markdown",
   "id": "5fbe629a",
   "metadata": {},
   "source": [
    "## Data collection from OpenCritic.com"
   ]
  },
  {
   "cell_type": "markdown",
   "id": "0aa99489",
   "metadata": {},
   "source": [
    "After examination of the website's contents and its layout, I had decided to scrape the reviews of 100 games; more specifically, the first 100 games ordered by the number of reviews.\n",
    "\n",
    "Upon reading the terms of use on opencritic, there was no statement insisting that the scraping of data was prohibited, with APIs for the website available upon request$^{12}$. Therefore, I proceeded to write my code.\n"
   ]
  },
  {
   "cell_type": "code",
   "execution_count": null,
   "id": "b33976cb",
   "metadata": {},
   "outputs": [],
   "source": [
    "URL = \"https://opencritic.com/browse/all/all-time/num-reviews?page=\"#page number has been left off the end of the link\n",
    "headers = {\"user-agent\": \"Mozilla/5.0 (Windows NT 10.0; Win64; x64) AppleWebKit/537.36 (KHTML, like Gecko) Chrome/91.0.4472.114 Safari/537.36\"}\n",
    "#use while loop to access first five pages and append game page links to empty list\n",
    "game_links = []\n",
    "page = 1\n",
    "while page <= 5:\n",
    "    r = requests.get(URL + str(page), headers = headers)\n",
    "    #print a statement if an error is raised during the http request\n",
    "    try:\n",
    "        r.raise_for_status()\n",
    "    except Exception as exc:\n",
    "        print(\"There was an issue with the request: %s \" % (exc))\n",
    "        \n",
    "    soup = BeautifulSoup(r.text, \"html.parser\")\n",
    "    games = soup.find_all('div', \"game-name col\")\n",
    "    #loop through items in games and append the corresponding link (href) to list\n",
    "    for game in games:\n",
    "        x= game.find(href=True)\n",
    "        game_links.append(x['href'])\n",
    "    page += 1\n",
    "    sleep(3)\n"
   ]
  },
  {
   "cell_type": "markdown",
   "id": "7964c87d",
   "metadata": {},
   "source": [
    "The code above is my initial scrape to obtain the links to the first 100 video games, ordered by the number of reviews. In the code, a while loop is used to request the html for the first five pages, concatenating the page number onto the URL string, search for the URL links using the __find_all__ function, and appending those links to a list before incrementing a 1 onto the page variable to access the html source code for the next page. If there are any exceptions with the http request, then the exception will be handled by printing a message. The list of links have been collected, based on the printed statement below, documenting the length of the game_links list."
   ]
  },
  {
   "cell_type": "code",
   "execution_count": null,
   "id": "turned-hawaiian",
   "metadata": {},
   "outputs": [],
   "source": [
    "print(\"There are\",str(len(game_links)),\"video game links in the list\")"
   ]
  },
  {
   "cell_type": "markdown",
   "id": "fd2ba4a5",
   "metadata": {},
   "source": [
    "Having a look at opencritic.com, I decided to obtain the following to analyse and use as a means to devise a project question:\n",
    "\n",
    "- Name of the game\n",
    "- Developer\n",
    "- Publisher\n",
    "- Genre\n",
    "- Release date\n",
    "- Description\n",
    "- Critics score\n",
    "- Critics reviews\n",
    "- Data of review\n",
    "\n",
    "A function has been produced to capture this data:"
   ]
  },
  {
   "cell_type": "code",
   "execution_count": null,
   "id": "d7e51f1f",
   "metadata": {},
   "outputs": [],
   "source": [
    "def scrape_opencritic(link_list, headers = headers):\n",
    "    \"\"\" A function that creates a list of dictionaries that contain all of the relevant information about a video game from\n",
    "    opencritic.com. Each dictionary will hold a critics review summary, review score and date of review, along with the \n",
    "    generic information about the video game.\"\"\"\n",
    "    #the list that will hold the scraped data\n",
    "    data = []\n",
    "    def get_critics_reviews(link, headers = headers):\n",
    "        \"\"\"A function that retieves the critics reviews, scores and date of review for that particular game. This information\n",
    "        is then mapped into a list.\"\"\"\n",
    "        r = requests.get(\"http://opencritic.com\" + link, headers = headers)\n",
    "        \n",
    "        try:\n",
    "            r.raise_for_status()\n",
    "        except Exception as exc:\n",
    "            print(\"There was an issue with the request: %s \" % (exc))\n",
    "            \n",
    "        soup = BeautifulSoup(r.text, 'html.parser') \n",
    "        \n",
    "        #get the number of pages of critics reviews \n",
    "        find_pages = soup.find('span', class_ = \"px-4\").text\n",
    "        no_of_pages = find_pages[-2:].strip()#total number of pages is the last one or two indexes of the string\n",
    "        no_of_pages = int(no_of_pages)\n",
    "        \n",
    "        #create empty lists to store the review summary, date of review and the critic's review score for each review\n",
    "        critics_reviews = []\n",
    "        date_of_review = []\n",
    "        scores = []\n",
    "        #access each page and scrape the relevant data by appending to one of the lists above\n",
    "        page = 1\n",
    "        while page <= no_of_pages:\n",
    "            r1 = requests.get(\"http://opencritic.com\" + link +'?page=' + str(page), headers = headers)\n",
    "            \n",
    "            try:\n",
    "                r1.raise_for_status()\n",
    "            except Exception as exc:\n",
    "                print(\"There was an issue with the request: %s \" % (exc))\n",
    "            \n",
    "            soup1 = BeautifulSoup(r1.text, 'html.parser')\n",
    "            #access review text summary\n",
    "            reviews = soup1.find_all('p', class_ = \"mb-0 wspw\")\n",
    "            for review in reviews:\n",
    "                critics_reviews.append(review.text)\n",
    "            #access date of the review\n",
    "            dates = soup1.find_all('div', class_ = \"text-right date-block\")\n",
    "            for date in dates:\n",
    "                date_of_review.append(date.text)\n",
    "            #access the review score, if available\n",
    "            #some of the scores were in the form of stars(and a different html tag) so were not scraped\n",
    "            score = soup1.find_all('app-score-display')\n",
    "            for s in score:\n",
    "                scores.append(s.text)\n",
    "            #increment a page to prevent an infinite loop    \n",
    "            page+=1\n",
    "                \n",
    "        complete_reviews = list(zip(critics_reviews, date_of_review, scores))#joins all 3 lists together\n",
    "        #reduce overloading of the server and exceeding the maximum limits\n",
    "        sleep(3)\n",
    "        return complete_reviews\n",
    "            \n",
    "    for i, link in enumerate(tqdm(link_list)):\n",
    "        #for each link, concatenate onto opencritic.com\n",
    "        r = requests.get(\"http://opencritic.com\" + link_list[i], headers = headers)\n",
    "        \n",
    "        try:\n",
    "            r.raise_for_status()\n",
    "        except Exception as exc:\n",
    "            print(\"There was an issue with the request: %s \" % (exc))\n",
    "        \n",
    "        soup = BeautifulSoup(r.text, 'html.parser')\n",
    "        \n",
    "        #get the name of the video game\n",
    "        #some of the older webpages (2016/2017) have a different layout and class name for accessing the name\n",
    "        #exception handling seemed like the logical solution to bypass the exception\n",
    "        try:\n",
    "            name = (soup.find('h1', class_=\"game-name mb-0\")).text\n",
    "        except AttributeError:\n",
    "            name = (soup.find('div', class_ = \"card-title\").h1).text\n",
    "        \n",
    "        #get the publisher, developer and genre, if available\n",
    "        #not all of the games had all three, and the categories are all contained within one class with no way to\n",
    "        #differentiate between them\n",
    "        #used the text in <strong> tag to differentiate between then genre, developer and publisher\n",
    "        x = soup.find_all('p', class_ = \"mb-2\")\n",
    "        \n",
    "        #publisher\n",
    "        for i in x:\n",
    "            if \"Publisher\" in i.find('strong').text:\n",
    "                publisher = i.find('span').text\n",
    "                break\n",
    "            else:\n",
    "                publisher = np.nan\n",
    "\n",
    "        #developer\n",
    "        for i in x:\n",
    "            if \"Developer\" in i.find('strong').text:\n",
    "                developer = i.find('span').text\n",
    "                break\n",
    "            else:\n",
    "                developer = np.nan\n",
    "\n",
    "        #genre\n",
    "        #some games have more than one genre, therefore an empty list is used to contain them\n",
    "        #if no genre is available, then an empty list is returned\n",
    "        genre = []\n",
    "        for i in x:\n",
    "            if \"Genre\" in i.find('strong').text:\n",
    "                for g in i.find_all('span'):\n",
    "                    genre.append(g.text)\n",
    "                break\n",
    "    \n",
    "            \n",
    "        #there are multiple release dates, depending on the platform\n",
    "        #the first release date in the html code is the earliest date, which will be the one to use\n",
    "        release_date = (soup.find('span', class_ = \"text-right col platform-release-date\")).text\n",
    "        \n",
    "        #the game's description\n",
    "        description = (soup.find('div', class_ = \"col description\").div).text\n",
    "        \n",
    "        #the average score given by critics for the game. this is found on the video game's main page\n",
    "        critics_ave_score = soup.find('div', class_ = \"inner-orb\").text\n",
    "        \n",
    "        #get the link to access critics reviews, so this can be used to get the critics reviews in the \n",
    "        #get_critics_reviews function\n",
    "        critics_link = (soup.find('span', class_ = \"mb-2\").a)['href']\n",
    "        \n",
    "        #use the critics_link variable in the get_critics_reviews function \n",
    "        critics_reviews = get_critics_reviews(critics_link)\n",
    "        \n",
    "        #for each review in the critics_reviews list, append a dictionary of the video game's name, developer, publisher,\n",
    "        #genre, release_date, description, average critics score, critic review, review date and critic's score\n",
    "        #(if available)\n",
    "        for review in critics_reviews:\n",
    "            data.append({\"name\": name, \n",
    "                         \"developer\": developer, \n",
    "                         \"publisher\": publisher,\n",
    "                         \"genre\": genre,\n",
    "                         \"release_date\": release_date, \n",
    "                         \"description\": description, \n",
    "                         \"critics_average_score\": critics_ave_score, \n",
    "                         \"critic_review\": review[0],\n",
    "                         \"date_of_review\": review[1],\n",
    "                         \"critics_score\": review[2]})\n",
    "            \n",
    "        #allow a period of time between each request to prevent overloading the server\n",
    "        sleep(3)\n",
    "    return data"
   ]
  },
  {
   "cell_type": "markdown",
   "id": "23232797",
   "metadata": {},
   "source": [
    "### Explanation of the function\n",
    "\n",
    "With an idea on the layout of the Dataframe, and the number of reviews per game, it was logical that each row or record would hold a review. Therefore, each row would have information on the video that the review correspondeded to. Within the function, a function is created to extract the review score, review date, and review summary. However, in order for this information to be retrieved, a link to the page of reviews had to be found and used. The extraction of the rest of the data e.g. the video game name and the game summary, was fairly trivial. This was all collated into a list of dictionaries, which would be a suitable format for conversion into a dataframe.\n",
    "\n",
    "The scrape of the game_links list took approximately an hour. For the purpose of this proposal, another scrape has been provided for a smaller number of the links, which takes a matter of minutes."
   ]
  },
  {
   "cell_type": "code",
   "execution_count": null,
   "id": "04de0a33",
   "metadata": {},
   "outputs": [],
   "source": [
    "#this scrape took approximately an hour for 100 video games.\n",
    "#In the cell below, data has been provided from a scrape on a smaller portion of the video games (5 links)\n",
    "data = scrape_opencritic(game_links)"
   ]
  },
  {
   "cell_type": "code",
   "execution_count": null,
   "id": "a7683fa0",
   "metadata": {},
   "outputs": [],
   "source": [
    "#this scrape is on a subset of the game_links list to show the function working\n",
    "small_data = scrape_opencritic(game_links[:5])\n",
    "small_df = pd.DataFrame(small_data)\n",
    "small_df"
   ]
  },
  {
   "cell_type": "code",
   "execution_count": null,
   "id": "440f3f79",
   "metadata": {},
   "outputs": [],
   "source": [
    "df = pd.DataFrame(data)\n",
    "df.head()"
   ]
  },
  {
   "cell_type": "code",
   "execution_count": null,
   "id": "9e8ed47a",
   "metadata": {},
   "outputs": [],
   "source": [
    "df.to_csv('opencritic_data.csv')"
   ]
  },
  {
   "cell_type": "markdown",
   "id": "0b076d69",
   "metadata": {},
   "source": [
    "## Data preprocessing"
   ]
  },
  {
   "cell_type": "code",
   "execution_count": 3,
   "id": "59e3e8ee",
   "metadata": {},
   "outputs": [
    {
     "data": {
      "text/html": [
       "<div>\n",
       "<style scoped>\n",
       "    .dataframe tbody tr th:only-of-type {\n",
       "        vertical-align: middle;\n",
       "    }\n",
       "\n",
       "    .dataframe tbody tr th {\n",
       "        vertical-align: top;\n",
       "    }\n",
       "\n",
       "    .dataframe thead th {\n",
       "        text-align: right;\n",
       "    }\n",
       "</style>\n",
       "<table border=\"1\" class=\"dataframe\">\n",
       "  <thead>\n",
       "    <tr style=\"text-align: right;\">\n",
       "      <th></th>\n",
       "      <th>name</th>\n",
       "      <th>developer</th>\n",
       "      <th>publisher</th>\n",
       "      <th>genre</th>\n",
       "      <th>release_date</th>\n",
       "      <th>description</th>\n",
       "      <th>critics_average_score</th>\n",
       "      <th>critic_review</th>\n",
       "      <th>date_of_review</th>\n",
       "      <th>critics_score</th>\n",
       "    </tr>\n",
       "  </thead>\n",
       "  <tbody>\n",
       "    <tr>\n",
       "      <th>0</th>\n",
       "      <td>The Outer Worlds</td>\n",
       "      <td>Obsidian Entertainment</td>\n",
       "      <td>Private Division</td>\n",
       "      <td>['RPG']</td>\n",
       "      <td>Oct 25, 2019</td>\n",
       "      <td>The Outer Worlds is a new single-player first-...</td>\n",
       "      <td>82</td>\n",
       "      <td>There's a category of games I think of as Satu...</td>\n",
       "      <td>Oct 22, 2019</td>\n",
       "      <td>79 / 100</td>\n",
       "    </tr>\n",
       "    <tr>\n",
       "      <th>1</th>\n",
       "      <td>The Outer Worlds</td>\n",
       "      <td>Obsidian Entertainment</td>\n",
       "      <td>Private Division</td>\n",
       "      <td>['RPG']</td>\n",
       "      <td>Oct 25, 2019</td>\n",
       "      <td>The Outer Worlds is a new single-player first-...</td>\n",
       "      <td>82</td>\n",
       "      <td>With The Outer Worlds, Obsidian has found its ...</td>\n",
       "      <td>Oct 22, 2019</td>\n",
       "      <td>8.5 / 10.0</td>\n",
       "    </tr>\n",
       "    <tr>\n",
       "      <th>2</th>\n",
       "      <td>The Outer Worlds</td>\n",
       "      <td>Obsidian Entertainment</td>\n",
       "      <td>Private Division</td>\n",
       "      <td>['RPG']</td>\n",
       "      <td>Oct 25, 2019</td>\n",
       "      <td>The Outer Worlds is a new single-player first-...</td>\n",
       "      <td>82</td>\n",
       "      <td>A conventional, easygoing scifi RPG with sligh...</td>\n",
       "      <td>Oct 22, 2019</td>\n",
       "      <td>No Recommendation / Blank</td>\n",
       "    </tr>\n",
       "    <tr>\n",
       "      <th>3</th>\n",
       "      <td>The Outer Worlds</td>\n",
       "      <td>Obsidian Entertainment</td>\n",
       "      <td>Private Division</td>\n",
       "      <td>['RPG']</td>\n",
       "      <td>Oct 25, 2019</td>\n",
       "      <td>The Outer Worlds is a new single-player first-...</td>\n",
       "      <td>82</td>\n",
       "      <td>A deep, funny, and intricately designed RPG re...</td>\n",
       "      <td>Oct 29, 2019</td>\n",
       "      <td>9 / 10.0</td>\n",
       "    </tr>\n",
       "    <tr>\n",
       "      <th>4</th>\n",
       "      <td>The Outer Worlds</td>\n",
       "      <td>Obsidian Entertainment</td>\n",
       "      <td>Private Division</td>\n",
       "      <td>['RPG']</td>\n",
       "      <td>Oct 25, 2019</td>\n",
       "      <td>The Outer Worlds is a new single-player first-...</td>\n",
       "      <td>82</td>\n",
       "      <td>The Outer Worlds marks Obsidian operating at t...</td>\n",
       "      <td>Oct 22, 2019</td>\n",
       "      <td>9 / 10</td>\n",
       "    </tr>\n",
       "  </tbody>\n",
       "</table>\n",
       "</div>"
      ],
      "text/plain": [
       "                name               developer         publisher    genre  \\\n",
       "0  The Outer Worlds   Obsidian Entertainment  Private Division  ['RPG']   \n",
       "1  The Outer Worlds   Obsidian Entertainment  Private Division  ['RPG']   \n",
       "2  The Outer Worlds   Obsidian Entertainment  Private Division  ['RPG']   \n",
       "3  The Outer Worlds   Obsidian Entertainment  Private Division  ['RPG']   \n",
       "4  The Outer Worlds   Obsidian Entertainment  Private Division  ['RPG']   \n",
       "\n",
       "   release_date                                        description  \\\n",
       "0  Oct 25, 2019  The Outer Worlds is a new single-player first-...   \n",
       "1  Oct 25, 2019  The Outer Worlds is a new single-player first-...   \n",
       "2  Oct 25, 2019  The Outer Worlds is a new single-player first-...   \n",
       "3  Oct 25, 2019  The Outer Worlds is a new single-player first-...   \n",
       "4  Oct 25, 2019  The Outer Worlds is a new single-player first-...   \n",
       "\n",
       "   critics_average_score                                      critic_review  \\\n",
       "0                     82  There's a category of games I think of as Satu...   \n",
       "1                     82  With The Outer Worlds, Obsidian has found its ...   \n",
       "2                     82  A conventional, easygoing scifi RPG with sligh...   \n",
       "3                     82  A deep, funny, and intricately designed RPG re...   \n",
       "4                     82  The Outer Worlds marks Obsidian operating at t...   \n",
       "\n",
       "  date_of_review              critics_score  \n",
       "0   Oct 22, 2019                   79 / 100  \n",
       "1   Oct 22, 2019                 8.5 / 10.0  \n",
       "2   Oct 22, 2019  No Recommendation / Blank  \n",
       "3   Oct 29, 2019                   9 / 10.0  \n",
       "4   Oct 22, 2019                     9 / 10  "
      ]
     },
     "execution_count": 3,
     "metadata": {},
     "output_type": "execute_result"
    }
   ],
   "source": [
    "df = pd.read_csv(\"opencritic_data.csv\", index_col='Unnamed: 0')\n",
    "df.head()"
   ]
  },
  {
   "cell_type": "code",
   "execution_count": 4,
   "id": "f071bdc8",
   "metadata": {},
   "outputs": [
    {
     "name": "stdout",
     "output_type": "stream",
     "text": [
      "<class 'pandas.core.frame.DataFrame'>\n",
      "Int64Index: 15344 entries, 0 to 15343\n",
      "Data columns (total 10 columns):\n",
      " #   Column                 Non-Null Count  Dtype \n",
      "---  ------                 --------------  ----- \n",
      " 0   name                   15344 non-null  object\n",
      " 1   developer              12268 non-null  object\n",
      " 2   publisher              12543 non-null  object\n",
      " 3   genre                  15344 non-null  object\n",
      " 4   release_date           15344 non-null  object\n",
      " 5   description            15344 non-null  object\n",
      " 6   critics_average_score  15344 non-null  int64 \n",
      " 7   critic_review          15337 non-null  object\n",
      " 8   date_of_review         15344 non-null  object\n",
      " 9   critics_score          12925 non-null  object\n",
      "dtypes: int64(1), object(9)\n",
      "memory usage: 1.3+ MB\n"
     ]
    }
   ],
   "source": [
    "df.info()"
   ]
  },
  {
   "cell_type": "markdown",
   "id": "b7f1b4a7",
   "metadata": {},
   "source": [
    "The columns that require processing:\n",
    "- Genre: some of the punctuation needs to be removed.\n",
    "- Release date and date of review: to be converted to a datetime format by pandas\n",
    "- critics_score: some of these rows have no values or are not scored. A uniform score is to be established and any values that indicate no score to be converted to null values."
   ]
  },
  {
   "cell_type": "code",
   "execution_count": 5,
   "id": "44ca1690",
   "metadata": {},
   "outputs": [],
   "source": [
    "#clean the genre column\n",
    "punctuation = \"[]'\"\n",
    "for i in punctuation:\n",
    "    df['genre'] = df['genre'].apply(lambda x: x.replace(i, \"\"))"
   ]
  },
  {
   "cell_type": "code",
   "execution_count": 6,
   "id": "55441ff8",
   "metadata": {},
   "outputs": [],
   "source": [
    "#df.genre.unique()\n",
    "#some of the genres are separated by 2 commas"
   ]
  },
  {
   "cell_type": "code",
   "execution_count": 7,
   "id": "f2ec92c9",
   "metadata": {},
   "outputs": [],
   "source": [
    "#the 2 commas are replaced by a single comma\n",
    "df['genre'] = df['genre'].apply(lambda x: x.replace(\", ,\", \",\"))\n",
    "#df.genre.unique()"
   ]
  },
  {
   "cell_type": "code",
   "execution_count": 8,
   "id": "873bfc81",
   "metadata": {},
   "outputs": [
    {
     "data": {
      "text/html": [
       "<div>\n",
       "<style scoped>\n",
       "    .dataframe tbody tr th:only-of-type {\n",
       "        vertical-align: middle;\n",
       "    }\n",
       "\n",
       "    .dataframe tbody tr th {\n",
       "        vertical-align: top;\n",
       "    }\n",
       "\n",
       "    .dataframe thead th {\n",
       "        text-align: right;\n",
       "    }\n",
       "</style>\n",
       "<table border=\"1\" class=\"dataframe\">\n",
       "  <thead>\n",
       "    <tr style=\"text-align: right;\">\n",
       "      <th></th>\n",
       "      <th>name</th>\n",
       "      <th>developer</th>\n",
       "      <th>publisher</th>\n",
       "      <th>genre</th>\n",
       "      <th>release_date</th>\n",
       "      <th>description</th>\n",
       "      <th>critics_average_score</th>\n",
       "      <th>critic_review</th>\n",
       "      <th>date_of_review</th>\n",
       "      <th>critics_score</th>\n",
       "    </tr>\n",
       "  </thead>\n",
       "  <tbody>\n",
       "    <tr>\n",
       "      <th>0</th>\n",
       "      <td>The Outer Worlds</td>\n",
       "      <td>Obsidian Entertainment</td>\n",
       "      <td>Private Division</td>\n",
       "      <td>RPG</td>\n",
       "      <td>2019-10-25</td>\n",
       "      <td>The Outer Worlds is a new single-player first-...</td>\n",
       "      <td>82</td>\n",
       "      <td>There's a category of games I think of as Satu...</td>\n",
       "      <td>2019-10-22 00:00:00</td>\n",
       "      <td>79 / 100</td>\n",
       "    </tr>\n",
       "    <tr>\n",
       "      <th>1</th>\n",
       "      <td>The Outer Worlds</td>\n",
       "      <td>Obsidian Entertainment</td>\n",
       "      <td>Private Division</td>\n",
       "      <td>RPG</td>\n",
       "      <td>2019-10-25</td>\n",
       "      <td>The Outer Worlds is a new single-player first-...</td>\n",
       "      <td>82</td>\n",
       "      <td>With The Outer Worlds, Obsidian has found its ...</td>\n",
       "      <td>2019-10-22 00:00:00</td>\n",
       "      <td>8.5 / 10.0</td>\n",
       "    </tr>\n",
       "    <tr>\n",
       "      <th>2</th>\n",
       "      <td>The Outer Worlds</td>\n",
       "      <td>Obsidian Entertainment</td>\n",
       "      <td>Private Division</td>\n",
       "      <td>RPG</td>\n",
       "      <td>2019-10-25</td>\n",
       "      <td>The Outer Worlds is a new single-player first-...</td>\n",
       "      <td>82</td>\n",
       "      <td>A conventional, easygoing scifi RPG with sligh...</td>\n",
       "      <td>2019-10-22 00:00:00</td>\n",
       "      <td>No Recommendation / Blank</td>\n",
       "    </tr>\n",
       "    <tr>\n",
       "      <th>3</th>\n",
       "      <td>The Outer Worlds</td>\n",
       "      <td>Obsidian Entertainment</td>\n",
       "      <td>Private Division</td>\n",
       "      <td>RPG</td>\n",
       "      <td>2019-10-25</td>\n",
       "      <td>The Outer Worlds is a new single-player first-...</td>\n",
       "      <td>82</td>\n",
       "      <td>A deep, funny, and intricately designed RPG re...</td>\n",
       "      <td>2019-10-29 00:00:00</td>\n",
       "      <td>9 / 10.0</td>\n",
       "    </tr>\n",
       "    <tr>\n",
       "      <th>4</th>\n",
       "      <td>The Outer Worlds</td>\n",
       "      <td>Obsidian Entertainment</td>\n",
       "      <td>Private Division</td>\n",
       "      <td>RPG</td>\n",
       "      <td>2019-10-25</td>\n",
       "      <td>The Outer Worlds is a new single-player first-...</td>\n",
       "      <td>82</td>\n",
       "      <td>The Outer Worlds marks Obsidian operating at t...</td>\n",
       "      <td>2019-10-22 00:00:00</td>\n",
       "      <td>9 / 10</td>\n",
       "    </tr>\n",
       "  </tbody>\n",
       "</table>\n",
       "</div>"
      ],
      "text/plain": [
       "                name               developer         publisher genre  \\\n",
       "0  The Outer Worlds   Obsidian Entertainment  Private Division   RPG   \n",
       "1  The Outer Worlds   Obsidian Entertainment  Private Division   RPG   \n",
       "2  The Outer Worlds   Obsidian Entertainment  Private Division   RPG   \n",
       "3  The Outer Worlds   Obsidian Entertainment  Private Division   RPG   \n",
       "4  The Outer Worlds   Obsidian Entertainment  Private Division   RPG   \n",
       "\n",
       "  release_date                                        description  \\\n",
       "0   2019-10-25  The Outer Worlds is a new single-player first-...   \n",
       "1   2019-10-25  The Outer Worlds is a new single-player first-...   \n",
       "2   2019-10-25  The Outer Worlds is a new single-player first-...   \n",
       "3   2019-10-25  The Outer Worlds is a new single-player first-...   \n",
       "4   2019-10-25  The Outer Worlds is a new single-player first-...   \n",
       "\n",
       "   critics_average_score                                      critic_review  \\\n",
       "0                     82  There's a category of games I think of as Satu...   \n",
       "1                     82  With The Outer Worlds, Obsidian has found its ...   \n",
       "2                     82  A conventional, easygoing scifi RPG with sligh...   \n",
       "3                     82  A deep, funny, and intricately designed RPG re...   \n",
       "4                     82  The Outer Worlds marks Obsidian operating at t...   \n",
       "\n",
       "        date_of_review              critics_score  \n",
       "0  2019-10-22 00:00:00                   79 / 100  \n",
       "1  2019-10-22 00:00:00                 8.5 / 10.0  \n",
       "2  2019-10-22 00:00:00  No Recommendation / Blank  \n",
       "3  2019-10-29 00:00:00                   9 / 10.0  \n",
       "4  2019-10-22 00:00:00                     9 / 10  "
      ]
     },
     "execution_count": 8,
     "metadata": {},
     "output_type": "execute_result"
    }
   ],
   "source": [
    "#convert release_date and date_of_review columns into datetime format\n",
    "df['release_date'] = df['release_date'].apply(lambda x: parse(x))\n",
    "df['date_of_review'] = df['date_of_review'].apply(lambda x: parse(x))\n",
    "df.head()"
   ]
  },
  {
   "cell_type": "code",
   "execution_count": 9,
   "id": "9c30046b",
   "metadata": {},
   "outputs": [
    {
     "name": "stdout",
     "output_type": "stream",
     "text": [
      "<class 'pandas.core.frame.DataFrame'>\n",
      "Int64Index: 15333 entries, 0 to 15343\n",
      "Data columns (total 10 columns):\n",
      " #   Column                 Non-Null Count  Dtype         \n",
      "---  ------                 --------------  -----         \n",
      " 0   name                   15333 non-null  object        \n",
      " 1   developer              12259 non-null  object        \n",
      " 2   publisher              12534 non-null  object        \n",
      " 3   genre                  15333 non-null  object        \n",
      " 4   release_date           15333 non-null  datetime64[ns]\n",
      " 5   description            15333 non-null  object        \n",
      " 6   critics_average_score  15333 non-null  int64         \n",
      " 7   critic_review          15326 non-null  object        \n",
      " 8   date_of_review         15333 non-null  object        \n",
      " 9   critics_score          12916 non-null  object        \n",
      "dtypes: datetime64[ns](1), int64(1), object(8)\n",
      "memory usage: 1.3+ MB\n"
     ]
    }
   ],
   "source": [
    "#df.sort_values(by=['date_of_review']).head(15)\n",
    "#there are 11 rows with the wrong date of review, as some of the dates were incorrect in the first place. these can be removed.\n",
    "idx = list(df.sort_values(by=['date_of_review']).head(11).index)\n",
    "df.drop(idx, axis=0, inplace=True)\n",
    "df.info()"
   ]
  },
  {
   "cell_type": "markdown",
   "id": "94907e91",
   "metadata": {},
   "source": [
    "### Cleaning the critic_scores column\n",
    "\n",
    "The way reviews have been scored vary in the dataframe, with some reviews not providing a score. It is important to ensure that when converting the score from a score out of 10 to a score out of 100, that the conversions are performed on the correct score, i.e. a score of 7/100 isn't mistaken for 7/10 and upscaled to 70/100. To prevent this, the order of cleaning is important."
   ]
  },
  {
   "cell_type": "code",
   "execution_count": 10,
   "id": "ed2a63e9",
   "metadata": {
    "scrolled": true
   },
   "outputs": [],
   "source": [
    "#replace percentage punctuation\n",
    "#convert all to strings\n",
    "df['critics_score'] = df['critics_score'].astype(str)\n",
    "df['critics_score'] = df['critics_score'].apply(lambda x: x.replace('%', ''))"
   ]
  },
  {
   "cell_type": "code",
   "execution_count": 11,
   "id": "11c91657",
   "metadata": {},
   "outputs": [],
   "source": [
    "#remove \"/ 10.0\" from string, convert any scores in \"scores/ 10.0\" to a score out of 100 and convert to a float\n",
    "df['critics_score'] = df['critics_score'].apply(lambda x: float(x.replace('/ 10.0', '')) * 10 if '/ 10.0' in x else x)\n",
    "df['critics_score'] = df['critics_score'].astype(str)"
   ]
  },
  {
   "cell_type": "code",
   "execution_count": 12,
   "id": "e684834d",
   "metadata": {},
   "outputs": [],
   "source": [
    "#remove '/ 100.0' from scores that contain this string and convert to a float\n",
    "df['critics_score'] = df['critics_score'].apply(lambda x: float(x.replace('/ 100.0', '')) if '/ 100.0' in x else x)\n",
    "df['critics_score'] = df['critics_score'].astype(str)"
   ]
  },
  {
   "cell_type": "code",
   "execution_count": 13,
   "id": "70706d5a",
   "metadata": {},
   "outputs": [],
   "source": [
    "#remove '/ 100' from score that contain this string\n",
    "df['critics_score'] = df['critics_score'].apply(lambda x: float(x.replace('/ 100', '')) if '/ 100' in x else x)\n",
    "df['critics_score'] = df['critics_score'].astype(str)"
   ]
  },
  {
   "cell_type": "code",
   "execution_count": 14,
   "id": "d74923d8",
   "metadata": {},
   "outputs": [],
   "source": [
    "#convert 'scores/ 10' to scores out of 100\n",
    "df['critics_score'] = df['critics_score'].apply(lambda x: float(x.replace('/ 10', '')) * 10 if '/ 10' in x else x)\n",
    "df['critics_score'] = df['critics_score'].astype(str)"
   ]
  },
  {
   "cell_type": "code",
   "execution_count": 15,
   "id": "fe5155c1",
   "metadata": {},
   "outputs": [],
   "source": [
    "#convert 'scores/ 5.0' to scores out of 100\n",
    "df['critics_score'] = df['critics_score'].apply(lambda x: float(x.replace('/ 5.0', '')) * 20 if '/ 5.0' in x else x)\n",
    "df['critics_score'] = df['critics_score'].astype(str)"
   ]
  },
  {
   "cell_type": "code",
   "execution_count": 16,
   "id": "19dae6ab",
   "metadata": {},
   "outputs": [],
   "source": [
    "#convert 'scores/ 5' to scores out of 100\n",
    "df['critics_score'] = df['critics_score'].apply(lambda x: float(x.replace('/ 5', '')) * 20 if '/ 5' in x else x)\n",
    "df['critics_score'] = df['critics_score'].astype(str)"
   ]
  },
  {
   "cell_type": "code",
   "execution_count": 17,
   "id": "9125d03b",
   "metadata": {},
   "outputs": [],
   "source": [
    "#convert 'scores/ 20' to scores out of 100\n",
    "df['critics_score'] = df['critics_score'].apply(lambda x: float(x.replace('/ 20', '')) * 5 if '/ 20' in x else x)\n",
    "df['critics_score'] = df['critics_score'].astype(str)"
   ]
  },
  {
   "cell_type": "code",
   "execution_count": 18,
   "id": "2d7a0a3a",
   "metadata": {},
   "outputs": [],
   "source": [
    "#convert all of the values to floating points.\n",
    "#if a value attempts to throw an exception, then that string will be converted to NaN\n",
    "df['critics_score'] = pd.to_numeric(df['critics_score'], errors = 'coerce')"
   ]
  },
  {
   "cell_type": "code",
   "execution_count": 19,
   "id": "4c9acf9c",
   "metadata": {},
   "outputs": [
    {
     "data": {
      "text/plain": [
       "array([ 79.,  85.,  nan,  90.,  93.,  60.,  80.,  89.,  82.,  88.,  75.,\n",
       "        91.,  65.,  52.,  70., 100.,  78.,  83.,  95.,  92.,  98.,  94.,\n",
       "        84.,  59.,  86.,  87.,  96.,  69.,  97.,  99.,  77.,  73.,  74.,\n",
       "        68.,  72.,  35.,  50.,  40.,  30.,  76.,  81.,  54.,  55.,  45.,\n",
       "        51.,  63.,  66.,  67.,  37.,  58.,  56.,  20.,  61.,  44.,  53.,\n",
       "        64.,  71.,  62.,  43.,  47.,  38.,  15.,  57.,  48.,  49.])"
      ]
     },
     "execution_count": 19,
     "metadata": {},
     "output_type": "execute_result"
    }
   ],
   "source": [
    "df['critics_score'].unique()\n",
    "#the critics scores have all been converted to a score out of 100"
   ]
  },
  {
   "cell_type": "code",
   "execution_count": 20,
   "id": "91d61d1f",
   "metadata": {},
   "outputs": [
    {
     "data": {
      "text/html": [
       "<div>\n",
       "<style scoped>\n",
       "    .dataframe tbody tr th:only-of-type {\n",
       "        vertical-align: middle;\n",
       "    }\n",
       "\n",
       "    .dataframe tbody tr th {\n",
       "        vertical-align: top;\n",
       "    }\n",
       "\n",
       "    .dataframe thead th {\n",
       "        text-align: right;\n",
       "    }\n",
       "</style>\n",
       "<table border=\"1\" class=\"dataframe\">\n",
       "  <thead>\n",
       "    <tr style=\"text-align: right;\">\n",
       "      <th></th>\n",
       "      <th>name</th>\n",
       "      <th>developer</th>\n",
       "      <th>publisher</th>\n",
       "      <th>genre</th>\n",
       "      <th>release_date</th>\n",
       "      <th>description</th>\n",
       "      <th>critics_average_score</th>\n",
       "      <th>critic_review</th>\n",
       "      <th>date_of_review</th>\n",
       "      <th>critics_score</th>\n",
       "    </tr>\n",
       "  </thead>\n",
       "  <tbody>\n",
       "    <tr>\n",
       "      <th>2</th>\n",
       "      <td>The Outer Worlds</td>\n",
       "      <td>Obsidian Entertainment</td>\n",
       "      <td>Private Division</td>\n",
       "      <td>RPG</td>\n",
       "      <td>2019-10-25</td>\n",
       "      <td>The Outer Worlds is a new single-player first-...</td>\n",
       "      <td>82</td>\n",
       "      <td>A conventional, easygoing scifi RPG with sligh...</td>\n",
       "      <td>2019-10-22 00:00:00</td>\n",
       "      <td>NaN</td>\n",
       "    </tr>\n",
       "    <tr>\n",
       "      <th>5</th>\n",
       "      <td>The Outer Worlds</td>\n",
       "      <td>Obsidian Entertainment</td>\n",
       "      <td>Private Division</td>\n",
       "      <td>RPG</td>\n",
       "      <td>2019-10-25</td>\n",
       "      <td>The Outer Worlds is a new single-player first-...</td>\n",
       "      <td>82</td>\n",
       "      <td>Finding your way through (or around) various p...</td>\n",
       "      <td>2019-10-22 00:00:00</td>\n",
       "      <td>NaN</td>\n",
       "    </tr>\n",
       "    <tr>\n",
       "      <th>8</th>\n",
       "      <td>The Outer Worlds</td>\n",
       "      <td>Obsidian Entertainment</td>\n",
       "      <td>Private Division</td>\n",
       "      <td>RPG</td>\n",
       "      <td>2019-10-25</td>\n",
       "      <td>The Outer Worlds is a new single-player first-...</td>\n",
       "      <td>82</td>\n",
       "      <td>The Outer Worlds is so impactful that it made ...</td>\n",
       "      <td>2019-10-22 00:00:00</td>\n",
       "      <td>NaN</td>\n",
       "    </tr>\n",
       "    <tr>\n",
       "      <th>9</th>\n",
       "      <td>The Outer Worlds</td>\n",
       "      <td>Obsidian Entertainment</td>\n",
       "      <td>Private Division</td>\n",
       "      <td>RPG</td>\n",
       "      <td>2019-10-25</td>\n",
       "      <td>The Outer Worlds is a new single-player first-...</td>\n",
       "      <td>82</td>\n",
       "      <td>In an alternate reality where modern Fallout r...</td>\n",
       "      <td>2019-10-22 00:00:00</td>\n",
       "      <td>NaN</td>\n",
       "    </tr>\n",
       "    <tr>\n",
       "      <th>10</th>\n",
       "      <td>The Outer Worlds</td>\n",
       "      <td>Obsidian Entertainment</td>\n",
       "      <td>Private Division</td>\n",
       "      <td>RPG</td>\n",
       "      <td>2019-10-25</td>\n",
       "      <td>The Outer Worlds is a new single-player first-...</td>\n",
       "      <td>82</td>\n",
       "      <td>The Outer Worlds on Switch is too heavily comp...</td>\n",
       "      <td>2019-10-22 00:00:00</td>\n",
       "      <td>NaN</td>\n",
       "    </tr>\n",
       "    <tr>\n",
       "      <th>...</th>\n",
       "      <td>...</td>\n",
       "      <td>...</td>\n",
       "      <td>...</td>\n",
       "      <td>...</td>\n",
       "      <td>...</td>\n",
       "      <td>...</td>\n",
       "      <td>...</td>\n",
       "      <td>...</td>\n",
       "      <td>...</td>\n",
       "      <td>...</td>\n",
       "    </tr>\n",
       "    <tr>\n",
       "      <th>15324</th>\n",
       "      <td>For Honor</td>\n",
       "      <td>NaN</td>\n",
       "      <td>Ubisoft</td>\n",
       "      <td>Action, RPG</td>\n",
       "      <td>2017-02-14</td>\n",
       "      <td>Enter the chaos of war as a bold Knight, bruta...</td>\n",
       "      <td>77</td>\n",
       "      <td>For Honor is a game that requires a lot of pra...</td>\n",
       "      <td>2017-02-19 00:00:00</td>\n",
       "      <td>NaN</td>\n",
       "    </tr>\n",
       "    <tr>\n",
       "      <th>15330</th>\n",
       "      <td>For Honor</td>\n",
       "      <td>NaN</td>\n",
       "      <td>Ubisoft</td>\n",
       "      <td>Action, RPG</td>\n",
       "      <td>2017-02-14</td>\n",
       "      <td>Enter the chaos of war as a bold Knight, bruta...</td>\n",
       "      <td>77</td>\n",
       "      <td>When everything lines up, For Honor is a bruta...</td>\n",
       "      <td>2017-02-24 00:00:00</td>\n",
       "      <td>NaN</td>\n",
       "    </tr>\n",
       "    <tr>\n",
       "      <th>15331</th>\n",
       "      <td>For Honor</td>\n",
       "      <td>NaN</td>\n",
       "      <td>Ubisoft</td>\n",
       "      <td>Action, RPG</td>\n",
       "      <td>2017-02-14</td>\n",
       "      <td>Enter the chaos of war as a bold Knight, bruta...</td>\n",
       "      <td>77</td>\n",
       "      <td>For Honor is a genuine surprise and occassiona...</td>\n",
       "      <td>2017-02-22 00:00:00</td>\n",
       "      <td>NaN</td>\n",
       "    </tr>\n",
       "    <tr>\n",
       "      <th>15336</th>\n",
       "      <td>For Honor</td>\n",
       "      <td>NaN</td>\n",
       "      <td>Ubisoft</td>\n",
       "      <td>Action, RPG</td>\n",
       "      <td>2017-02-14</td>\n",
       "      <td>Enter the chaos of war as a bold Knight, bruta...</td>\n",
       "      <td>77</td>\n",
       "      <td>I won’t lie, I died a lot in For Honor. But in...</td>\n",
       "      <td>2017-02-19 00:00:00</td>\n",
       "      <td>NaN</td>\n",
       "    </tr>\n",
       "    <tr>\n",
       "      <th>15341</th>\n",
       "      <td>For Honor</td>\n",
       "      <td>NaN</td>\n",
       "      <td>Ubisoft</td>\n",
       "      <td>Action, RPG</td>\n",
       "      <td>2017-02-14</td>\n",
       "      <td>Enter the chaos of war as a bold Knight, bruta...</td>\n",
       "      <td>77</td>\n",
       "      <td>As an arena sword fighter For Honor does an ad...</td>\n",
       "      <td>2017-02-13 00:00:00</td>\n",
       "      <td>NaN</td>\n",
       "    </tr>\n",
       "  </tbody>\n",
       "</table>\n",
       "<p>3569 rows × 10 columns</p>\n",
       "</div>"
      ],
      "text/plain": [
       "                    name               developer         publisher  \\\n",
       "2      The Outer Worlds   Obsidian Entertainment  Private Division   \n",
       "5      The Outer Worlds   Obsidian Entertainment  Private Division   \n",
       "8      The Outer Worlds   Obsidian Entertainment  Private Division   \n",
       "9      The Outer Worlds   Obsidian Entertainment  Private Division   \n",
       "10     The Outer Worlds   Obsidian Entertainment  Private Division   \n",
       "...                  ...                     ...               ...   \n",
       "15324         For Honor                      NaN           Ubisoft   \n",
       "15330         For Honor                      NaN           Ubisoft   \n",
       "15331         For Honor                      NaN           Ubisoft   \n",
       "15336         For Honor                      NaN           Ubisoft   \n",
       "15341         For Honor                      NaN           Ubisoft   \n",
       "\n",
       "             genre release_date  \\\n",
       "2              RPG   2019-10-25   \n",
       "5              RPG   2019-10-25   \n",
       "8              RPG   2019-10-25   \n",
       "9              RPG   2019-10-25   \n",
       "10             RPG   2019-10-25   \n",
       "...            ...          ...   \n",
       "15324  Action, RPG   2017-02-14   \n",
       "15330  Action, RPG   2017-02-14   \n",
       "15331  Action, RPG   2017-02-14   \n",
       "15336  Action, RPG   2017-02-14   \n",
       "15341  Action, RPG   2017-02-14   \n",
       "\n",
       "                                             description  \\\n",
       "2      The Outer Worlds is a new single-player first-...   \n",
       "5      The Outer Worlds is a new single-player first-...   \n",
       "8      The Outer Worlds is a new single-player first-...   \n",
       "9      The Outer Worlds is a new single-player first-...   \n",
       "10     The Outer Worlds is a new single-player first-...   \n",
       "...                                                  ...   \n",
       "15324  Enter the chaos of war as a bold Knight, bruta...   \n",
       "15330  Enter the chaos of war as a bold Knight, bruta...   \n",
       "15331  Enter the chaos of war as a bold Knight, bruta...   \n",
       "15336  Enter the chaos of war as a bold Knight, bruta...   \n",
       "15341  Enter the chaos of war as a bold Knight, bruta...   \n",
       "\n",
       "       critics_average_score  \\\n",
       "2                         82   \n",
       "5                         82   \n",
       "8                         82   \n",
       "9                         82   \n",
       "10                        82   \n",
       "...                      ...   \n",
       "15324                     77   \n",
       "15330                     77   \n",
       "15331                     77   \n",
       "15336                     77   \n",
       "15341                     77   \n",
       "\n",
       "                                           critic_review       date_of_review  \\\n",
       "2      A conventional, easygoing scifi RPG with sligh...  2019-10-22 00:00:00   \n",
       "5      Finding your way through (or around) various p...  2019-10-22 00:00:00   \n",
       "8      The Outer Worlds is so impactful that it made ...  2019-10-22 00:00:00   \n",
       "9      In an alternate reality where modern Fallout r...  2019-10-22 00:00:00   \n",
       "10     The Outer Worlds on Switch is too heavily comp...  2019-10-22 00:00:00   \n",
       "...                                                  ...                  ...   \n",
       "15324  For Honor is a game that requires a lot of pra...  2017-02-19 00:00:00   \n",
       "15330  When everything lines up, For Honor is a bruta...  2017-02-24 00:00:00   \n",
       "15331  For Honor is a genuine surprise and occassiona...  2017-02-22 00:00:00   \n",
       "15336  I won’t lie, I died a lot in For Honor. But in...  2017-02-19 00:00:00   \n",
       "15341  As an arena sword fighter For Honor does an ad...  2017-02-13 00:00:00   \n",
       "\n",
       "       critics_score  \n",
       "2                NaN  \n",
       "5                NaN  \n",
       "8                NaN  \n",
       "9                NaN  \n",
       "10               NaN  \n",
       "...              ...  \n",
       "15324            NaN  \n",
       "15330            NaN  \n",
       "15331            NaN  \n",
       "15336            NaN  \n",
       "15341            NaN  \n",
       "\n",
       "[3569 rows x 10 columns]"
      ]
     },
     "execution_count": 20,
     "metadata": {},
     "output_type": "execute_result"
    }
   ],
   "source": [
    "df[df['critics_score'].isnull()]"
   ]
  },
  {
   "cell_type": "markdown",
   "id": "e7b4ee8d",
   "metadata": {},
   "source": [
    "There are 3569 critics reviews that haven't got a score. For the moment, these are being kept in the dataframe as null values, as they will not affect the statistical analysis, but these can be removed in the main project."
   ]
  },
  {
   "cell_type": "markdown",
   "id": "e762d790",
   "metadata": {},
   "source": [
    "## Data analysis"
   ]
  },
  {
   "cell_type": "markdown",
   "id": "85a2ee18",
   "metadata": {},
   "source": [
    "A framework of questions used to interrogate the data with before asking the main project question:\n",
    "- What is the mean and median of the critics_average_score?\n",
    "- What does the distribution of the critics_average_score look like?\n",
    "- Does a certain genre or group of genres have a better average_critics_score?\n",
    "- Do some developers outperform others in their average critics score?"
   ]
  },
  {
   "cell_type": "markdown",
   "id": "807e8a32",
   "metadata": {},
   "source": [
    "### Mean and median of the average critic scores"
   ]
  },
  {
   "cell_type": "code",
   "execution_count": 21,
   "id": "19b267de",
   "metadata": {},
   "outputs": [
    {
     "name": "stdout",
     "output_type": "stream",
     "text": [
      "The mean and median of the average critics score are 80.34 and 80.72 , respectively.\n"
     ]
    }
   ],
   "source": [
    "#mean and median of the average_critics_score\n",
    "game_scores = df.groupby(['critics_average_score']).mean()\n",
    "mean_ave_critic_score = np.mean(game_scores.values)\n",
    "median_ave_critic_score = np.median(game_scores.values)\n",
    "print(\"The mean and median of the average critics score are\",round(mean_ave_critic_score, 2),\"and\",\\\n",
    "      round(median_ave_critic_score, 2),\", respectively.\")"
   ]
  },
  {
   "cell_type": "markdown",
   "id": "4484ed70",
   "metadata": {},
   "source": [
    "### Distribution of the average critic scores"
   ]
  },
  {
   "cell_type": "markdown",
   "id": "0631c225",
   "metadata": {},
   "source": [
    "The mean and median of the of the average critic score are very similar. Therefore, there should be a normal distribution around the mean."
   ]
  },
  {
   "cell_type": "code",
   "execution_count": 22,
   "id": "5f450a1a",
   "metadata": {},
   "outputs": [
    {
     "data": {
      "image/png": "[encoded data removed]",
      "text/plain": [
       "<Figure size 432x288 with 1 Axes>"
      ]
     },
     "metadata": {
      "needs_background": "light"
     },
     "output_type": "display_data"
    }
   ],
   "source": [
    "plt.hist(game_scores, color = 'y')\n",
    "plt.axvline(x=mean_ave_critic_score, color = 'black', ls = '--')\n",
    "plt.title(\"Histogram displaying the average critic scores for the 100 video games\")\n",
    "plt.text(81,4.8,'Mean', bbox = {'facecolor':'white'})\n",
    "plt.ylabel('Frequency')\n",
    "plt.xlabel('Average critics score')\n",
    "\n",
    "plt.show()"
   ]
  },
  {
   "cell_type": "markdown",
   "id": "60610ea8",
   "metadata": {},
   "source": [
    "After reviewing the histogram, there doesn't appear to be a normal distribution, and there doesn't appear to be noticeable skewness to the distribution. The histogram resembles more of a uniform distribution. From this sample, there is a large range of scores from 70% to 90/95%, which emphasises a good variation of scores from a relatively small sample. Collecting a larger sample of video games could potentially give a clearer distribution."
   ]
  },
  {
   "cell_type": "markdown",
   "id": "ab9f54a0",
   "metadata": {},
   "source": [
    "### Mean of the average critic scores by genre"
   ]
  },
  {
   "cell_type": "code",
   "execution_count": 23,
   "id": "2538bc58",
   "metadata": {},
   "outputs": [
    {
     "data": {
      "text/plain": [
       "genre\n",
       "Simulation, Racing                              92.538462\n",
       "Puzzle, Platformer                              90.960000\n",
       "Puzzle, Adventure, Platformer                   90.549550\n",
       "Adventure, Third-Person Shooter                 90.198312\n",
       "Adventure, Platformer                           89.986667\n",
       "Sports                                          89.365672\n",
       "Action, Platformer                              88.065217\n",
       "RPG, Third-Person Shooter                       87.606383\n",
       "Fighting, Action                                86.764706\n",
       "Action, Strategy                                86.443548\n",
       "Horror                                          86.351351\n",
       "Fighting, Action, Arcade                        86.227273\n",
       "Third-Person Shooter, Action, Adventure         85.840000\n",
       "Fighting                                        85.714894\n",
       "Action, Third-Person Shooter                    84.692308\n",
       "Action                                          84.482759\n",
       "Action, Adventure, RPG                          84.429358\n",
       "Action, Adventure                               84.363557\n",
       "MMO, First-Person Shooter                       83.753731\n",
       "Adventure                                       83.465517\n",
       "Action, RPG                                     83.068966\n",
       "RPG, Strategy                                   82.521429\n",
       "                                                82.253870\n",
       "Platformer                                      81.752149\n",
       "RPG, First-Person Shooter                       81.590000\n",
       "Action, First-Person Shooter                    81.558824\n",
       "Interactive Story, RPG                          81.412844\n",
       "RPG                                             81.350515\n",
       "Horror, First-Person Shooter                    80.794872\n",
       "Action, Horror                                  79.539062\n",
       "Action, First-Person Shooter, Vehicle Combat    79.438127\n",
       "First-Person Shooter                            78.565217\n",
       "Adventure, Horror                               76.821429\n",
       "Adventure, Action                               75.160000\n",
       "Horror, Adventure                               74.859259\n",
       "Adventure, RPG, Third-Person Shooter            74.110236\n",
       "Adventure, RPG                                  73.202985\n",
       "Survival, Adventure                             69.333333\n",
       "RPG, Action                                     67.604839\n",
       "Name: critics_score, dtype: float64"
      ]
     },
     "execution_count": 23,
     "metadata": {},
     "output_type": "execute_result"
    }
   ],
   "source": [
    "#group by genre\n",
    "by_genre = df.groupby(['genre']).critics_score.mean()\n",
    "by_genre.sort_values(ascending=False)"
   ]
  },
  {
   "cell_type": "code",
   "execution_count": 24,
   "id": "4a25e92c",
   "metadata": {},
   "outputs": [
    {
     "data": {
      "image/png": "[encoded data removed]",
      "text/plain": [
       "<Figure size 432x288 with 1 Axes>"
      ]
     },
     "metadata": {
      "needs_background": "light"
     },
     "output_type": "display_data"
    }
   ],
   "source": [
    "fig, ax = plt.subplots()\n",
    "sns.barplot(x = by_genre.index, y = by_genre.values)\n",
    "ax.set_xticklabels(labels = by_genre.index, rotation=90)\n",
    "ax.set_ylim(bottom=40)\n",
    "ax.set_ylabel('mean of the average critic scores')\n",
    "ax.set_title('Average values of the average critic scores by genre')\n",
    "\n",
    "plt.show()"
   ]
  },
  {
   "cell_type": "markdown",
   "id": "d7ecc8ef",
   "metadata": {},
   "source": [
    "Games that involve puzzles tend to score highly. RPG and adventure games are scrutinized more due to their frequent appearance in the lowest 7 means. Simulation and racing games are scored the highest. The high scores for simulation and racing games could lend to the need to emulate the real life, and succeeding, which is possibly a less challenging concept than creating an original idea and executing the gameplay correctly in the other categories.\n",
    "\n",
    "Apart from these observations, there are no other observable patterns in this data grouped by genre. There is variability in this data, however, which is suitable to work with."
   ]
  },
  {
   "cell_type": "markdown",
   "id": "29f68507",
   "metadata": {},
   "source": [
    "### Mean of the average critic scores by developer"
   ]
  },
  {
   "cell_type": "code",
   "execution_count": 25,
   "id": "86596fc5",
   "metadata": {},
   "outputs": [
    {
     "data": {
      "text/plain": [
       "developer\n",
       "SIE Santa Monica Studio    95.251908\n",
       "Playground Games           92.538462\n",
       "Playdead                   90.549550\n",
       "FromSoftware               90.025000\n",
       "Guerrilla                  89.792000\n",
       "                             ...    \n",
       "DICE,                      68.187500\n",
       "Machine Games,             68.104348\n",
       "Cyanide                    68.053097\n",
       "Experiment 101             67.604839\n",
       "Bethesda Game Studios      54.685185\n",
       "Name: critics_score, Length: 65, dtype: float64"
      ]
     },
     "execution_count": 25,
     "metadata": {},
     "output_type": "execute_result"
    }
   ],
   "source": [
    "developer = df.groupby(['developer']).critics_score.mean()\n",
    "developer.sort_values(ascending=False)"
   ]
  },
  {
   "cell_type": "markdown",
   "id": "a72bef79",
   "metadata": {},
   "source": [
    "It does appear that some developers outperform other when it comes to the average critic score. It is interesting to see that Bethesda Game Studios and DICE are in the bottom five as they are high profile developing studios. Could it be that their reputation is the reason for the lower scores? A critic's impartiality shouldn't be a cause for these low scores but there is a possibility that critics enter a review with a sense of expectation. It is a credible hypothesis but not possible to explore with a small sample of games. A possible sentiment analysis on reviews written for games provided by these developers could shed light on the reasoning behind these low review scores."
   ]
  },
  {
   "cell_type": "code",
   "execution_count": null,
   "id": "94644ecc",
   "metadata": {},
   "outputs": [],
   "source": [
    "df.to_csv('opencritic_data_cleaned.csv')"
   ]
  },
  {
   "cell_type": "markdown",
   "id": "8d9f3305",
   "metadata": {},
   "source": [
    "## Conclusion and project question"
   ]
  },
  {
   "cell_type": "markdown",
   "id": "addb66db",
   "metadata": {},
   "source": [
    "The explorative data analysis gives clear indication that video game data collected from opencritic has an element of variation that requires further interrogation and exploration. From a business perspective, a viable question to ask of the data is: can game developers use the language of critic reviews to conclusively evaluate the quality of their gaming products? This will be question that the project will be designed around.\n",
    "\n",
    "To achieve a conclusion to this question, the data will need to be processed in a way that is suitable for analysis. This processing will require the removal of punctuation, lemmatising the text and removing any stopwords that could interfere with the analysis. \n",
    "\n",
    "Short, uninformative words will be removed to avoid false signals being mistaken for a prediction in the classifier. The 'stop_words' argument will be incorporated into the term-frequency and inverse-document-frequency. A Naive Bayes classification model and Decision Trees regression model will be used to train the data to make predictions of future review summaries of their scores. An analysis of the accuracy will determine the viability of the model. The Naive Bayes classifier is based on the Bayes theorem, where the outcome or probability of an event is determined based in prior knowledge of conditions that are possibly related in some way to the event. It is assumed that all of the input features are independent, which will be the case for this project.\n",
    "\n",
    "As stated in the literature review, a potential limitation of classifying reviews is the use of the English language in an unorthodox nature. For example, referring to a video game positively using a word that is generally regarded in the English dictionary as a negative term. Another limitation is the inability to produce results of the classification prior to the release of a video game. However, many games are able to make updates to their games after release so a continuous maintenance and evolution of a game using reviews is a possibility."
   ]
  },
  {
   "cell_type": "markdown",
   "id": "under-declaration",
   "metadata": {},
   "source": [
    "## References (Vanvoucer format)\n",
    "\n",
    "1. Rotten Tomatoes. 45 Video Game Movies Ranked Worst to Best. Available from: https://editorial.rottentomatoes.com/guide/video-game-movies-ranked-worst-to-best/\n",
    "2. Tripp S, Grueber M, Simkins J, Yetter D. Videos Games in the 21st Century: The 2020 Economic Impact Report. TEConomy Partners, LLC. The Entertainment Software Association. 2020. pp 15.\n",
    "3. Wikipedia. Lisits of review aggregators and review sites. Available from: https://develop.consumerium.org/wiki/Lists_of_review_aggregators_and_review_sites#Games_review_aggregators\n",
    "4. Metacritic. How do you compute Metascores? Available from: https://cbsi.secure.force.com/CBSi/articles/en_US/Knowledge/How-do-you-compute-Metascores?retURL=%2FCBSi%2Fapex%2Fknowledgehome&popup=false&categories=CBS_Interactive%3AMetacritic&template=template_metacritic&referer=metacritic.com&data=&cfs=default\n",
    "5. Chevalier JA, Mayzlin D. The effect of word of mouth on sales: Online book reviews. J Market Res. 2006;43(3):345-354.\n",
    "6. Duan W, Gu B, Whinston AB. The dynamics of online word-of-mouth and product sales—An empirical investigation of the movie industry. J Retail. 2008;84(2):233-242.\n",
    "7. Santos T, Lemmerich F, Strohmaier M, Helic D. What's in a review: Discrepancies between expert and amateur reviews of video games on metacritic. Proceedings of the ACM on human-computer interaction. 2019;3(CSCW):1-22.\n",
    "8. Zagal JP, Tomuro N, Shepitsen A. Natural language processing in game studies research: An overview. Simulation & gaming. 2012;43(3):356-373.\n",
    "9. Drake A, Ringger E, Ventura D. Sentiment Regression: Using Real-Valued Scores to Summarize Overall Document Sentiment. IEEE. 2008: 152–157. \n",
    "10. Zuo Z. Sentiment Analysis of Steam Review Datasets using Naive Bayes and Decision Tree Classifier. Illinois Digital Environment for Access to Learning and Scholarship. 2018.\n",
    "11. Red ventures. Terms of Use. Available from: https://www.redventures.com/legal/cmg-terms-of-use.html\n",
    "12. OpenCritic. Terms of Use. Available from: https://opencritic.com/terms\n",
    "\n"
   ]
  }
 ],
 "metadata": {
  "kernelspec": {
   "display_name": "Python 3",
   "language": "python",
   "name": "python3"
  },
  "language_info": {
   "codemirror_mode": {
    "name": "ipython",
    "version": 3
   },
   "file_extension": ".py",
   "mimetype": "text/x-python",
   "name": "python",
   "nbconvert_exporter": "python",
   "pygments_lexer": "ipython3",
   "version": "3.7.4"
  }
 },
 "nbformat": 4,
 "nbformat_minor": 5
}
